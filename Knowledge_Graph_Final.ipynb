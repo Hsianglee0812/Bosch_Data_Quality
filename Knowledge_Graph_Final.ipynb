{
  "nbformat": 4,
  "nbformat_minor": 0,
  "metadata": {
    "colab": {
      "provenance": [],
      "gpuType": "T4",
      "collapsed_sections": [
        "TV3CwV2EM6qx",
        "LCGUCwejUz_1",
        "NiE1YBg5CPvh",
        "6ca6yRmSpBGb",
        "al5IUyLWVt85"
      ]
    },
    "kernelspec": {
      "name": "python3",
      "display_name": "Python 3"
    },
    "language_info": {
      "name": "python"
    },
    "accelerator": "GPU"
  },
  "cells": [
    {
      "cell_type": "markdown",
      "source": [
        "# Install Packages and azure connection"
      ],
      "metadata": {
        "id": "TV3CwV2EM6qx"
      }
    },
    {
      "cell_type": "code",
      "execution_count": null,
      "metadata": {
        "colab": {
          "base_uri": "https://localhost:8080/"
        },
        "id": "FfirdH3O2dnS",
        "outputId": "1e37a97e-ee84-4fd5-f72d-732c38b3a63f"
      },
      "outputs": [
        {
          "output_type": "stream",
          "name": "stdout",
          "text": [
            "\u001b[?25l   \u001b[90m━━━━━━━━━━━━━━━━━━━━━━━━━━━━━━━━━━━━━━━━\u001b[0m \u001b[32m0.0/2.5 MB\u001b[0m \u001b[31m?\u001b[0m eta \u001b[36m-:--:--\u001b[0m\r\u001b[2K   \u001b[91m━━━━━━━━━━━━━━━━━━━━━━━━━\u001b[0m\u001b[91m╸\u001b[0m\u001b[90m━━━━━━━━━━━━━━\u001b[0m \u001b[32m1.6/2.5 MB\u001b[0m \u001b[31m51.6 MB/s\u001b[0m eta \u001b[36m0:00:01\u001b[0m\r\u001b[2K   \u001b[91m━━━━━━━━━━━━━━━━━━━━━━━━━━━━━━━━━━━━━━━\u001b[0m\u001b[91m╸\u001b[0m \u001b[32m2.5/2.5 MB\u001b[0m \u001b[31m57.5 MB/s\u001b[0m eta \u001b[36m0:00:01\u001b[0m\r\u001b[2K   \u001b[90m━━━━━━━━━━━━━━━━━━━━━━━━━━━━━━━━━━━━━━━━\u001b[0m \u001b[32m2.5/2.5 MB\u001b[0m \u001b[31m34.8 MB/s\u001b[0m eta \u001b[36m0:00:00\u001b[0m\n",
            "\u001b[?25h\u001b[?25l   \u001b[90m━━━━━━━━━━━━━━━━━━━━━━━━━━━━━━━━━━━━━━━━\u001b[0m \u001b[32m0.0/62.4 kB\u001b[0m \u001b[31m?\u001b[0m eta \u001b[36m-:--:--\u001b[0m\r\u001b[2K   \u001b[90m━━━━━━━━━━━━━━━━━━━━━━━━━━━━━━━━━━━━━━━━\u001b[0m \u001b[32m62.4/62.4 kB\u001b[0m \u001b[31m3.7 MB/s\u001b[0m eta \u001b[36m0:00:00\u001b[0m\n",
            "\u001b[?25h\u001b[?25l   \u001b[90m━━━━━━━━━━━━━━━━━━━━━━━━━━━━━━━━━━━━━━━━\u001b[0m \u001b[32m0.0/209.2 kB\u001b[0m \u001b[31m?\u001b[0m eta \u001b[36m-:--:--\u001b[0m\r\u001b[2K   \u001b[90m━━━━━━━━━━━━━━━━━━━━━━━━━━━━━━━━━━━━━━━━\u001b[0m \u001b[32m209.2/209.2 kB\u001b[0m \u001b[31m13.8 MB/s\u001b[0m eta \u001b[36m0:00:00\u001b[0m\n",
            "\u001b[?25h\u001b[?25l   \u001b[90m━━━━━━━━━━━━━━━━━━━━━━━━━━━━━━━━━━━━━━━━\u001b[0m \u001b[32m0.0/312.3 kB\u001b[0m \u001b[31m?\u001b[0m eta \u001b[36m-:--:--\u001b[0m\r\u001b[2K   \u001b[90m━━━━━━━━━━━━━━━━━━━━━━━━━━━━━━━━━━━━━━━━\u001b[0m \u001b[32m312.3/312.3 kB\u001b[0m \u001b[31m17.3 MB/s\u001b[0m eta \u001b[36m0:00:00\u001b[0m\n",
            "\u001b[?25h\u001b[?25l   \u001b[90m━━━━━━━━━━━━━━━━━━━━━━━━━━━━━━━━━━━━━━━━\u001b[0m \u001b[32m0.0/177.2 kB\u001b[0m \u001b[31m?\u001b[0m eta \u001b[36m-:--:--\u001b[0m\r\u001b[2K   \u001b[90m━━━━━━━━━━━━━━━━━━━━━━━━━━━━━━━━━━━━━━━━\u001b[0m \u001b[32m177.2/177.2 kB\u001b[0m \u001b[31m10.7 MB/s\u001b[0m eta \u001b[36m0:00:00\u001b[0m\n",
            "\u001b[2K   \u001b[90m━━━━━━━━━━━━━━━━━━━━━━━━━━━━━━━━━━━━━━━━\u001b[0m \u001b[32m1.2/1.2 MB\u001b[0m \u001b[31m37.8 MB/s\u001b[0m eta \u001b[36m0:00:00\u001b[0m\n",
            "\u001b[2K   \u001b[90m━━━━━━━━━━━━━━━━━━━━━━━━━━━━━━━━━━━━━━━━\u001b[0m \u001b[32m44.4/44.4 kB\u001b[0m \u001b[31m3.3 MB/s\u001b[0m eta \u001b[36m0:00:00\u001b[0m\n",
            "\u001b[2K   \u001b[90m━━━━━━━━━━━━━━━━━━━━━━━━━━━━━━━━━━━━━━━━\u001b[0m \u001b[32m50.9/50.9 kB\u001b[0m \u001b[31m4.3 MB/s\u001b[0m eta \u001b[36m0:00:00\u001b[0m\n",
            "\u001b[?25h"
          ]
        }
      ],
      "source": [
        "!pip install --quiet langchain langchain_community langchain-openai langchain-experimental neo4j py2neo openai tiktoken"
      ]
    },
    {
      "cell_type": "code",
      "source": [
        "from langchain_openai import AzureChatOpenAI"
      ],
      "metadata": {
        "id": "AA_bZjIW5w_o"
      },
      "execution_count": null,
      "outputs": []
    },
    {
      "cell_type": "code",
      "source": [
        "pip install -U :class:`~langchain-openai"
      ],
      "metadata": {
        "colab": {
          "base_uri": "https://localhost:8080/"
        },
        "id": "Tug07JQD5skk",
        "outputId": "22f4ff7a-eb4b-48a4-c261-59ccd98ac01d"
      },
      "execution_count": null,
      "outputs": [
        {
          "output_type": "stream",
          "name": "stdout",
          "text": [
            "/bin/bash: -c: line 1: unexpected EOF while looking for matching ``'\n",
            "/bin/bash: -c: line 2: syntax error: unexpected end of file\n"
          ]
        }
      ]
    },
    {
      "cell_type": "code",
      "source": [
        "pip install json-repair"
      ],
      "metadata": {
        "colab": {
          "base_uri": "https://localhost:8080/"
        },
        "id": "kSz9urv75uGw",
        "outputId": "f716ae60-e817-4e33-a5d7-4e111b5ee393"
      },
      "execution_count": null,
      "outputs": [
        {
          "output_type": "stream",
          "name": "stdout",
          "text": [
            "Collecting json-repair\n",
            "  Downloading json_repair-0.42.0-py3-none-any.whl.metadata (11 kB)\n",
            "Downloading json_repair-0.42.0-py3-none-any.whl (21 kB)\n",
            "Installing collected packages: json-repair\n",
            "Successfully installed json-repair-0.42.0\n"
          ]
        }
      ]
    },
    {
      "cell_type": "code",
      "source": [
        "pip install -U langchain langchain-openai"
      ],
      "metadata": {
        "colab": {
          "base_uri": "https://localhost:8080/"
        },
        "id": "MsljzrTPWPYO",
        "outputId": "2f79e9ee-2917-4170-a606-0c1697258388"
      },
      "execution_count": null,
      "outputs": [
        {
          "output_type": "stream",
          "name": "stdout",
          "text": [
            "Requirement already satisfied: langchain in /usr/local/lib/python3.11/dist-packages (0.3.24)\n",
            "Requirement already satisfied: langchain-openai in /usr/local/lib/python3.11/dist-packages (0.3.14)\n",
            "Requirement already satisfied: langchain-core<1.0.0,>=0.3.55 in /usr/local/lib/python3.11/dist-packages (from langchain) (0.3.55)\n",
            "Requirement already satisfied: langchain-text-splitters<1.0.0,>=0.3.8 in /usr/local/lib/python3.11/dist-packages (from langchain) (0.3.8)\n",
            "Requirement already satisfied: langsmith<0.4,>=0.1.17 in /usr/local/lib/python3.11/dist-packages (from langchain) (0.3.33)\n",
            "Requirement already satisfied: pydantic<3.0.0,>=2.7.4 in /usr/local/lib/python3.11/dist-packages (from langchain) (2.11.3)\n",
            "Requirement already satisfied: SQLAlchemy<3,>=1.4 in /usr/local/lib/python3.11/dist-packages (from langchain) (2.0.40)\n",
            "Requirement already satisfied: requests<3,>=2 in /usr/local/lib/python3.11/dist-packages (from langchain) (2.32.3)\n",
            "Requirement already satisfied: PyYAML>=5.3 in /usr/local/lib/python3.11/dist-packages (from langchain) (6.0.2)\n",
            "Requirement already satisfied: openai<2.0.0,>=1.68.2 in /usr/local/lib/python3.11/dist-packages (from langchain-openai) (1.75.0)\n",
            "Requirement already satisfied: tiktoken<1,>=0.7 in /usr/local/lib/python3.11/dist-packages (from langchain-openai) (0.9.0)\n",
            "Requirement already satisfied: tenacity!=8.4.0,<10.0.0,>=8.1.0 in /usr/local/lib/python3.11/dist-packages (from langchain-core<1.0.0,>=0.3.55->langchain) (9.1.2)\n",
            "Requirement already satisfied: jsonpatch<2.0,>=1.33 in /usr/local/lib/python3.11/dist-packages (from langchain-core<1.0.0,>=0.3.55->langchain) (1.33)\n",
            "Requirement already satisfied: packaging<25,>=23.2 in /usr/local/lib/python3.11/dist-packages (from langchain-core<1.0.0,>=0.3.55->langchain) (24.2)\n",
            "Requirement already satisfied: typing-extensions>=4.7 in /usr/local/lib/python3.11/dist-packages (from langchain-core<1.0.0,>=0.3.55->langchain) (4.13.2)\n",
            "Requirement already satisfied: httpx<1,>=0.23.0 in /usr/local/lib/python3.11/dist-packages (from langsmith<0.4,>=0.1.17->langchain) (0.28.1)\n",
            "Requirement already satisfied: orjson<4.0.0,>=3.9.14 in /usr/local/lib/python3.11/dist-packages (from langsmith<0.4,>=0.1.17->langchain) (3.10.16)\n",
            "Requirement already satisfied: requests-toolbelt<2.0.0,>=1.0.0 in /usr/local/lib/python3.11/dist-packages (from langsmith<0.4,>=0.1.17->langchain) (1.0.0)\n",
            "Requirement already satisfied: zstandard<0.24.0,>=0.23.0 in /usr/local/lib/python3.11/dist-packages (from langsmith<0.4,>=0.1.17->langchain) (0.23.0)\n",
            "Requirement already satisfied: anyio<5,>=3.5.0 in /usr/local/lib/python3.11/dist-packages (from openai<2.0.0,>=1.68.2->langchain-openai) (4.9.0)\n",
            "Requirement already satisfied: distro<2,>=1.7.0 in /usr/local/lib/python3.11/dist-packages (from openai<2.0.0,>=1.68.2->langchain-openai) (1.9.0)\n",
            "Requirement already satisfied: jiter<1,>=0.4.0 in /usr/local/lib/python3.11/dist-packages (from openai<2.0.0,>=1.68.2->langchain-openai) (0.9.0)\n",
            "Requirement already satisfied: sniffio in /usr/local/lib/python3.11/dist-packages (from openai<2.0.0,>=1.68.2->langchain-openai) (1.3.1)\n",
            "Requirement already satisfied: tqdm>4 in /usr/local/lib/python3.11/dist-packages (from openai<2.0.0,>=1.68.2->langchain-openai) (4.67.1)\n",
            "Requirement already satisfied: annotated-types>=0.6.0 in /usr/local/lib/python3.11/dist-packages (from pydantic<3.0.0,>=2.7.4->langchain) (0.7.0)\n",
            "Requirement already satisfied: pydantic-core==2.33.1 in /usr/local/lib/python3.11/dist-packages (from pydantic<3.0.0,>=2.7.4->langchain) (2.33.1)\n",
            "Requirement already satisfied: typing-inspection>=0.4.0 in /usr/local/lib/python3.11/dist-packages (from pydantic<3.0.0,>=2.7.4->langchain) (0.4.0)\n",
            "Requirement already satisfied: charset-normalizer<4,>=2 in /usr/local/lib/python3.11/dist-packages (from requests<3,>=2->langchain) (3.4.1)\n",
            "Requirement already satisfied: idna<4,>=2.5 in /usr/local/lib/python3.11/dist-packages (from requests<3,>=2->langchain) (3.10)\n",
            "Requirement already satisfied: urllib3<3,>=1.21.1 in /usr/local/lib/python3.11/dist-packages (from requests<3,>=2->langchain) (2.3.0)\n",
            "Requirement already satisfied: certifi>=2017.4.17 in /usr/local/lib/python3.11/dist-packages (from requests<3,>=2->langchain) (2025.1.31)\n",
            "Requirement already satisfied: greenlet>=1 in /usr/local/lib/python3.11/dist-packages (from SQLAlchemy<3,>=1.4->langchain) (3.2.1)\n",
            "Requirement already satisfied: regex>=2022.1.18 in /usr/local/lib/python3.11/dist-packages (from tiktoken<1,>=0.7->langchain-openai) (2024.11.6)\n",
            "Requirement already satisfied: httpcore==1.* in /usr/local/lib/python3.11/dist-packages (from httpx<1,>=0.23.0->langsmith<0.4,>=0.1.17->langchain) (1.0.8)\n",
            "Requirement already satisfied: h11<0.15,>=0.13 in /usr/local/lib/python3.11/dist-packages (from httpcore==1.*->httpx<1,>=0.23.0->langsmith<0.4,>=0.1.17->langchain) (0.14.0)\n",
            "Requirement already satisfied: jsonpointer>=1.9 in /usr/local/lib/python3.11/dist-packages (from jsonpatch<2.0,>=1.33->langchain-core<1.0.0,>=0.3.55->langchain) (3.0.0)\n"
          ]
        }
      ]
    },
    {
      "cell_type": "code",
      "source": [
        "LANGSMITH_TRACING= True\n",
        "LANGSMITH_ENDPOINT=\"https://api.smith.langchain.com\"\n",
        "LANGSMITH_API_KEY=\"ADD_API_KEY\"\n",
        "LANGSMITH_PROJECT=\"pr-earnest-inspection-19\""
      ],
      "metadata": {
        "id": "ohJl4S6eVVs1"
      },
      "execution_count": null,
      "outputs": []
    },
    {
      "cell_type": "markdown",
      "source": [
        "**Adding credentials to connect with AZURE OPENAI API**"
      ],
      "metadata": {
        "id": "ZeZc-5tT9v5-"
      }
    },
    {
      "cell_type": "code",
      "source": [
        "import os\n",
        "from langchain_openai import AzureChatOpenAI\n",
        "from langchain_experimental.graph_transformers import LLMGraphTransformer\n",
        "\n",
        "# LangChain / Graph\n",
        "from langchain_community.graphs import Neo4jGraph\n",
        "from langchain_experimental.graph_transformers import LLMGraphTransformer\n",
        "from langchain_core.documents import Document\n",
        "from openai import OpenAI\n",
        "import os\n",
        "from langchain_openai import AzureChatOpenAI\n",
        "from langchain_experimental.graph_transformers import LLMGraphTransformer\n",
        "# Set Azure OpenAI API Details\n",
        "os.environ[\"AZURE_OPENAI_API_KEY\"] = \"2K3CrJS4ZTUJoCKigUhqZyAGJVMbpGb3vIKaZasEZ4dJUOmvuCG9JQQJ99BDACfhMk5XJ3w3AAAAACOGR6pu\"\n",
        "os.environ[\"AZURE_OPENAI_ENDPOINT\"] = \"https://srija-m9t1nojf-swedencentral.cognitiveservices.azure.com/\"\n",
        "os.environ[\"AZURE_OPENAI_DEPLOYMENT\"] = \"gpt-4o\"  # Must match Azure\n",
        "os.environ[\"AZURE_OPENAI_API_VERSION\"] = \"2024-08-01-preview\"  # Recommended version\n",
        "\n",
        "# Initialize AzureChatOpenAI (Fixed format)\n",
        "llm = AzureChatOpenAI(\n",
        "    azure_endpoint=os.environ[\"AZURE_OPENAI_ENDPOINT\"],\n",
        "    azure_deployment=os.environ[\"AZURE_OPENAI_DEPLOYMENT\"],\n",
        "    api_key=os.environ[\"AZURE_OPENAI_API_KEY\"],\n",
        "    api_version=os.environ[\"AZURE_OPENAI_API_VERSION\"],\n",
        "    temperature=0.0\n",
        ")\n",
        "\n",
        "# Test the connection with .invoke()\n",
        "try:\n",
        "    response = llm.invoke(\n",
        "        [{\"role\": \"system\", \"content\": \"Hello, can you confirm this works?\"}]\n",
        "    )\n",
        "    print(\"✅ Azure OpenAI is working!\")\n",
        "    print(response)\n",
        "except Exception as e:\n",
        "    print(\"❌ Azure OpenAI is NOT working:\", e)\n",
        "\n",
        "# Create LLM->Graph transformer\n",
        "llm_transformer = LLMGraphTransformer(llm=llm)\n"
      ],
      "metadata": {
        "colab": {
          "base_uri": "https://localhost:8080/"
        },
        "id": "KkOEKYKzNehU",
        "outputId": "74795e19-0f81-4a73-f1b0-17016f0c616f"
      },
      "execution_count": null,
      "outputs": [
        {
          "output_type": "stream",
          "name": "stdout",
          "text": [
            "✅ Azure OpenAI is working!\n",
            "content='Yes, I can confirm that this works! How can I assist you today? 😊' additional_kwargs={'refusal': None} response_metadata={'token_usage': {'completion_tokens': 18, 'prompt_tokens': 15, 'total_tokens': 33, 'completion_tokens_details': {'accepted_prediction_tokens': 0, 'audio_tokens': 0, 'reasoning_tokens': 0, 'rejected_prediction_tokens': 0}, 'prompt_tokens_details': {'audio_tokens': 0, 'cached_tokens': 0}}, 'model_name': 'gpt-4o-2024-11-20', 'system_fingerprint': 'fp_ee1d74bde0', 'id': 'chatcmpl-BRAbcaQZrar1bYyfazd9D6wMZuAa4', 'prompt_filter_results': [{'prompt_index': 0, 'content_filter_results': {}}], 'finish_reason': 'stop', 'logprobs': None, 'content_filter_results': {'hate': {'filtered': False, 'severity': 'safe'}, 'self_harm': {'filtered': False, 'severity': 'safe'}, 'sexual': {'filtered': False, 'severity': 'safe'}, 'violence': {'filtered': False, 'severity': 'safe'}}} id='run-7112cdf9-ae1c-4276-8362-46f4e23237cb-0' usage_metadata={'input_tokens': 15, 'output_tokens': 18, 'total_tokens': 33, 'input_token_details': {'audio': 0, 'cache_read': 0}, 'output_token_details': {'audio': 0, 'reasoning': 0}}\n"
          ]
        }
      ]
    },
    {
      "cell_type": "code",
      "source": [
        "!neo4j start"
      ],
      "metadata": {
        "colab": {
          "base_uri": "https://localhost:8080/"
        },
        "id": "w-Rs4VW0ByrT",
        "outputId": "14cbc538-5d45-416c-b191-8d75e41208ee"
      },
      "execution_count": null,
      "outputs": [
        {
          "output_type": "stream",
          "name": "stdout",
          "text": [
            "/bin/bash: line 1: neo4j: command not found\n"
          ]
        }
      ]
    },
    {
      "cell_type": "code",
      "source": [
        "from neo4j import GraphDatabase\n",
        "\n",
        "# URI examples: \"neo4j://localhost\", \"neo4j+s://xxx.databases.neo4j.io\"\n",
        "URI = \"neo4j+s://ba79352e.databases.neo4j.io\"\n",
        "AUTH = (\"neo4j\", \"TBxAWu1Q4M8Ee3WkJXHKH7p8azzTZUItL6d5qXvpFJY\")\n",
        "\n",
        "with GraphDatabase.driver(URI, auth=AUTH) as driver:\n",
        "    driver.verify_connectivity()"
      ],
      "metadata": {
        "id": "TgMQH95dG8BV"
      },
      "execution_count": null,
      "outputs": []
    },
    {
      "cell_type": "code",
      "source": [
        "!pip install pymupdf"
      ],
      "metadata": {
        "colab": {
          "base_uri": "https://localhost:8080/"
        },
        "id": "kdvGXMB1fklB",
        "outputId": "20300e33-23c5-4a3e-ce1a-e1d9bf662268"
      },
      "execution_count": null,
      "outputs": [
        {
          "output_type": "stream",
          "name": "stdout",
          "text": [
            "Collecting pymupdf\n",
            "  Downloading pymupdf-1.25.5-cp39-abi3-manylinux2014_x86_64.manylinux_2_17_x86_64.whl.metadata (3.4 kB)\n",
            "Downloading pymupdf-1.25.5-cp39-abi3-manylinux2014_x86_64.manylinux_2_17_x86_64.whl (20.0 MB)\n",
            "\u001b[2K   \u001b[90m━━━━━━━━━━━━━━━━━━━━━━━━━━━━━━━━━━━━━━━━\u001b[0m \u001b[32m20.0/20.0 MB\u001b[0m \u001b[31m63.6 MB/s\u001b[0m eta \u001b[36m0:00:00\u001b[0m\n",
            "\u001b[?25hInstalling collected packages: pymupdf\n",
            "Successfully installed pymupdf-1.25.5\n"
          ]
        }
      ]
    },
    {
      "cell_type": "markdown",
      "source": [
        "# Neo4j connection test"
      ],
      "metadata": {
        "id": "LCGUCwejUz_1"
      }
    },
    {
      "cell_type": "code",
      "source": [
        "from neo4j import GraphDatabase\n",
        "\n",
        "URI = \"neo4j+s://ba79352e.databases.neo4j.io\"\n",
        "AUTH = (\"neo4j\", \"TBxAWu1Q4M8Ee3WkJXHKH7p8azzTZUItL6d5qXvpFJY\")\n",
        "\n",
        "driver = GraphDatabase.driver(URI, auth=AUTH)\n",
        "\n",
        "def create_constraints():\n",
        "    constraints = [\n",
        "        \"CREATE CONSTRAINT IF NOT EXISTS FOR (t:Tool)       REQUIRE t.name IS UNIQUE\",\n",
        "        \"CREATE CONSTRAINT IF NOT EXISTS FOR (s:Scenario)   REQUIRE s.scenarioID IS UNIQUE\",\n",
        "        \"CREATE CONSTRAINT IF NOT EXISTS FOR (c:Constraint) REQUIRE c.id IS UNIQUE\",\n",
        "    ]\n",
        "    with driver.session() as session:\n",
        "        for cql in constraints:\n",
        "            session.run(cql)\n",
        "        print(\"✅ Created/ensured constraints for Tools, Scenarios, Constraints\")\n",
        "\n",
        "create_constraints()\n"
      ],
      "metadata": {
        "colab": {
          "base_uri": "https://localhost:8080/"
        },
        "id": "8hfX1OC1QzFx",
        "outputId": "9ce2b039-e308-4e3a-9256-789c5b0c21f5"
      },
      "execution_count": null,
      "outputs": [
        {
          "output_type": "stream",
          "name": "stdout",
          "text": [
            "✅ Created/ensured constraints for Tools, Scenarios, Constraints\n"
          ]
        }
      ]
    },
    {
      "cell_type": "code",
      "source": [
        "!pip uninstall fitz -y #remove the incorrect install\n",
        "!pip install pymupdf # install the correct package\n",
        "\n",
        "import pymupdf as fitz"
      ],
      "metadata": {
        "colab": {
          "base_uri": "https://localhost:8080/"
        },
        "id": "CM2pAqlfUmJo",
        "outputId": "4dec71e3-2198-4f82-ed94-12deca8fee1f"
      },
      "execution_count": null,
      "outputs": [
        {
          "output_type": "stream",
          "name": "stdout",
          "text": [
            "\u001b[33mWARNING: Skipping fitz as it is not installed.\u001b[0m\u001b[33m\n",
            "\u001b[0mRequirement already satisfied: pymupdf in /usr/local/lib/python3.11/dist-packages (1.25.5)\n"
          ]
        }
      ]
    },
    {
      "cell_type": "code",
      "source": [
        "!pip -q install neo4j"
      ],
      "metadata": {
        "id": "lIqiBHAIdbKh"
      },
      "execution_count": null,
      "outputs": []
    },
    {
      "cell_type": "code",
      "source": [
        "import os\n",
        "from getpass import getpass\n",
        "\n",
        "# ① Supply the URI & user directly (they’re not secrets)\n",
        "os.environ[\"NEO4J_URI\"]      = \"neo4j+s://ba79352e.databases.neo4j.io\"\n",
        "os.environ[\"NEO4J_USERNAME\"] = \"neo4j\"\n",
        "\n",
        "# ② Type the password interactively so it never appears in the notebook\n",
        "os.environ[\"NEO4J_PASSWORD\"] = getpass(\"Enter your Neo4j Aura password: \")"
      ],
      "metadata": {
        "colab": {
          "base_uri": "https://localhost:8080/"
        },
        "id": "yltdNzCBea1L",
        "outputId": "26d3ab8d-0e25-46ca-9721-bf46b09f0299"
      },
      "execution_count": null,
      "outputs": [
        {
          "name": "stdout",
          "output_type": "stream",
          "text": [
            "Enter your Neo4j Aura password: ··········\n"
          ]
        }
      ]
    },
    {
      "cell_type": "markdown",
      "source": [
        "# Using regex to take out important text from document to graph"
      ],
      "metadata": {
        "id": "NiE1YBg5CPvh"
      }
    },
    {
      "cell_type": "code",
      "source": [
        "def extract_text_from_pdf(pdf_path):\n",
        "    text = \"\"\n",
        "    doc = fitz.open(pdf_path)\n",
        "    for page in doc:\n",
        "        text += page.get_text() + \"\\n\"\n",
        "    return text\n",
        "\n",
        "pdf_path = \"/content/Specification Sheet 1.pdf\"\n",
        "raw_pdf_text = extract_text_from_pdf(pdf_path)"
      ],
      "metadata": {
        "id": "6cJFnrL2kTPn",
        "colab": {
          "base_uri": "https://localhost:8080/",
          "height": 344
        },
        "outputId": "7745a28b-310f-491c-c093-0dbdc07f6772"
      },
      "execution_count": null,
      "outputs": [
        {
          "output_type": "error",
          "ename": "FileNotFoundError",
          "evalue": "no such file: '/content/Specification Sheet 1.pdf'",
          "traceback": [
            "\u001b[0;31m---------------------------------------------------------------------------\u001b[0m",
            "\u001b[0;31mFileNotFoundError\u001b[0m                         Traceback (most recent call last)",
            "\u001b[0;32m<ipython-input-15-eecc3ba1fca6>\u001b[0m in \u001b[0;36m<cell line: 0>\u001b[0;34m()\u001b[0m\n\u001b[1;32m      7\u001b[0m \u001b[0;34m\u001b[0m\u001b[0m\n\u001b[1;32m      8\u001b[0m \u001b[0mpdf_path\u001b[0m \u001b[0;34m=\u001b[0m \u001b[0;34m\"/content/Specification Sheet 1.pdf\"\u001b[0m\u001b[0;34m\u001b[0m\u001b[0;34m\u001b[0m\u001b[0m\n\u001b[0;32m----> 9\u001b[0;31m \u001b[0mraw_pdf_text\u001b[0m \u001b[0;34m=\u001b[0m \u001b[0mextract_text_from_pdf\u001b[0m\u001b[0;34m(\u001b[0m\u001b[0mpdf_path\u001b[0m\u001b[0;34m)\u001b[0m\u001b[0;34m\u001b[0m\u001b[0;34m\u001b[0m\u001b[0m\n\u001b[0m",
            "\u001b[0;32m<ipython-input-15-eecc3ba1fca6>\u001b[0m in \u001b[0;36mextract_text_from_pdf\u001b[0;34m(pdf_path)\u001b[0m\n\u001b[1;32m      1\u001b[0m \u001b[0;32mdef\u001b[0m \u001b[0mextract_text_from_pdf\u001b[0m\u001b[0;34m(\u001b[0m\u001b[0mpdf_path\u001b[0m\u001b[0;34m)\u001b[0m\u001b[0;34m:\u001b[0m\u001b[0;34m\u001b[0m\u001b[0;34m\u001b[0m\u001b[0m\n\u001b[1;32m      2\u001b[0m     \u001b[0mtext\u001b[0m \u001b[0;34m=\u001b[0m \u001b[0;34m\"\"\u001b[0m\u001b[0;34m\u001b[0m\u001b[0;34m\u001b[0m\u001b[0m\n\u001b[0;32m----> 3\u001b[0;31m     \u001b[0mdoc\u001b[0m \u001b[0;34m=\u001b[0m \u001b[0mfitz\u001b[0m\u001b[0;34m.\u001b[0m\u001b[0mopen\u001b[0m\u001b[0;34m(\u001b[0m\u001b[0mpdf_path\u001b[0m\u001b[0;34m)\u001b[0m\u001b[0;34m\u001b[0m\u001b[0;34m\u001b[0m\u001b[0m\n\u001b[0m\u001b[1;32m      4\u001b[0m     \u001b[0;32mfor\u001b[0m \u001b[0mpage\u001b[0m \u001b[0;32min\u001b[0m \u001b[0mdoc\u001b[0m\u001b[0;34m:\u001b[0m\u001b[0;34m\u001b[0m\u001b[0;34m\u001b[0m\u001b[0m\n\u001b[1;32m      5\u001b[0m         \u001b[0mtext\u001b[0m \u001b[0;34m+=\u001b[0m \u001b[0mpage\u001b[0m\u001b[0;34m.\u001b[0m\u001b[0mget_text\u001b[0m\u001b[0;34m(\u001b[0m\u001b[0;34m)\u001b[0m \u001b[0;34m+\u001b[0m \u001b[0;34m\"\\n\"\u001b[0m\u001b[0;34m\u001b[0m\u001b[0;34m\u001b[0m\u001b[0m\n",
            "\u001b[0;32m/usr/local/lib/python3.11/dist-packages/pymupdf/__init__.py\u001b[0m in \u001b[0;36m__init__\u001b[0;34m(self, filename, stream, filetype, rect, width, height, fontsize)\u001b[0m\n\u001b[1;32m   2926\u001b[0m                 \u001b[0;32mif\u001b[0m \u001b[0;32mnot\u001b[0m \u001b[0mos\u001b[0m\u001b[0;34m.\u001b[0m\u001b[0mpath\u001b[0m\u001b[0;34m.\u001b[0m\u001b[0mexists\u001b[0m\u001b[0;34m(\u001b[0m\u001b[0mfilename\u001b[0m\u001b[0;34m)\u001b[0m\u001b[0;34m:\u001b[0m\u001b[0;34m\u001b[0m\u001b[0;34m\u001b[0m\u001b[0m\n\u001b[1;32m   2927\u001b[0m                     \u001b[0mmsg\u001b[0m \u001b[0;34m=\u001b[0m \u001b[0;34mf\"no such file: '{filename}'\"\u001b[0m\u001b[0;34m\u001b[0m\u001b[0;34m\u001b[0m\u001b[0m\n\u001b[0;32m-> 2928\u001b[0;31m                     \u001b[0;32mraise\u001b[0m \u001b[0mFileNotFoundError\u001b[0m\u001b[0;34m(\u001b[0m\u001b[0mmsg\u001b[0m\u001b[0;34m)\u001b[0m\u001b[0;34m\u001b[0m\u001b[0;34m\u001b[0m\u001b[0m\n\u001b[0m\u001b[1;32m   2929\u001b[0m                 \u001b[0;32melif\u001b[0m \u001b[0;32mnot\u001b[0m \u001b[0mos\u001b[0m\u001b[0;34m.\u001b[0m\u001b[0mpath\u001b[0m\u001b[0;34m.\u001b[0m\u001b[0misfile\u001b[0m\u001b[0;34m(\u001b[0m\u001b[0mfilename\u001b[0m\u001b[0;34m)\u001b[0m\u001b[0;34m:\u001b[0m\u001b[0;34m\u001b[0m\u001b[0;34m\u001b[0m\u001b[0m\n\u001b[1;32m   2930\u001b[0m                     \u001b[0mmsg\u001b[0m \u001b[0;34m=\u001b[0m \u001b[0;34mf\"'{filename}' is no file\"\u001b[0m\u001b[0;34m\u001b[0m\u001b[0;34m\u001b[0m\u001b[0m\n",
            "\u001b[0;31mFileNotFoundError\u001b[0m: no such file: '/content/Specification Sheet 1.pdf'"
          ]
        }
      ]
    },
    {
      "cell_type": "code",
      "source": [
        "import re\n",
        "from typing import List, Dict, Any\n",
        "from neo4j import GraphDatabase, basic_auth\n",
        "\n",
        "\n",
        "class BoschToolProcessor:\n",
        "    \"\"\"Process Bosch tool specifications and build a Neo4j knowledge graph.\"\"\"\n",
        "\n",
        "    def __init__(self, uri: str, user: str, pwd: str):\n",
        "        self.driver = GraphDatabase.driver(uri, auth=basic_auth(user, pwd))\n",
        "        self.verify_connection()\n",
        "\n",
        "        # Standardize spec name variations to reduce redundancy\n",
        "        self.standard_spec_map = {\n",
        "            'height': 'height',\n",
        "            'height_in': 'height',\n",
        "            'length': 'length',\n",
        "            'length_in': 'length',\n",
        "            'width': 'width',\n",
        "            'width_in': 'width',\n",
        "            'weight': 'weight',\n",
        "            'weight_lbs': 'weight',\n",
        "            'voltage': 'voltage',\n",
        "            'voltage_rating': 'voltage',\n",
        "            'battery': 'voltage',      # e.g., \"Battery: 18 V\" -> treat as voltage spec\n",
        "            'rating': 'voltage',\n",
        "            'planing_width': 'planing_width',\n",
        "            'planing_depth': 'planing_depth'\n",
        "        }\n",
        "        # Standardize unit symbols\n",
        "        self.unit_symbol_map = {\n",
        "            'in': 'in', 'inch': 'in', 'inches': 'in',\n",
        "            'lb': 'lb', 'lbs': 'lb', 'pounds': 'lb',\n",
        "            'kg': 'kg',\n",
        "            'v': 'V', 'volt': 'V', 'volts': 'V',\n",
        "            'rpm': 'RPM', 'bpm': 'BPM',\n",
        "            'min': 'min', 'minute': 'min', 'minutes': 'min',\n",
        "            'mm': 'mm', 'cm': 'cm',\n",
        "            '°f': '°F', '°c': '°C'\n",
        "        }\n",
        "\n",
        "    def verify_connection(self):\n",
        "        try:\n",
        "            self.driver.verify_connectivity()\n",
        "            print(\"✅  Connected to Neo4j Aura\")\n",
        "        except Exception as exc:\n",
        "            raise RuntimeError(f\"Neo4j connection failed: {exc}\") from exc\n",
        "\n",
        "\n",
        "\n",
        "    def create_constraints(self):\n",
        "        \"\"\"Create Neo4j constraints for uniqueness on key fields.\"\"\"\n",
        "        if not self.driver:\n",
        "            return\n",
        "        constraints = [\n",
        "            \"CREATE CONSTRAINT IF NOT EXISTS FOR (t:Tool) REQUIRE t.model_number IS UNIQUE\",\n",
        "            \"CREATE CONSTRAINT IF NOT EXISTS FOR (c:Category) REQUIRE c.name IS UNIQUE\",\n",
        "            \"CREATE CONSTRAINT IF NOT EXISTS FOR (u:Unit) REQUIRE u.symbol IS UNIQUE\",\n",
        "            \"CREATE CONSTRAINT IF NOT EXISTS FOR (s:Scenario) REQUIRE s.scenarioID IS UNIQUE\",\n",
        "            \"CREATE CONSTRAINT IF NOT EXISTS FOR (cn:Constraint) REQUIRE cn.id IS UNIQUE\",\n",
        "            \"CREATE CONSTRAINT IF NOT EXISTS FOR (l:Limitation) REQUIRE l.id IS UNIQUE\",\n",
        "            \"CREATE CONSTRAINT IF NOT EXISTS FOR (s:Specification) REQUIRE s.name IS UNIQUE\"\n",
        "        ]\n",
        "        with self.driver.session() as session:\n",
        "            for c in constraints:\n",
        "                session.run(c)\n",
        "\n",
        "    def extract_tool_data(self, text: str) -> List[Dict[str, Any]]:\n",
        "        \"\"\"\n",
        "        Extract tool data from the given text of a Bosch specification sheet.\n",
        "        Returns a list of dictionaries, each representing one tool with its attributes.\n",
        "        \"\"\"\n",
        "        tools = []\n",
        "        # Regex pattern to identify each tool section in the text.\n",
        "        # It matches a model number followed by \"PROFESSIONAL (Category)\".\n",
        "        model_pattern = re.compile(r'([A-Z0-9\\-]+V?-[A-Z0-9]+[A-Z0-9N]*)\\s+PROFESSIONAL\\s+\\(([^)]+)\\)')\n",
        "        # Split text by the model header pattern, keeping the delimiters (model and category) as separate list items.\n",
        "        sections = model_pattern.split(text)\n",
        "        if sections and not sections[0].strip():\n",
        "            sections = sections[1:]  # remove empty prelude if the text starts with a match\n",
        "        # The resulting list format: [ <intro_text?>, model1, category1, content1, model2, category2, content2, ... ]\n",
        "        for i in range(0, len(sections), 3):\n",
        "            if i + 2 >= len(sections):\n",
        "                break  # not enough parts for a full section\n",
        "            model_number = sections[i].strip()\n",
        "            category = sections[i+1].strip()\n",
        "            content = sections[i+2]  # the block of text for this tool\n",
        "            tool = {\n",
        "                \"model_number\": model_number,\n",
        "                \"name\": f\"Bosch {model_number} Professional\",\n",
        "                \"category\": category,\n",
        "                \"specifications\": {},\n",
        "                \"accessories\": [],\n",
        "                \"includes\": [],\n",
        "                \"limitations\": [],\n",
        "                \"operational_ranges\": []\n",
        "            }\n",
        "            # Process each line in the tool's content block\n",
        "            lines = [ln.strip() for ln in content.splitlines()]\n",
        "            for line in lines:\n",
        "                if not line:\n",
        "                    continue  # skip blank lines\n",
        "                # Skip section headers or irrelevant lines that are not key: value pairs\n",
        "                header_keywords = [\"includes\", \"works with\", \"technical data\", \"model\", \"features\"]\n",
        "                if any(line.lower().startswith(word) for word in header_keywords):\n",
        "                    continue\n",
        "                if ':' not in line:\n",
        "                    continue  # not a key-value line\n",
        "                key, value = line.split(':', 1)\n",
        "                key = key.strip()\n",
        "                value = value.strip()\n",
        "                if not key or not value:\n",
        "                    continue\n",
        "                # Normalize the spec key name\n",
        "                spec_name = key.lower()\n",
        "                # Remove parenthesized content in the key (usually units or notes)\n",
        "                spec_name = re.sub(r'\\([^)]*\\)', '', spec_name)\n",
        "                # Replace spaces and punctuation with underscore, unify hyphens/slashes to underscore\n",
        "                spec_name = re.sub(r'[\\s:/\\-.]+', '_', spec_name).strip('_')\n",
        "                if spec_name in [\"that\", \"with\", \"and\", \"or\", \"by\", \"from\", \"to\", \"for\"]:\n",
        "                    continue  # skip meaningless keys\n",
        "                if spec_name.startswith(\"model\"):\n",
        "                    continue  # skip \"Model number\" lines, already captured\n",
        "                # Apply standard name mapping if applicable\n",
        "                if spec_name in self.standard_spec_map:\n",
        "                    spec_name = self.standard_spec_map[spec_name]\n",
        "                # Determine the value type: yes/no, numeric range, single numeric, or text\n",
        "                yes_no_match = re.match(r'^(yes|no)$', value, re.IGNORECASE)\n",
        "                range_match = re.search(r'([\\-+]?\\d*\\.?\\d+)\\s*([\\\"\\w°CF]+)?\\s*[-–]\\s*([\\-+]?\\d*\\.?\\d+)\\s*([\\\"\\w°CF]+)?', value)\n",
        "                value_match = re.match(r'^([\\-+]?\\d*\\.?\\d+)\\s*([\\\"\\w°CF]+)?$', value)\n",
        "                spec_entry = {}\n",
        "                if yes_no_match:\n",
        "                    # Boolean specification (Yes/No)\n",
        "                    spec_entry = {\n",
        "                        \"value\": yes_no_match.group(1).lower(),\n",
        "                        \"unit\": \"boolean\"\n",
        "                    }\n",
        "                elif range_match:\n",
        "                    # Numeric range (e.g., \"0-3600 RPM\" or \"50 – 100 °F\")\n",
        "                    try:\n",
        "                        min_val = float(range_match.group(1))\n",
        "                        max_val = float(range_match.group(3))\n",
        "                        if min_val > max_val:\n",
        "                            min_val, max_val = max_val, min_val  # swap if reversed\n",
        "                        # Determine unit for the range: second unit if present, otherwise first unit (if any)\n",
        "                        unit = range_match.group(4) or range_match.group(2) or \"\"\n",
        "                        unit = unit.replace('\\\"', 'in')\n",
        "                        if unit.lower() in self.unit_symbol_map:\n",
        "                            unit = self.unit_symbol_map[unit.lower()]\n",
        "                        spec_entry = {\n",
        "                            \"value_min\": min_val,\n",
        "                            \"value_max\": max_val,\n",
        "                            \"unit\": unit,\n",
        "                            \"is_range\": True\n",
        "                        }\n",
        "                        # Record an operational range and corresponding automatic limitation\n",
        "                        tool[\"operational_ranges\"].append({\n",
        "                            \"name\": spec_name.replace(\"_\", \" \"),\n",
        "                            \"min_value\": min_val,\n",
        "                            \"max_value\": max_val,\n",
        "                            \"unit\": unit,\n",
        "                            \"warning_type\": \"operational_range\"\n",
        "                        })\n",
        "                        tool[\"limitations\"].append({\n",
        "                            \"description\": f\"{spec_name.replace('_', ' ').title()} must be between {min_val} and {max_val} {unit}.\",\n",
        "                            \"warning_type\": \"operational_range\",\n",
        "                            \"spec_name\": spec_name,\n",
        "                            \"min_value\": min_val,\n",
        "                            \"max_value\": max_val,\n",
        "                            \"unit\": unit\n",
        "                        })\n",
        "                    except ValueError:\n",
        "                        spec_entry = {\"value\": value, \"unit\": \"\"}\n",
        "                elif value_match:\n",
        "                    # Single numeric value (with optional unit)\n",
        "                    try:\n",
        "                        numeric_val = float(value_match.group(1))\n",
        "                        unit = value_match.group(2) or \"\"\n",
        "                        unit = unit.replace('\\\"', 'in')\n",
        "                        if unit.lower() in self.unit_symbol_map:\n",
        "                            unit = self.unit_symbol_map[unit.lower()]\n",
        "                        spec_entry = {\n",
        "                            \"value\": numeric_val,\n",
        "                            \"unit\": unit\n",
        "                        }\n",
        "                    except ValueError:\n",
        "                        spec_entry = {\"value\": value, \"unit\": \"\"}\n",
        "                else:\n",
        "                    # Non-numeric text or complex value\n",
        "                    spec_entry = {\"value\": value, \"unit\": \"\"}\n",
        "                # Merge or add the spec entry to the tool's spec dictionary\n",
        "                if spec_name in tool[\"specifications\"]:\n",
        "                    # If spec already exists, combine values (likely from dual-unit entries)\n",
        "                    existing = tool[\"specifications\"][spec_name]\n",
        "                    if \"value\" in existing and \"value\" in spec_entry:\n",
        "                        # Combine two single values (e.g., \"5.4 lb\" and \"2.45 kg\")\n",
        "                        val1 = str(existing[\"value\"]).strip()\n",
        "                        unit1 = existing.get(\"unit\", \"\")\n",
        "                        val2 = str(spec_entry[\"value\"]).strip()\n",
        "                        unit2 = spec_entry.get(\"unit\", \"\")\n",
        "                        part1 = f\"{val1} {unit1}\".strip()\n",
        "                        part2 = f\"{val2} {unit2}\".strip()\n",
        "                        combined_val = f\"{part1} / {part2}\"\n",
        "                        tool[\"specifications\"][spec_name] = {\"value\": combined_val, \"unit\": \"\"}\n",
        "                    else:\n",
        "                        # If one is a range or boolean and the other isn't, prefer the more informative one\n",
        "                        if \"is_range\" in existing or \"value_min\" in existing:\n",
        "                            # keep the existing range, ignore the new single value\n",
        "                            pass\n",
        "                        else:\n",
        "                            # overwrite with new entry if existing was less informative\n",
        "                            tool[\"specifications\"][spec_name] = spec_entry\n",
        "                else:\n",
        "                    tool[\"specifications\"][spec_name] = spec_entry\n",
        "            # Handle \"Maximum Capacities\" compound line (splitting into sub-specs)\n",
        "            for line in lines:\n",
        "                if \"Maximum Capacities:\" in line:\n",
        "                    capacities_text = line.split(\"Maximum Capacities:\", 1)[1].strip()\n",
        "                    for cap in capacities_text.split(','):\n",
        "                        cap = cap.strip()\n",
        "                        if not cap:\n",
        "                            continue\n",
        "                        cap_match = re.match(r'([^:]+):\\s*([^,]+)', cap)\n",
        "                        if not cap_match:\n",
        "                            continue\n",
        "                        cap_name = cap_match.group(1).strip().lower()\n",
        "                        cap_name = re.sub(r'\\([^)]*\\)', '', cap_name)\n",
        "                        cap_name = re.sub(r'[\\s:/\\-.]+', '_', cap_name).strip('_')\n",
        "                        if cap_name in self.standard_spec_map:\n",
        "                            cap_name = self.standard_spec_map[cap_name]\n",
        "                        cap_value = cap_match.group(2).strip()\n",
        "                        cap_entry = {}\n",
        "                        range_match = re.search(r'([\\-+]?\\d*\\.?\\d+)\\s*([\\\"\\w°CF]+)?\\s*[-–]\\s*([\\-+]?\\d*\\.?\\d+)\\s*([\\\"\\w°CF]+)?', cap_value)\n",
        "                        if range_match:\n",
        "                            try:\n",
        "                                min_val = float(range_match.group(1))\n",
        "                                max_val = float(range_match.group(3))\n",
        "                                if min_val > max_val:\n",
        "                                    min_val, max_val = max_val, min_val\n",
        "                                unit = range_match.group(4) or range_match.group(2) or \"\"\n",
        "                                unit = unit.replace('\\\"', 'in')\n",
        "                                if unit.lower() in self.unit_symbol_map:\n",
        "                                    unit = self.unit_symbol_map[unit.lower()]\n",
        "                                cap_entry = {\"value_min\": min_val, \"value_max\": max_val, \"unit\": unit, \"is_range\": True}\n",
        "                            except ValueError:\n",
        "                                cap_entry = {\"value\": cap_value, \"unit\": \"\"}\n",
        "                        else:\n",
        "                            cap_entry = {\"value\": cap_value, \"unit\": \"\"}\n",
        "                        tool[\"specifications\"][cap_name] = cap_entry\n",
        "            # Extract Accessories and Included Items sections\n",
        "            for idx, line in enumerate(lines):\n",
        "                if line.lower().startswith(\"works with\"):\n",
        "                    # Everything until a blank or next section header is an accessory\n",
        "                    for j in range(idx+1, len(lines)):\n",
        "                        if not lines[j] or any(word in lines[j] for word in [\"Includes\", \"TECHNICAL\", \"Model\"]):\n",
        "                            break\n",
        "                        accessory = lines[j].strip()\n",
        "                        if accessory and accessory not in tool[\"accessories\"]:\n",
        "                            tool[\"accessories\"].append(accessory)\n",
        "                if line.lower().startswith(\"includes\"):\n",
        "                    for j in range(idx+1, len(lines)):\n",
        "                        if not lines[j] or any(word in lines[j] for word in [\"TECHNICAL\", \"Model\"]):\n",
        "                            break\n",
        "                        item = lines[j].strip()\n",
        "                        if item and item not in tool[\"includes\"]:\n",
        "                            tool[\"includes\"].append(item)\n",
        "            # Infer additional limitations based on certain specs and category\n",
        "            self._infer_limitations(tool)\n",
        "            if tool[\"model_number\"] and tool[\"specifications\"]:\n",
        "                tools.append(tool)\n",
        "        return tools\n",
        "\n",
        "    def _infer_limitations(self, tool: Dict[str, Any]):\n",
        "        \"\"\"Infer additional limitations from the tool's specifications and category.\"\"\"\n",
        "        category = tool[\"category\"].lower()\n",
        "        for spec_name, spec_data in tool[\"specifications\"].items():\n",
        "            # Voltage/Battery limitations\n",
        "            if \"battery\" in spec_name or \"voltage\" in spec_name:\n",
        "                val = spec_data.get(\"value\")\n",
        "                if isinstance(val, (int, float)):\n",
        "                    max_v = val\n",
        "                    tool[\"limitations\"].append({\n",
        "                        \"description\": f\"Maximum operating voltage: {max_v}V. Using higher voltage may damage the tool.\",\n",
        "                        \"warning_type\": \"voltage\",\n",
        "                        \"max_value\": max_v, \"unit\": \"V\",\n",
        "                        \"spec_name\": spec_name\n",
        "                    })\n",
        "                elif isinstance(val, str) and (\"12v\" in val.lower() or \"12-volt\" in val.lower()):\n",
        "                    tool[\"limitations\"].append({\n",
        "                        \"description\": \"Designed for 12V operation only. Not suitable for heavy-duty applications that require 18V or higher.\",\n",
        "                        \"warning_type\": \"voltage\",\n",
        "                        \"max_value\": 12, \"unit\": \"V\",\n",
        "                        \"spec_name\": spec_name\n",
        "                    })\n",
        "            # Temperature range limitations\n",
        "            if \"temperature\" in spec_name or spec_name.startswith(\"temp\"):\n",
        "                if \"value_min\" in spec_data and \"value_max\" in spec_data:\n",
        "                    min_temp = spec_data[\"value_min\"]\n",
        "                    max_temp = spec_data[\"value_max\"]\n",
        "                    unit = spec_data.get(\"unit\", \"°F\")\n",
        "                    tool[\"limitations\"].append({\n",
        "                        \"description\": f\"Operating temperature range: {min_temp}{unit} to {max_temp}{unit}. Using outside this range may damage the tool.\",\n",
        "                        \"warning_type\": \"temperature\",\n",
        "                        \"min_value\": min_temp, \"max_value\": max_temp,\n",
        "                        \"unit\": unit,\n",
        "                        \"spec_name\": spec_name\n",
        "                    })\n",
        "            # Speed/RPM limitations\n",
        "            if \"rpm\" in spec_name or \"speed\" in spec_name:\n",
        "                val = spec_data.get(\"value\")\n",
        "                if isinstance(val, (int, float)):\n",
        "                    max_speed = val\n",
        "                    tool[\"limitations\"].append({\n",
        "                        \"description\": f\"Maximum speed: {max_speed} RPM. Operating above this speed may cause motor damage.\",\n",
        "                        \"warning_type\": \"speed\",\n",
        "                        \"max_value\": max_speed, \"unit\": \"RPM\",\n",
        "                        \"spec_name\": spec_name\n",
        "                    })\n",
        "        # Category-specific inferred limitations\n",
        "        if \"planer\" in category:\n",
        "            if \"planing_depth\" in tool[\"specifications\"]:\n",
        "                depth_info = tool[\"specifications\"][\"planing_depth\"]\n",
        "                if \"value_min\" in depth_info and \"value_max\" in depth_info:\n",
        "                    mn, mx = depth_info[\"value_min\"], depth_info[\"value_max\"]\n",
        "                    unit = depth_info.get(\"unit\", \"in\")\n",
        "                    tool[\"limitations\"].append({\n",
        "                        \"description\": f\"Planing depth limited to {mn}{unit}-{mx}{unit}. Attempting deeper cuts may damage the tool.\",\n",
        "                        \"warning_type\": \"material\",\n",
        "                        \"min_value\": mn, \"max_value\": mx, \"unit\": unit,\n",
        "                        \"spec_name\": \"planing_depth\"\n",
        "                    })\n",
        "                elif \"value\" in depth_info:\n",
        "                    depth = depth_info[\"value\"]\n",
        "                    if isinstance(depth, (int, float)) and depth < 0.1:  # very shallow depth indicates light-duty\n",
        "                        tool[\"limitations\"].append({\n",
        "                            \"description\": f\"Maximum planing depth limited to {depth} in. Not suitable for deep material removal.\",\n",
        "                            \"warning_type\": \"material\",\n",
        "                            \"max_value\": depth, \"unit\": \"in\",\n",
        "                            \"spec_name\": \"planing_depth\"\n",
        "                        })\n",
        "            if \"planing_width\" in tool[\"specifications\"]:\n",
        "                width_info = tool[\"specifications\"][\"planing_width\"]\n",
        "                if \"value_min\" in width_info and \"value_max\" in width_info:\n",
        "                    mn, mx = width_info[\"value_min\"], width_info[\"value_max\"]\n",
        "                    unit = width_info.get(\"unit\", \"in\")\n",
        "                    tool[\"limitations\"].append({\n",
        "                        \"description\": f\"Planing width limited to {mn}{unit}-{mx}{unit}. Cannot plane wider materials.\",\n",
        "                        \"warning_type\": \"material\",\n",
        "                        \"min_value\": mn, \"max_value\": mx, \"unit\": unit,\n",
        "                        \"spec_name\": \"planing_width\"\n",
        "                    })\n",
        "        if \"drill\" in category or \"driver\" in category:\n",
        "            if \"torque\" in tool[\"specifications\"]:\n",
        "                torque_info = tool[\"specifications\"][\"torque\"]\n",
        "                torque_val = torque_info.get(\"value\", 0)\n",
        "                if isinstance(torque_val, (int, float)) and torque_val < 600:\n",
        "                    tool[\"limitations\"].append({\n",
        "                        \"description\": f\"Maximum torque limited to {torque_val} in-lbs. May not be suitable for drilling into hardened materials.\",\n",
        "                        \"warning_type\": \"torque\",\n",
        "                        \"max_value\": torque_val, \"unit\": \"in-lbs\",\n",
        "                        \"spec_name\": \"torque\"\n",
        "                    })\n",
        "        if \"nailer\" in category or \"nail\" in category:\n",
        "            tool[\"limitations\"].append({\n",
        "                \"description\": \"Only compatible with specified nail types and sizes. Using incorrect nails may damage the tool or workpiece.\",\n",
        "                \"warning_type\": \"compatibility\"\n",
        "                # (No spec_name for general limitation)\n",
        "            })\n",
        "\n",
        "    def build_neo4j_graph(self, tools: List[Dict[str, Any]]):\n",
        "        \"\"\"Build the Neo4j graph from the extracted tools data.\"\"\"\n",
        "        if not self.driver:\n",
        "            raise RuntimeError(\"Neo4j driver not initialized. Please provide connection details.\")\n",
        "        with self.driver.session() as session:\n",
        "            # Optionally, clear existing data to avoid duplicates\n",
        "            session.run(\"MATCH (n) DETACH DELETE n\")\n",
        "            # Ensure constraints/indexes are in place\n",
        "            self.create_constraints()\n",
        "            for tool in tools:\n",
        "                # 1. Create or merge Tool node\n",
        "                tool_props = {\n",
        "                    \"model_number\": tool[\"model_number\"],\n",
        "                    \"name\": tool[\"name\"],\n",
        "                    \"full_name\": f\"Bosch {tool['model_number']} Professional {tool['category']}\".strip()\n",
        "                }\n",
        "                session.run(\n",
        "                    \"MERGE (t:Tool {model_number: $model_number}) \"\n",
        "                    \"SET t += $props\",\n",
        "                    {\"model_number\": tool_props[\"model_number\"], \"props\": tool_props}\n",
        "                )\n",
        "                # 2. Create/merge Category node and BELONGS_TO relationship\n",
        "                session.run(\n",
        "                    \"MERGE (c:Category {name: $category})\",\n",
        "                    {\"category\": tool[\"category\"]}\n",
        "                )\n",
        "                session.run(\n",
        "                    \"MATCH (t:Tool {model_number: $model}) \"\n",
        "                    \"MATCH (c:Category {name: $category}) \"\n",
        "                    \"MERGE (t)-[:BELONGS_TO]->(c)\",\n",
        "                    {\"model\": tool[\"model_number\"], \"category\": tool[\"category\"]}\n",
        "                )\n",
        "                # 3. Create/merge Specification nodes and relationships\n",
        "                for spec_name, spec_data in tool[\"specifications\"].items():\n",
        "                    spec_node_name = spec_name.replace(\"_\", \" \")\n",
        "                    session.run(\n",
        "                        \"MERGE (s:Specification {name: $name})\",\n",
        "                        {\"name\": spec_node_name}\n",
        "                    )\n",
        "                    session.run(\n",
        "                        \"MATCH (t:Tool {model_number: $model}) \"\n",
        "                        \"MATCH (s:Specification {name: $name}) \"\n",
        "                        \"MERGE (t)-[:HAS_SPECIFICATION]->(s)\",\n",
        "                        {\"model\": tool[\"model_number\"], \"name\": spec_node_name}\n",
        "                    )\n",
        "                    # Attach a Unit node if a unit is specified\n",
        "                    unit_symbol = spec_data.get(\"unit\") or \"\"\n",
        "                    if unit_symbol:\n",
        "                        unit_symbol = unit_symbol.replace('\\\"', 'in')\n",
        "                        if unit_symbol.lower() in self.unit_symbol_map:\n",
        "                            unit_symbol = self.unit_symbol_map[unit_symbol.lower()]\n",
        "                        # Determine full unit name for clarity\n",
        "                        unit_full_name = {\n",
        "                            'in': 'inch',\n",
        "                            'lb': 'pound',\n",
        "                            'rpm': 'revolutions per minute',\n",
        "                            'bpm': 'beats per minute',\n",
        "                            'boolean': 'yes/no value',\n",
        "                            '°f': 'degrees Fahrenheit',\n",
        "                            '°c': 'degrees Celsius',\n",
        "                            'v': 'volt',\n",
        "                            'kg': 'kilogram'\n",
        "                        }.get(unit_symbol.lower(), unit_symbol)\n",
        "                        session.run(\n",
        "                            \"MERGE (u:Unit {symbol: $symbol}) \"\n",
        "                            \"ON CREATE SET u.name = $name\",\n",
        "                            {\"symbol\": unit_symbol, \"name\": unit_full_name}\n",
        "                        )\n",
        "                        session.run(\n",
        "                            \"MATCH (s:Specification {name: $spec_name}) \"\n",
        "                            \"MATCH (u:Unit {symbol: $symbol}) \"\n",
        "                            \"MERGE (s)-[:HAS_UNIT]->(u)\",\n",
        "                            {\"spec_name\": spec_node_name, \"symbol\": unit_symbol}\n",
        "                        )\n",
        "                    # If this spec is a numeric range, add RangeLimit nodes for min and max\n",
        "                    if \"value_min\" in spec_data and \"value_max\" in spec_data:\n",
        "                        min_val = spec_data[\"value_min\"]\n",
        "                        max_val = spec_data[\"value_max\"]\n",
        "                        unit = spec_data.get(\"unit\", \"\")\n",
        "                        min_name = f\"Minimum {spec_node_name}\"\n",
        "                        max_name = f\"Maximum {spec_node_name}\"\n",
        "                        session.run(\n",
        "                            \"MATCH (s:Specification {name: $spec_name}) \"\n",
        "                            \"MERGE (min:RangeLimit {name: $min_name, value: $min_val, unit: $unit, limit_type: 'minimum'}) \"\n",
        "                            \"MERGE (s)-[:HAS_MIN_LIMIT]->(min)\",\n",
        "                            {\"spec_name\": spec_node_name, \"min_name\": min_name, \"min_val\": min_val, \"unit\": unit}\n",
        "                        )\n",
        "                        session.run(\n",
        "                            \"MATCH (s:Specification {name: $spec_name}) \"\n",
        "                            \"MERGE (max:RangeLimit {name: $max_name, value: $max_val, unit: $unit, limit_type: 'maximum'}) \"\n",
        "                            \"MERGE (s)-[:HAS_MAX_LIMIT]->(max)\",\n",
        "                            {\"spec_name\": spec_node_name, \"max_name\": max_name, \"max_val\": max_val, \"unit\": unit}\n",
        "                        )\n",
        "                # 4. Create Accessory nodes and COMPATIBLE_WITH relationships\n",
        "                for accessory in tool[\"accessories\"]:\n",
        "                    session.run(\"MERGE (a:Accessory {name: $name})\", {\"name\": accessory})\n",
        "                    session.run(\n",
        "                        \"MATCH (t:Tool {model_number: $model}) \"\n",
        "                        \"MATCH (a:Accessory {name: $name}) \"\n",
        "                        \"MERGE (t)-[:COMPATIBLE_WITH]->(a)\",\n",
        "                        {\"model\": tool[\"model_number\"], \"name\": accessory}\n",
        "                    )\n",
        "                # 5. Create IncludedItem nodes and INCLUDES relationships\n",
        "                for item in tool[\"includes\"]:\n",
        "                    # Extract quantity if present (e.g., \"Battery (2)\") and use name without quantity for the node\n",
        "                    quantity_match = re.search(r'\\((\\d+)\\)', item)\n",
        "                    item_name = item\n",
        "                    if quantity_match:\n",
        "                        item_name = item.replace(quantity_match.group(0), \"\").strip()\n",
        "                    session.run(\"MERGE (i:IncludedItem {name: $name})\", {\"name\": item_name})\n",
        "                    session.run(\n",
        "                        \"MATCH (t:Tool {model_number: $model}) \"\n",
        "                        \"MATCH (i:IncludedItem {name: $name}) \"\n",
        "                        \"MERGE (t)-[:INCLUDES]->(i)\",\n",
        "                        {\"model\": tool[\"model_number\"], \"name\": item_name}\n",
        "                    )\n",
        "                # 6. Create Limitation nodes and HAS_LIMITATION relationships\n",
        "                for idx, lim in enumerate(tool[\"limitations\"]):\n",
        "                    # Compose a unique limitation id using tool model and spec or index\n",
        "                    if \"spec_name\" in lim:\n",
        "                        lim_id = f\"{tool['model_number']}_{lim['spec_name']}_{lim['warning_type']}\"\n",
        "                    else:\n",
        "                        lim_id = f\"{tool['model_number']}_lim_{idx}\"\n",
        "                    lim_props = {\n",
        "                        \"id\": lim_id,\n",
        "                        \"description\": lim[\"description\"],\n",
        "                        \"warning_type\": lim[\"warning_type\"]\n",
        "                    }\n",
        "                    if \"min_value\" in lim:\n",
        "                        lim_props[\"min_value\"] = lim[\"min_value\"]\n",
        "                    if \"max_value\" in lim:\n",
        "                        lim_props[\"max_value\"] = lim[\"max_value\"]\n",
        "                    if \"unit\" in lim:\n",
        "                        lim_props[\"unit\"] = lim[\"unit\"]\n",
        "                    session.run(\n",
        "                        \"MERGE (l:Limitation {id: $id}) \"\n",
        "                        \"ON CREATE SET l.description = $desc, l.warning_type = $type\",\n",
        "                        {\"id\": lim_props[\"id\"], \"desc\": lim_props[\"description\"], \"type\": lim_props[\"warning_type\"]}\n",
        "                    )\n",
        "                    session.run(\n",
        "                        \"MATCH (t:Tool {model_number: $model}) \"\n",
        "                        \"MATCH (l:Limitation {id: $id}) \"\n",
        "                        \"MERGE (t)-[:HAS_LIMITATION]->(l)\",\n",
        "                        {\"model\": tool[\"model_number\"], \"id\": lim_props[\"id\"]}\n",
        "                    )\n",
        "                    # If the limitation has range values, create RangeLimit nodes for them\n",
        "                    if \"min_value\" in lim and \"max_value\" in lim:\n",
        "                        min_name = f\"Minimum {lim.get('spec_name', 'value')}\".replace('_', ' ')\n",
        "                        max_name = f\"Maximum {lim.get('spec_name', 'value')}\".replace('_', ' ')\n",
        "                        session.run(\n",
        "                            \"MATCH (l:Limitation {id: $lim_id}) \"\n",
        "                            \"MERGE (rmin:RangeLimit {name: $min_name, value: $min_val, unit: $unit, limit_type: 'minimum'}) \"\n",
        "                            \"MERGE (l)-[:HAS_MIN_LIMIT]->(rmin)\",\n",
        "                            {\n",
        "                                \"lim_id\": lim_props[\"id\"],\n",
        "                                \"min_name\": min_name,\n",
        "                                \"min_val\": lim.get(\"min_value\"),\n",
        "                                \"unit\": lim.get(\"unit\", \"\")\n",
        "                            }\n",
        "                        )\n",
        "                        session.run(\n",
        "                            \"MATCH (l:Limitation {id: $lim_id}) \"\n",
        "                            \"MERGE (rmax:RangeLimit {name: $max_name, value: $max_val, unit: $unit, limit_type: 'maximum'}) \"\n",
        "                            \"MERGE (l)-[:HAS_MAX_LIMIT]->(rmax)\",\n",
        "                            {\n",
        "                                \"lim_id\": lim_props[\"id\"],\n",
        "                                \"max_name\": max_name,\n",
        "                                \"max_val\": lim.get(\"max_value\"),\n",
        "                                \"unit\": lim.get(\"unit\", \"\")\n",
        "                            }\n",
        "                        )\n",
        "                    # Link the limitation to its related specification concept, if available\n",
        "                    if \"spec_name\" in lim:\n",
        "                        spec_node_name = lim[\"spec_name\"].replace('_', ' ')\n",
        "                        session.run(\n",
        "                            \"MATCH (l:Limitation {id: $lim_id}) \"\n",
        "                            \"MATCH (s:Specification {name: $spec_name}) \"\n",
        "                            \"MERGE (l)-[:LIMITS_SPECIFICATION]->(s)\",\n",
        "                            {\"lim_id\": lim_props[\"id\"], \"spec_name\": spec_node_name}\n",
        "                        )\n"
      ],
      "metadata": {
        "id": "mj_mqMGlBB2k"
      },
      "execution_count": null,
      "outputs": []
    },
    {
      "cell_type": "code",
      "source": [
        "import os, pathlib\n",
        "spec_path = pathlib.Path(\"/content/Specification Sheet 1.pdf\")\n",
        "\n",
        "# ── 3️⃣  Load the text ──\n",
        "if spec_path.suffix.lower() == \".pdf\":\n",
        "    # If it’s a PDF, extract the text first\n",
        "    !pip -q install pdfplumber\n",
        "    import pdfplumber, textwrap\n",
        "\n",
        "    with pdfplumber.open(spec_path) as pdf:\n",
        "        raw_spec_text = \"\\n\".join(\n",
        "            (page.extract_text() or \"\") for page in pdf.pages\n",
        "        )\n",
        "\n",
        "else:  # plain-text file\n",
        "    with open(spec_path, \"r\", encoding=\"utf-8\", errors=\"ignore\") as f:\n",
        "        raw_spec_text = f.read()\n",
        "\n",
        "print(\"✅  Loaded\", len(raw_spec_text.splitlines()), \"lines of spec data\")"
      ],
      "metadata": {
        "id": "HIvyDreyjmhj"
      },
      "execution_count": null,
      "outputs": []
    },
    {
      "cell_type": "code",
      "source": [
        "uri   = os.environ[\"NEO4J_URI\"]\n",
        "user  = os.environ[\"NEO4J_USERNAME\"]\n",
        "pwd   = os.environ[\"NEO4J_PASSWORD\"]\n",
        "\n",
        "processor = BoschToolProcessor(uri, user, pwd)\n",
        "\n",
        "tools = processor.extract_tool_data(raw_spec_text)\n",
        "print(f\"🔍  Parsed {len(tools)} tools\")\n",
        "\n",
        "processor.build_neo4j_graph(tools)\n",
        "print(\"🎉  Graph import complete — open Neo4j Browser / Bloom to explore!\")"
      ],
      "metadata": {
        "id": "Hjm_GqiECGrn"
      },
      "execution_count": null,
      "outputs": []
    },
    {
      "cell_type": "markdown",
      "source": [
        "# Error Detection"
      ],
      "metadata": {
        "id": "6ca6yRmSpBGb"
      }
    },
    {
      "cell_type": "code",
      "source": [
        "!pip -q install neo4j pandas langchain-community openai matplotlib seaborn python-dotenv\n",
        "\n",
        "import os, pathlib, json, re, warnings\n",
        "from typing import List, Dict, Any, Tuple\n",
        "\n",
        "import pandas as pd\n",
        "import numpy as np\n",
        "import matplotlib.pyplot as plt\n",
        "import seaborn as sns\n",
        "\n",
        "from dotenv import load_dotenv\n",
        "from neo4j import GraphDatabase, basic_auth\n",
        "from langchain_community.graphs import Neo4jGraph\n",
        "from openai import AzureOpenAI\n",
        "from sklearn.metrics import (\n",
        "    accuracy_score, precision_score, recall_score,\n",
        "    f1_score, confusion_matrix\n",
        ")\n",
        "\n",
        "warnings.filterwarnings(\"ignore\", category=pd.errors.SettingWithCopyWarning)\n"
      ],
      "metadata": {
        "id": "h95zfooauUHq"
      },
      "execution_count": null,
      "outputs": []
    },
    {
      "cell_type": "code",
      "source": [
        "def neo_graph() -> Neo4jGraph:\n",
        "    \"\"\"Return a reusable Neo4jGraph instance.\"\"\"\n",
        "    return Neo4jGraph(\n",
        "        url=os.environ[\"NEO4J_URI\"],\n",
        "        username=os.environ[\"NEO4J_USERNAME\"],\n",
        "        password=os.environ[\"NEO4J_PASSWORD\"]\n",
        "    )\n",
        "\n",
        "def azure_client() -> AzureOpenAI:\n",
        "    \"\"\"Return an AzureOpenAI client (fail fast if vars missing).\"\"\"\n",
        "    missing = [k for k in\n",
        "               [\"AZURE_OPENAI_API_KEY\", \"AZURE_OPENAI_ENDPOINT\",\n",
        "                \"AZURE_OPENAI_DEPLOYMENT\", \"AZURE_OPENAI_API_VERSION\"]\n",
        "               if not os.getenv(k)]\n",
        "    if missing:\n",
        "        raise EnvironmentError(f\"Missing env vars: {', '.join(missing)}\")\n",
        "    return AzureOpenAI(\n",
        "        api_key=os.environ[\"AZURE_OPENAI_API_KEY\"],\n",
        "        azure_endpoint=os.environ[\"AZURE_OPENAI_ENDPOINT\"],\n",
        "        api_version=os.environ[\"AZURE_OPENAI_API_VERSION\"]\n",
        "    )\n"
      ],
      "metadata": {
        "id": "NmAriTawuaQJ"
      },
      "execution_count": null,
      "outputs": []
    },
    {
      "cell_type": "code",
      "source": [
        "class ReviewErrorDetector:\n",
        "    \"\"\"\n",
        "    Detect semantic / contextual errors in Bosch reviews\n",
        "    using a Neo4j knowledge-graph + Azure GPT-4o.\n",
        "    \"\"\"\n",
        "    # ────────────────────────────────────────────────────────────\n",
        "    def __init__(self):\n",
        "        self.graph  = neo_graph()\n",
        "        self.client = azure_client()\n",
        "\n",
        "    # ------------------------------------------------------------\n",
        "    def _query_product(self, model: str) -> Dict[str, Any]:\n",
        "        \"\"\"\n",
        "        Pull specs, accessories, included items, limitations, etc.\n",
        "        Falls back gracefully if a property is missing.\n",
        "        \"\"\"\n",
        "        cypher = \"\"\"\n",
        "        MATCH (t:Tool)\n",
        "        WHERE toLower(t.model_number) STARTS WITH toLower($product_id)\n",
        "        OPTIONAL MATCH (t)-[:BELONGS_TO]->(c:Category)\n",
        "        OPTIONAL MATCH (t)-[:HAS_SPECIFICATION]->(s:Specification)\n",
        "                     OPTIONAL MATCH (s)-[:HAS_UNIT]->(u:Unit)\n",
        "                     OPTIONAL MATCH (s)-[:HAS_MIN_LIMIT]->(mn:RangeLimit)\n",
        "                     OPTIONAL MATCH (s)-[:HAS_MAX_LIMIT]->(mx:RangeLimit)\n",
        "        OPTIONAL MATCH (t)-[:COMPATIBLE_WITH]->(a:Accessory)\n",
        "        OPTIONAL MATCH (t)-[:INCLUDES]->(i:IncludedItem)\n",
        "        OPTIONAL MATCH (t)-[:HAS_LIMITATION]->(l:Limitation)\n",
        "        RETURN t,c,\n",
        "               collect(DISTINCT {spec:s,unit:u,min:mn,max:mx}) as specs,\n",
        "               collect(DISTINCT a)  as acc,\n",
        "               collect(DISTINCT i)  as inc,\n",
        "               collect(DISTINCT l)  as lim\n",
        "        \"\"\"\n",
        "        recs = self.graph.query(cypher, {\"product_id\": model})\n",
        "        if not recs:\n",
        "            return {\"error\": f\"Model {model} not in KG\"}\n",
        "\n",
        "        r = recs[0]\n",
        "        data = {\n",
        "            \"model\": r[\"t\"][\"model_number\"],\n",
        "            \"name\":  r[\"t\"][\"name\"],\n",
        "            \"cat\":   (r[\"c\"] or {}).get(\"name\",\"Unknown\"),\n",
        "            \"specs\": {}, \"acc\": [], \"inc\": [], \"lim\": []\n",
        "        }\n",
        "\n",
        "        for s in r[\"specs\"]:\n",
        "            s_node = s[\"spec\"]; u_node = s[\"unit\"]\n",
        "            if not s_node: continue\n",
        "            val = None\n",
        "            # Try plain value first\n",
        "            if \"value\" in s_node: val = s_node[\"value\"]\n",
        "            # else derive from min/max range limits\n",
        "            elif s[\"min\"] and s[\"max\"]:\n",
        "                val = {\"min\": s[\"min\"][\"value\"],\n",
        "                       \"max\": s[\"max\"][\"value\"],\n",
        "                       \"is_range\": True}\n",
        "            data[\"specs\"][s_node[\"name\"]] = {\n",
        "                \"value\": val,\n",
        "                \"unit\":  (u_node or {}).get(\"symbol\",\"\")\n",
        "            }\n",
        "\n",
        "        for a in r[\"acc\"]:  data[\"acc\"].append(a[\"name\"])\n",
        "        for i in r[\"inc\"]:  data[\"inc\"].append(i[\"name\"])\n",
        "        for l in r[\"lim\"]:\n",
        "            data[\"lim\"].append(l[\"description\"])\n",
        "\n",
        "        return data\n",
        "\n",
        "    # ------------------------------------------------------------\n",
        "    def _llm_check(self, review: str, prod: Dict[str,Any]) -> Tuple[str,str]:\n",
        "        \"\"\"Call Azure GPT-4o and parse its answer.\"\"\"\n",
        "        context = [f\"- {k}: {json.dumps(v,ensure_ascii=False)}\"\n",
        "                   for k,v in prod[\"specs\"].items()]\n",
        "        prompt = f\"\"\"\n",
        "        PRODUCT: {prod['model']} ({prod['name']})\n",
        "        CATEGORY: {prod['cat']}\n",
        "\n",
        "        SPECS:\\n{chr(10).join(context)}\n",
        "\n",
        "        ACCESSORIES: {', '.join(prod['acc']) or 'None'}\n",
        "        INCLUDED ITEMS: {', '.join(prod['inc']) or 'None'}\n",
        "        LIMITATIONS: {chr(10).join(prod['lim']) or 'None'}\n",
        "\n",
        "        REVIEW: \\\"\\\"\\\"{review}\\\"\\\"\\\"\n",
        "\n",
        "        Decide whether the review contains:\n",
        "        • Semantic errors (incorrect terminology)\n",
        "        • Contextual errors (mentions impossible specs / limits)\n",
        "        Respond strictly:\n",
        "\n",
        "        ERROR_TYPE: Clean | Semantic | Contextual | Both\n",
        "        EXPLANATION: <one short sentence>\"\"\"\n",
        "        rsp = self.client.chat.completions.create(\n",
        "            model=os.environ[\"AZURE_OPENAI_DEPLOYMENT\"],\n",
        "            messages=[{\"role\":\"user\",\"content\":prompt}],\n",
        "            temperature=0\n",
        "        )\n",
        "        txt = rsp.choices[0].message.content\n",
        "        et  = re.search(r'ERROR_TYPE:\\s*(Clean|Semantic|Contextual|Both)', txt)\n",
        "        ex  = re.search(r'EXPLANATION:\\s*(.*)', txt, re.S)\n",
        "        return (et.group(1) if et else \"Unknown\",\n",
        "                (ex.group(1) if ex else txt).strip())\n",
        "\n",
        "    # ------------------------------------------------------------\n",
        "    def process_reviews(self, xlsx_path: pathlib.Path) -> pd.DataFrame:\n",
        "        df = pd.read_excel(xlsx_path).copy()\n",
        "        df[\"Predicted_Error\"], df[\"Explanation\"] = None, None\n",
        "\n",
        "        # optional: map ground-truth column to canonical names\n",
        "        if \"Review_Type\" in df:\n",
        "            df[\"Actual_Error\"] = df[\"Review_Type\"].map({\n",
        "                \"Normal\":\"Clean\",\n",
        "                \"Semantic Misalignment\":\"Semantic\",\n",
        "                \"Specialized Error\":\"Contextual\"\n",
        "            })\n",
        "        else:\n",
        "            df[\"Actual_Error\"] = None\n",
        "\n",
        "        for idx,row in df.iterrows():\n",
        "            prod = self._query_product(row[\"Product_ID\"])\n",
        "            if \"error\" in prod:\n",
        "                df.loc[idx,[\"Predicted_Error\",\"Explanation\"]] = \\\n",
        "                    (\"Data Error\", prod[\"error\"])\n",
        "                continue\n",
        "            err, expl = self._llm_check(row[\"Review\"], prod)\n",
        "            df.loc[idx,[\"Predicted_Error\",\"Explanation\"]] = (err, expl)\n",
        "\n",
        "        out = xlsx_path.with_stem(xlsx_path.stem + \"_analyzed\")\n",
        "        df.to_excel(out, index=False)\n",
        "        print(f\"🔖  Saved results ➜ {out}\")\n",
        "        return df\n",
        "\n",
        "    # ------------------------------------------------------------\n",
        "    def metrics(self, df: pd.DataFrame) -> Dict[str,float]:\n",
        "        mask = df[\"Actual_Error\"].notna() & (df[\"Predicted_Error\"]!=\"Data Error\")\n",
        "        test = df.loc[mask]\n",
        "        if test.empty:\n",
        "            return {\"error\":\"No ground-truth rows\"}\n",
        "\n",
        "        labels = [\"Clean\",\"Semantic\",\"Contextual\",\"Both\"]\n",
        "        enc = {k:i for i,k in enumerate(labels)}\n",
        "        y_t, y_p = test[\"Actual_Error\"].map(enc), test[\"Predicted_Error\"].map(enc)\n",
        "\n",
        "        m = {\n",
        "            \"accuracy\": accuracy_score(y_t, y_p),\n",
        "            \"precision\": precision_score(y_t, y_p, labels=list(enc.values()), average=\"macro\", zero_division=0),\n",
        "            \"recall\":    recall_score(   y_t, y_p, labels=list(enc.values()), average=\"macro\", zero_division=0),\n",
        "            \"f1\":        f1_score(       y_t, y_p, labels=list(enc.values()), average=\"macro\", zero_division=0),\n",
        "            \"cm\":        confusion_matrix(y_t, y_p, labels=list(enc.values()))\n",
        "        }\n",
        "        return m\n"
      ],
      "metadata": {
        "id": "aw4QhxNDu2cQ"
      },
      "execution_count": null,
      "outputs": []
    },
    {
      "cell_type": "code",
      "source": [
        "detector = ReviewErrorDetector()\n",
        "\n",
        "# --- choose the file already in /content ---\n",
        "print(\"Files in /content:\")\n",
        "for f in os.listdir(\"/content\"): print(\" •\",f)\n",
        "\n",
        "xlsx = pathlib.Path(\"/content/Synthetic_Dataset_small.xlsx\")   # ← adjust if needed\n",
        "df   = detector.process_reviews(xlsx)\n",
        "\n",
        "m = detector.metrics(df)\n",
        "if \"error\" in m:\n",
        "    print(m[\"error\"])\n",
        "else:\n",
        "    print(json.dumps({k:round(v,3) if not isinstance(v,np.ndarray) else \"cm\"\n",
        "                      for k,v in m.items()}, indent=2))\n",
        "    plot_conf_mat(m[\"cm\"], [\"Clean\",\"Sem\",\"Ctx\",\"Both\"])\n"
      ],
      "metadata": {
        "colab": {
          "base_uri": "https://localhost:8080/"
        },
        "id": "_FpmQIjvvSaF",
        "outputId": "f29f2411-611f-4ab5-84c7-c55f1da6b203"
      },
      "execution_count": null,
      "outputs": [
        {
          "output_type": "stream",
          "name": "stderr",
          "text": [
            "<ipython-input-17-2c250cf15497>:3: LangChainDeprecationWarning: The class `Neo4jGraph` was deprecated in LangChain 0.3.8 and will be removed in 1.0. An updated version of the class exists in the :class:`~langchain-neo4j package and should be used instead. To use it run `pip install -U :class:`~langchain-neo4j` and import as `from :class:`~langchain_neo4j import Neo4jGraph``.\n",
            "  return Neo4jGraph(\n"
          ]
        },
        {
          "output_type": "stream",
          "name": "stdout",
          "text": [
            "Files in /content:\n",
            " • .config\n",
            " • Synthetic_Dataset_small.xlsx\n",
            " • sample_data\n"
          ]
        },
        {
          "output_type": "stream",
          "name": "stderr",
          "text": [
            "WARNING:neo4j.notifications:Received notification from DBMS server: {severity: WARNING} {code: Neo.ClientNotification.Statement.UnknownRelationshipTypeWarning} {category: UNRECOGNIZED} {title: The provided relationship type is not in the database.} {description: One of the relationship types in your query is not available in the database, make sure you didn't misspell it or that the label is available when you run this statement in your application (the missing relationship type is: COMPATIBLE_WITH)} {position: line: 9, column: 30, offset: 456} for query: '\\n        MATCH (t:Tool)\\n        WHERE toLower(t.model_number) STARTS WITH toLower($product_id)\\n        OPTIONAL MATCH (t)-[:BELONGS_TO]->(c:Category)\\n        OPTIONAL MATCH (t)-[:HAS_SPECIFICATION]->(s:Specification)\\n                     OPTIONAL MATCH (s)-[:HAS_UNIT]->(u:Unit)\\n                     OPTIONAL MATCH (s)-[:HAS_MIN_LIMIT]->(mn:RangeLimit)\\n                     OPTIONAL MATCH (s)-[:HAS_MAX_LIMIT]->(mx:RangeLimit)\\n        OPTIONAL MATCH (t)-[:COMPATIBLE_WITH]->(a:Accessory)\\n        OPTIONAL MATCH (t)-[:INCLUDES]->(i:IncludedItem)\\n        OPTIONAL MATCH (t)-[:HAS_LIMITATION]->(l:Limitation)\\n        RETURN t,c,\\n               collect(DISTINCT {spec:s,unit:u,min:mn,max:mx}) as specs,\\n               collect(DISTINCT a)  as acc,\\n               collect(DISTINCT i)  as inc,\\n               collect(DISTINCT l)  as lim\\n        '\n",
            "WARNING:neo4j.notifications:Received notification from DBMS server: {severity: WARNING} {code: Neo.ClientNotification.Statement.UnknownLabelWarning} {category: UNRECOGNIZED} {title: The provided label is not in the database.} {description: One of the labels in your query is not available in the database, make sure you didn't misspell it or that the label is available when you run this statement in your application (the missing label name is: Accessory)} {position: line: 9, column: 51, offset: 477} for query: '\\n        MATCH (t:Tool)\\n        WHERE toLower(t.model_number) STARTS WITH toLower($product_id)\\n        OPTIONAL MATCH (t)-[:BELONGS_TO]->(c:Category)\\n        OPTIONAL MATCH (t)-[:HAS_SPECIFICATION]->(s:Specification)\\n                     OPTIONAL MATCH (s)-[:HAS_UNIT]->(u:Unit)\\n                     OPTIONAL MATCH (s)-[:HAS_MIN_LIMIT]->(mn:RangeLimit)\\n                     OPTIONAL MATCH (s)-[:HAS_MAX_LIMIT]->(mx:RangeLimit)\\n        OPTIONAL MATCH (t)-[:COMPATIBLE_WITH]->(a:Accessory)\\n        OPTIONAL MATCH (t)-[:INCLUDES]->(i:IncludedItem)\\n        OPTIONAL MATCH (t)-[:HAS_LIMITATION]->(l:Limitation)\\n        RETURN t,c,\\n               collect(DISTINCT {spec:s,unit:u,min:mn,max:mx}) as specs,\\n               collect(DISTINCT a)  as acc,\\n               collect(DISTINCT i)  as inc,\\n               collect(DISTINCT l)  as lim\\n        '\n",
            "WARNING:neo4j.notifications:Received notification from DBMS server: {severity: WARNING} {code: Neo.ClientNotification.Statement.UnknownRelationshipTypeWarning} {category: UNRECOGNIZED} {title: The provided relationship type is not in the database.} {description: One of the relationship types in your query is not available in the database, make sure you didn't misspell it or that the label is available when you run this statement in your application (the missing relationship type is: INCLUDES)} {position: line: 10, column: 30, offset: 517} for query: '\\n        MATCH (t:Tool)\\n        WHERE toLower(t.model_number) STARTS WITH toLower($product_id)\\n        OPTIONAL MATCH (t)-[:BELONGS_TO]->(c:Category)\\n        OPTIONAL MATCH (t)-[:HAS_SPECIFICATION]->(s:Specification)\\n                     OPTIONAL MATCH (s)-[:HAS_UNIT]->(u:Unit)\\n                     OPTIONAL MATCH (s)-[:HAS_MIN_LIMIT]->(mn:RangeLimit)\\n                     OPTIONAL MATCH (s)-[:HAS_MAX_LIMIT]->(mx:RangeLimit)\\n        OPTIONAL MATCH (t)-[:COMPATIBLE_WITH]->(a:Accessory)\\n        OPTIONAL MATCH (t)-[:INCLUDES]->(i:IncludedItem)\\n        OPTIONAL MATCH (t)-[:HAS_LIMITATION]->(l:Limitation)\\n        RETURN t,c,\\n               collect(DISTINCT {spec:s,unit:u,min:mn,max:mx}) as specs,\\n               collect(DISTINCT a)  as acc,\\n               collect(DISTINCT i)  as inc,\\n               collect(DISTINCT l)  as lim\\n        '\n",
            "WARNING:neo4j.notifications:Received notification from DBMS server: {severity: WARNING} {code: Neo.ClientNotification.Statement.UnknownLabelWarning} {category: UNRECOGNIZED} {title: The provided label is not in the database.} {description: One of the labels in your query is not available in the database, make sure you didn't misspell it or that the label is available when you run this statement in your application (the missing label name is: IncludedItem)} {position: line: 10, column: 44, offset: 531} for query: '\\n        MATCH (t:Tool)\\n        WHERE toLower(t.model_number) STARTS WITH toLower($product_id)\\n        OPTIONAL MATCH (t)-[:BELONGS_TO]->(c:Category)\\n        OPTIONAL MATCH (t)-[:HAS_SPECIFICATION]->(s:Specification)\\n                     OPTIONAL MATCH (s)-[:HAS_UNIT]->(u:Unit)\\n                     OPTIONAL MATCH (s)-[:HAS_MIN_LIMIT]->(mn:RangeLimit)\\n                     OPTIONAL MATCH (s)-[:HAS_MAX_LIMIT]->(mx:RangeLimit)\\n        OPTIONAL MATCH (t)-[:COMPATIBLE_WITH]->(a:Accessory)\\n        OPTIONAL MATCH (t)-[:INCLUDES]->(i:IncludedItem)\\n        OPTIONAL MATCH (t)-[:HAS_LIMITATION]->(l:Limitation)\\n        RETURN t,c,\\n               collect(DISTINCT {spec:s,unit:u,min:mn,max:mx}) as specs,\\n               collect(DISTINCT a)  as acc,\\n               collect(DISTINCT i)  as inc,\\n               collect(DISTINCT l)  as lim\\n        '\n",
            "WARNING:neo4j.notifications:Received notification from DBMS server: {severity: WARNING} {code: Neo.ClientNotification.Statement.AggregationSkippedNull} {category: UNRECOGNIZED} {title: The query contains an aggregation function that skips null values.} {description: null value eliminated in set function.} {position: None} for query: '\\n        MATCH (t:Tool)\\n        WHERE toLower(t.model_number) STARTS WITH toLower($product_id)\\n        OPTIONAL MATCH (t)-[:BELONGS_TO]->(c:Category)\\n        OPTIONAL MATCH (t)-[:HAS_SPECIFICATION]->(s:Specification)\\n                     OPTIONAL MATCH (s)-[:HAS_UNIT]->(u:Unit)\\n                     OPTIONAL MATCH (s)-[:HAS_MIN_LIMIT]->(mn:RangeLimit)\\n                     OPTIONAL MATCH (s)-[:HAS_MAX_LIMIT]->(mx:RangeLimit)\\n        OPTIONAL MATCH (t)-[:COMPATIBLE_WITH]->(a:Accessory)\\n        OPTIONAL MATCH (t)-[:INCLUDES]->(i:IncludedItem)\\n        OPTIONAL MATCH (t)-[:HAS_LIMITATION]->(l:Limitation)\\n        RETURN t,c,\\n               collect(DISTINCT {spec:s,unit:u,min:mn,max:mx}) as specs,\\n               collect(DISTINCT a)  as acc,\\n               collect(DISTINCT i)  as inc,\\n               collect(DISTINCT l)  as lim\\n        '\n",
            "WARNING:neo4j.notifications:Received notification from DBMS server: {severity: WARNING} {code: Neo.ClientNotification.Statement.UnknownRelationshipTypeWarning} {category: UNRECOGNIZED} {title: The provided relationship type is not in the database.} {description: One of the relationship types in your query is not available in the database, make sure you didn't misspell it or that the label is available when you run this statement in your application (the missing relationship type is: COMPATIBLE_WITH)} {position: line: 9, column: 30, offset: 456} for query: '\\n        MATCH (t:Tool)\\n        WHERE toLower(t.model_number) STARTS WITH toLower($product_id)\\n        OPTIONAL MATCH (t)-[:BELONGS_TO]->(c:Category)\\n        OPTIONAL MATCH (t)-[:HAS_SPECIFICATION]->(s:Specification)\\n                     OPTIONAL MATCH (s)-[:HAS_UNIT]->(u:Unit)\\n                     OPTIONAL MATCH (s)-[:HAS_MIN_LIMIT]->(mn:RangeLimit)\\n                     OPTIONAL MATCH (s)-[:HAS_MAX_LIMIT]->(mx:RangeLimit)\\n        OPTIONAL MATCH (t)-[:COMPATIBLE_WITH]->(a:Accessory)\\n        OPTIONAL MATCH (t)-[:INCLUDES]->(i:IncludedItem)\\n        OPTIONAL MATCH (t)-[:HAS_LIMITATION]->(l:Limitation)\\n        RETURN t,c,\\n               collect(DISTINCT {spec:s,unit:u,min:mn,max:mx}) as specs,\\n               collect(DISTINCT a)  as acc,\\n               collect(DISTINCT i)  as inc,\\n               collect(DISTINCT l)  as lim\\n        '\n",
            "WARNING:neo4j.notifications:Received notification from DBMS server: {severity: WARNING} {code: Neo.ClientNotification.Statement.UnknownLabelWarning} {category: UNRECOGNIZED} {title: The provided label is not in the database.} {description: One of the labels in your query is not available in the database, make sure you didn't misspell it or that the label is available when you run this statement in your application (the missing label name is: Accessory)} {position: line: 9, column: 51, offset: 477} for query: '\\n        MATCH (t:Tool)\\n        WHERE toLower(t.model_number) STARTS WITH toLower($product_id)\\n        OPTIONAL MATCH (t)-[:BELONGS_TO]->(c:Category)\\n        OPTIONAL MATCH (t)-[:HAS_SPECIFICATION]->(s:Specification)\\n                     OPTIONAL MATCH (s)-[:HAS_UNIT]->(u:Unit)\\n                     OPTIONAL MATCH (s)-[:HAS_MIN_LIMIT]->(mn:RangeLimit)\\n                     OPTIONAL MATCH (s)-[:HAS_MAX_LIMIT]->(mx:RangeLimit)\\n        OPTIONAL MATCH (t)-[:COMPATIBLE_WITH]->(a:Accessory)\\n        OPTIONAL MATCH (t)-[:INCLUDES]->(i:IncludedItem)\\n        OPTIONAL MATCH (t)-[:HAS_LIMITATION]->(l:Limitation)\\n        RETURN t,c,\\n               collect(DISTINCT {spec:s,unit:u,min:mn,max:mx}) as specs,\\n               collect(DISTINCT a)  as acc,\\n               collect(DISTINCT i)  as inc,\\n               collect(DISTINCT l)  as lim\\n        '\n",
            "WARNING:neo4j.notifications:Received notification from DBMS server: {severity: WARNING} {code: Neo.ClientNotification.Statement.UnknownRelationshipTypeWarning} {category: UNRECOGNIZED} {title: The provided relationship type is not in the database.} {description: One of the relationship types in your query is not available in the database, make sure you didn't misspell it or that the label is available when you run this statement in your application (the missing relationship type is: INCLUDES)} {position: line: 10, column: 30, offset: 517} for query: '\\n        MATCH (t:Tool)\\n        WHERE toLower(t.model_number) STARTS WITH toLower($product_id)\\n        OPTIONAL MATCH (t)-[:BELONGS_TO]->(c:Category)\\n        OPTIONAL MATCH (t)-[:HAS_SPECIFICATION]->(s:Specification)\\n                     OPTIONAL MATCH (s)-[:HAS_UNIT]->(u:Unit)\\n                     OPTIONAL MATCH (s)-[:HAS_MIN_LIMIT]->(mn:RangeLimit)\\n                     OPTIONAL MATCH (s)-[:HAS_MAX_LIMIT]->(mx:RangeLimit)\\n        OPTIONAL MATCH (t)-[:COMPATIBLE_WITH]->(a:Accessory)\\n        OPTIONAL MATCH (t)-[:INCLUDES]->(i:IncludedItem)\\n        OPTIONAL MATCH (t)-[:HAS_LIMITATION]->(l:Limitation)\\n        RETURN t,c,\\n               collect(DISTINCT {spec:s,unit:u,min:mn,max:mx}) as specs,\\n               collect(DISTINCT a)  as acc,\\n               collect(DISTINCT i)  as inc,\\n               collect(DISTINCT l)  as lim\\n        '\n",
            "WARNING:neo4j.notifications:Received notification from DBMS server: {severity: WARNING} {code: Neo.ClientNotification.Statement.UnknownLabelWarning} {category: UNRECOGNIZED} {title: The provided label is not in the database.} {description: One of the labels in your query is not available in the database, make sure you didn't misspell it or that the label is available when you run this statement in your application (the missing label name is: IncludedItem)} {position: line: 10, column: 44, offset: 531} for query: '\\n        MATCH (t:Tool)\\n        WHERE toLower(t.model_number) STARTS WITH toLower($product_id)\\n        OPTIONAL MATCH (t)-[:BELONGS_TO]->(c:Category)\\n        OPTIONAL MATCH (t)-[:HAS_SPECIFICATION]->(s:Specification)\\n                     OPTIONAL MATCH (s)-[:HAS_UNIT]->(u:Unit)\\n                     OPTIONAL MATCH (s)-[:HAS_MIN_LIMIT]->(mn:RangeLimit)\\n                     OPTIONAL MATCH (s)-[:HAS_MAX_LIMIT]->(mx:RangeLimit)\\n        OPTIONAL MATCH (t)-[:COMPATIBLE_WITH]->(a:Accessory)\\n        OPTIONAL MATCH (t)-[:INCLUDES]->(i:IncludedItem)\\n        OPTIONAL MATCH (t)-[:HAS_LIMITATION]->(l:Limitation)\\n        RETURN t,c,\\n               collect(DISTINCT {spec:s,unit:u,min:mn,max:mx}) as specs,\\n               collect(DISTINCT a)  as acc,\\n               collect(DISTINCT i)  as inc,\\n               collect(DISTINCT l)  as lim\\n        '\n",
            "WARNING:neo4j.notifications:Received notification from DBMS server: {severity: WARNING} {code: Neo.ClientNotification.Statement.AggregationSkippedNull} {category: UNRECOGNIZED} {title: The query contains an aggregation function that skips null values.} {description: null value eliminated in set function.} {position: None} for query: '\\n        MATCH (t:Tool)\\n        WHERE toLower(t.model_number) STARTS WITH toLower($product_id)\\n        OPTIONAL MATCH (t)-[:BELONGS_TO]->(c:Category)\\n        OPTIONAL MATCH (t)-[:HAS_SPECIFICATION]->(s:Specification)\\n                     OPTIONAL MATCH (s)-[:HAS_UNIT]->(u:Unit)\\n                     OPTIONAL MATCH (s)-[:HAS_MIN_LIMIT]->(mn:RangeLimit)\\n                     OPTIONAL MATCH (s)-[:HAS_MAX_LIMIT]->(mx:RangeLimit)\\n        OPTIONAL MATCH (t)-[:COMPATIBLE_WITH]->(a:Accessory)\\n        OPTIONAL MATCH (t)-[:INCLUDES]->(i:IncludedItem)\\n        OPTIONAL MATCH (t)-[:HAS_LIMITATION]->(l:Limitation)\\n        RETURN t,c,\\n               collect(DISTINCT {spec:s,unit:u,min:mn,max:mx}) as specs,\\n               collect(DISTINCT a)  as acc,\\n               collect(DISTINCT i)  as inc,\\n               collect(DISTINCT l)  as lim\\n        '\n",
            "WARNING:neo4j.notifications:Received notification from DBMS server: {severity: WARNING} {code: Neo.ClientNotification.Statement.UnknownRelationshipTypeWarning} {category: UNRECOGNIZED} {title: The provided relationship type is not in the database.} {description: One of the relationship types in your query is not available in the database, make sure you didn't misspell it or that the label is available when you run this statement in your application (the missing relationship type is: COMPATIBLE_WITH)} {position: line: 9, column: 30, offset: 456} for query: '\\n        MATCH (t:Tool)\\n        WHERE toLower(t.model_number) STARTS WITH toLower($product_id)\\n        OPTIONAL MATCH (t)-[:BELONGS_TO]->(c:Category)\\n        OPTIONAL MATCH (t)-[:HAS_SPECIFICATION]->(s:Specification)\\n                     OPTIONAL MATCH (s)-[:HAS_UNIT]->(u:Unit)\\n                     OPTIONAL MATCH (s)-[:HAS_MIN_LIMIT]->(mn:RangeLimit)\\n                     OPTIONAL MATCH (s)-[:HAS_MAX_LIMIT]->(mx:RangeLimit)\\n        OPTIONAL MATCH (t)-[:COMPATIBLE_WITH]->(a:Accessory)\\n        OPTIONAL MATCH (t)-[:INCLUDES]->(i:IncludedItem)\\n        OPTIONAL MATCH (t)-[:HAS_LIMITATION]->(l:Limitation)\\n        RETURN t,c,\\n               collect(DISTINCT {spec:s,unit:u,min:mn,max:mx}) as specs,\\n               collect(DISTINCT a)  as acc,\\n               collect(DISTINCT i)  as inc,\\n               collect(DISTINCT l)  as lim\\n        '\n",
            "WARNING:neo4j.notifications:Received notification from DBMS server: {severity: WARNING} {code: Neo.ClientNotification.Statement.UnknownLabelWarning} {category: UNRECOGNIZED} {title: The provided label is not in the database.} {description: One of the labels in your query is not available in the database, make sure you didn't misspell it or that the label is available when you run this statement in your application (the missing label name is: Accessory)} {position: line: 9, column: 51, offset: 477} for query: '\\n        MATCH (t:Tool)\\n        WHERE toLower(t.model_number) STARTS WITH toLower($product_id)\\n        OPTIONAL MATCH (t)-[:BELONGS_TO]->(c:Category)\\n        OPTIONAL MATCH (t)-[:HAS_SPECIFICATION]->(s:Specification)\\n                     OPTIONAL MATCH (s)-[:HAS_UNIT]->(u:Unit)\\n                     OPTIONAL MATCH (s)-[:HAS_MIN_LIMIT]->(mn:RangeLimit)\\n                     OPTIONAL MATCH (s)-[:HAS_MAX_LIMIT]->(mx:RangeLimit)\\n        OPTIONAL MATCH (t)-[:COMPATIBLE_WITH]->(a:Accessory)\\n        OPTIONAL MATCH (t)-[:INCLUDES]->(i:IncludedItem)\\n        OPTIONAL MATCH (t)-[:HAS_LIMITATION]->(l:Limitation)\\n        RETURN t,c,\\n               collect(DISTINCT {spec:s,unit:u,min:mn,max:mx}) as specs,\\n               collect(DISTINCT a)  as acc,\\n               collect(DISTINCT i)  as inc,\\n               collect(DISTINCT l)  as lim\\n        '\n",
            "WARNING:neo4j.notifications:Received notification from DBMS server: {severity: WARNING} {code: Neo.ClientNotification.Statement.UnknownRelationshipTypeWarning} {category: UNRECOGNIZED} {title: The provided relationship type is not in the database.} {description: One of the relationship types in your query is not available in the database, make sure you didn't misspell it or that the label is available when you run this statement in your application (the missing relationship type is: INCLUDES)} {position: line: 10, column: 30, offset: 517} for query: '\\n        MATCH (t:Tool)\\n        WHERE toLower(t.model_number) STARTS WITH toLower($product_id)\\n        OPTIONAL MATCH (t)-[:BELONGS_TO]->(c:Category)\\n        OPTIONAL MATCH (t)-[:HAS_SPECIFICATION]->(s:Specification)\\n                     OPTIONAL MATCH (s)-[:HAS_UNIT]->(u:Unit)\\n                     OPTIONAL MATCH (s)-[:HAS_MIN_LIMIT]->(mn:RangeLimit)\\n                     OPTIONAL MATCH (s)-[:HAS_MAX_LIMIT]->(mx:RangeLimit)\\n        OPTIONAL MATCH (t)-[:COMPATIBLE_WITH]->(a:Accessory)\\n        OPTIONAL MATCH (t)-[:INCLUDES]->(i:IncludedItem)\\n        OPTIONAL MATCH (t)-[:HAS_LIMITATION]->(l:Limitation)\\n        RETURN t,c,\\n               collect(DISTINCT {spec:s,unit:u,min:mn,max:mx}) as specs,\\n               collect(DISTINCT a)  as acc,\\n               collect(DISTINCT i)  as inc,\\n               collect(DISTINCT l)  as lim\\n        '\n",
            "WARNING:neo4j.notifications:Received notification from DBMS server: {severity: WARNING} {code: Neo.ClientNotification.Statement.UnknownLabelWarning} {category: UNRECOGNIZED} {title: The provided label is not in the database.} {description: One of the labels in your query is not available in the database, make sure you didn't misspell it or that the label is available when you run this statement in your application (the missing label name is: IncludedItem)} {position: line: 10, column: 44, offset: 531} for query: '\\n        MATCH (t:Tool)\\n        WHERE toLower(t.model_number) STARTS WITH toLower($product_id)\\n        OPTIONAL MATCH (t)-[:BELONGS_TO]->(c:Category)\\n        OPTIONAL MATCH (t)-[:HAS_SPECIFICATION]->(s:Specification)\\n                     OPTIONAL MATCH (s)-[:HAS_UNIT]->(u:Unit)\\n                     OPTIONAL MATCH (s)-[:HAS_MIN_LIMIT]->(mn:RangeLimit)\\n                     OPTIONAL MATCH (s)-[:HAS_MAX_LIMIT]->(mx:RangeLimit)\\n        OPTIONAL MATCH (t)-[:COMPATIBLE_WITH]->(a:Accessory)\\n        OPTIONAL MATCH (t)-[:INCLUDES]->(i:IncludedItem)\\n        OPTIONAL MATCH (t)-[:HAS_LIMITATION]->(l:Limitation)\\n        RETURN t,c,\\n               collect(DISTINCT {spec:s,unit:u,min:mn,max:mx}) as specs,\\n               collect(DISTINCT a)  as acc,\\n               collect(DISTINCT i)  as inc,\\n               collect(DISTINCT l)  as lim\\n        '\n",
            "WARNING:neo4j.notifications:Received notification from DBMS server: {severity: WARNING} {code: Neo.ClientNotification.Statement.AggregationSkippedNull} {category: UNRECOGNIZED} {title: The query contains an aggregation function that skips null values.} {description: null value eliminated in set function.} {position: None} for query: '\\n        MATCH (t:Tool)\\n        WHERE toLower(t.model_number) STARTS WITH toLower($product_id)\\n        OPTIONAL MATCH (t)-[:BELONGS_TO]->(c:Category)\\n        OPTIONAL MATCH (t)-[:HAS_SPECIFICATION]->(s:Specification)\\n                     OPTIONAL MATCH (s)-[:HAS_UNIT]->(u:Unit)\\n                     OPTIONAL MATCH (s)-[:HAS_MIN_LIMIT]->(mn:RangeLimit)\\n                     OPTIONAL MATCH (s)-[:HAS_MAX_LIMIT]->(mx:RangeLimit)\\n        OPTIONAL MATCH (t)-[:COMPATIBLE_WITH]->(a:Accessory)\\n        OPTIONAL MATCH (t)-[:INCLUDES]->(i:IncludedItem)\\n        OPTIONAL MATCH (t)-[:HAS_LIMITATION]->(l:Limitation)\\n        RETURN t,c,\\n               collect(DISTINCT {spec:s,unit:u,min:mn,max:mx}) as specs,\\n               collect(DISTINCT a)  as acc,\\n               collect(DISTINCT i)  as inc,\\n               collect(DISTINCT l)  as lim\\n        '\n",
            "WARNING:neo4j.notifications:Received notification from DBMS server: {severity: WARNING} {code: Neo.ClientNotification.Statement.UnknownRelationshipTypeWarning} {category: UNRECOGNIZED} {title: The provided relationship type is not in the database.} {description: One of the relationship types in your query is not available in the database, make sure you didn't misspell it or that the label is available when you run this statement in your application (the missing relationship type is: COMPATIBLE_WITH)} {position: line: 9, column: 30, offset: 456} for query: '\\n        MATCH (t:Tool)\\n        WHERE toLower(t.model_number) STARTS WITH toLower($product_id)\\n        OPTIONAL MATCH (t)-[:BELONGS_TO]->(c:Category)\\n        OPTIONAL MATCH (t)-[:HAS_SPECIFICATION]->(s:Specification)\\n                     OPTIONAL MATCH (s)-[:HAS_UNIT]->(u:Unit)\\n                     OPTIONAL MATCH (s)-[:HAS_MIN_LIMIT]->(mn:RangeLimit)\\n                     OPTIONAL MATCH (s)-[:HAS_MAX_LIMIT]->(mx:RangeLimit)\\n        OPTIONAL MATCH (t)-[:COMPATIBLE_WITH]->(a:Accessory)\\n        OPTIONAL MATCH (t)-[:INCLUDES]->(i:IncludedItem)\\n        OPTIONAL MATCH (t)-[:HAS_LIMITATION]->(l:Limitation)\\n        RETURN t,c,\\n               collect(DISTINCT {spec:s,unit:u,min:mn,max:mx}) as specs,\\n               collect(DISTINCT a)  as acc,\\n               collect(DISTINCT i)  as inc,\\n               collect(DISTINCT l)  as lim\\n        '\n",
            "WARNING:neo4j.notifications:Received notification from DBMS server: {severity: WARNING} {code: Neo.ClientNotification.Statement.UnknownLabelWarning} {category: UNRECOGNIZED} {title: The provided label is not in the database.} {description: One of the labels in your query is not available in the database, make sure you didn't misspell it or that the label is available when you run this statement in your application (the missing label name is: Accessory)} {position: line: 9, column: 51, offset: 477} for query: '\\n        MATCH (t:Tool)\\n        WHERE toLower(t.model_number) STARTS WITH toLower($product_id)\\n        OPTIONAL MATCH (t)-[:BELONGS_TO]->(c:Category)\\n        OPTIONAL MATCH (t)-[:HAS_SPECIFICATION]->(s:Specification)\\n                     OPTIONAL MATCH (s)-[:HAS_UNIT]->(u:Unit)\\n                     OPTIONAL MATCH (s)-[:HAS_MIN_LIMIT]->(mn:RangeLimit)\\n                     OPTIONAL MATCH (s)-[:HAS_MAX_LIMIT]->(mx:RangeLimit)\\n        OPTIONAL MATCH (t)-[:COMPATIBLE_WITH]->(a:Accessory)\\n        OPTIONAL MATCH (t)-[:INCLUDES]->(i:IncludedItem)\\n        OPTIONAL MATCH (t)-[:HAS_LIMITATION]->(l:Limitation)\\n        RETURN t,c,\\n               collect(DISTINCT {spec:s,unit:u,min:mn,max:mx}) as specs,\\n               collect(DISTINCT a)  as acc,\\n               collect(DISTINCT i)  as inc,\\n               collect(DISTINCT l)  as lim\\n        '\n",
            "WARNING:neo4j.notifications:Received notification from DBMS server: {severity: WARNING} {code: Neo.ClientNotification.Statement.UnknownRelationshipTypeWarning} {category: UNRECOGNIZED} {title: The provided relationship type is not in the database.} {description: One of the relationship types in your query is not available in the database, make sure you didn't misspell it or that the label is available when you run this statement in your application (the missing relationship type is: INCLUDES)} {position: line: 10, column: 30, offset: 517} for query: '\\n        MATCH (t:Tool)\\n        WHERE toLower(t.model_number) STARTS WITH toLower($product_id)\\n        OPTIONAL MATCH (t)-[:BELONGS_TO]->(c:Category)\\n        OPTIONAL MATCH (t)-[:HAS_SPECIFICATION]->(s:Specification)\\n                     OPTIONAL MATCH (s)-[:HAS_UNIT]->(u:Unit)\\n                     OPTIONAL MATCH (s)-[:HAS_MIN_LIMIT]->(mn:RangeLimit)\\n                     OPTIONAL MATCH (s)-[:HAS_MAX_LIMIT]->(mx:RangeLimit)\\n        OPTIONAL MATCH (t)-[:COMPATIBLE_WITH]->(a:Accessory)\\n        OPTIONAL MATCH (t)-[:INCLUDES]->(i:IncludedItem)\\n        OPTIONAL MATCH (t)-[:HAS_LIMITATION]->(l:Limitation)\\n        RETURN t,c,\\n               collect(DISTINCT {spec:s,unit:u,min:mn,max:mx}) as specs,\\n               collect(DISTINCT a)  as acc,\\n               collect(DISTINCT i)  as inc,\\n               collect(DISTINCT l)  as lim\\n        '\n",
            "WARNING:neo4j.notifications:Received notification from DBMS server: {severity: WARNING} {code: Neo.ClientNotification.Statement.UnknownLabelWarning} {category: UNRECOGNIZED} {title: The provided label is not in the database.} {description: One of the labels in your query is not available in the database, make sure you didn't misspell it or that the label is available when you run this statement in your application (the missing label name is: IncludedItem)} {position: line: 10, column: 44, offset: 531} for query: '\\n        MATCH (t:Tool)\\n        WHERE toLower(t.model_number) STARTS WITH toLower($product_id)\\n        OPTIONAL MATCH (t)-[:BELONGS_TO]->(c:Category)\\n        OPTIONAL MATCH (t)-[:HAS_SPECIFICATION]->(s:Specification)\\n                     OPTIONAL MATCH (s)-[:HAS_UNIT]->(u:Unit)\\n                     OPTIONAL MATCH (s)-[:HAS_MIN_LIMIT]->(mn:RangeLimit)\\n                     OPTIONAL MATCH (s)-[:HAS_MAX_LIMIT]->(mx:RangeLimit)\\n        OPTIONAL MATCH (t)-[:COMPATIBLE_WITH]->(a:Accessory)\\n        OPTIONAL MATCH (t)-[:INCLUDES]->(i:IncludedItem)\\n        OPTIONAL MATCH (t)-[:HAS_LIMITATION]->(l:Limitation)\\n        RETURN t,c,\\n               collect(DISTINCT {spec:s,unit:u,min:mn,max:mx}) as specs,\\n               collect(DISTINCT a)  as acc,\\n               collect(DISTINCT i)  as inc,\\n               collect(DISTINCT l)  as lim\\n        '\n",
            "WARNING:neo4j.notifications:Received notification from DBMS server: {severity: WARNING} {code: Neo.ClientNotification.Statement.AggregationSkippedNull} {category: UNRECOGNIZED} {title: The query contains an aggregation function that skips null values.} {description: null value eliminated in set function.} {position: None} for query: '\\n        MATCH (t:Tool)\\n        WHERE toLower(t.model_number) STARTS WITH toLower($product_id)\\n        OPTIONAL MATCH (t)-[:BELONGS_TO]->(c:Category)\\n        OPTIONAL MATCH (t)-[:HAS_SPECIFICATION]->(s:Specification)\\n                     OPTIONAL MATCH (s)-[:HAS_UNIT]->(u:Unit)\\n                     OPTIONAL MATCH (s)-[:HAS_MIN_LIMIT]->(mn:RangeLimit)\\n                     OPTIONAL MATCH (s)-[:HAS_MAX_LIMIT]->(mx:RangeLimit)\\n        OPTIONAL MATCH (t)-[:COMPATIBLE_WITH]->(a:Accessory)\\n        OPTIONAL MATCH (t)-[:INCLUDES]->(i:IncludedItem)\\n        OPTIONAL MATCH (t)-[:HAS_LIMITATION]->(l:Limitation)\\n        RETURN t,c,\\n               collect(DISTINCT {spec:s,unit:u,min:mn,max:mx}) as specs,\\n               collect(DISTINCT a)  as acc,\\n               collect(DISTINCT i)  as inc,\\n               collect(DISTINCT l)  as lim\\n        '\n",
            "WARNING:neo4j.notifications:Received notification from DBMS server: {severity: WARNING} {code: Neo.ClientNotification.Statement.UnknownRelationshipTypeWarning} {category: UNRECOGNIZED} {title: The provided relationship type is not in the database.} {description: One of the relationship types in your query is not available in the database, make sure you didn't misspell it or that the label is available when you run this statement in your application (the missing relationship type is: COMPATIBLE_WITH)} {position: line: 9, column: 30, offset: 456} for query: '\\n        MATCH (t:Tool)\\n        WHERE toLower(t.model_number) STARTS WITH toLower($product_id)\\n        OPTIONAL MATCH (t)-[:BELONGS_TO]->(c:Category)\\n        OPTIONAL MATCH (t)-[:HAS_SPECIFICATION]->(s:Specification)\\n                     OPTIONAL MATCH (s)-[:HAS_UNIT]->(u:Unit)\\n                     OPTIONAL MATCH (s)-[:HAS_MIN_LIMIT]->(mn:RangeLimit)\\n                     OPTIONAL MATCH (s)-[:HAS_MAX_LIMIT]->(mx:RangeLimit)\\n        OPTIONAL MATCH (t)-[:COMPATIBLE_WITH]->(a:Accessory)\\n        OPTIONAL MATCH (t)-[:INCLUDES]->(i:IncludedItem)\\n        OPTIONAL MATCH (t)-[:HAS_LIMITATION]->(l:Limitation)\\n        RETURN t,c,\\n               collect(DISTINCT {spec:s,unit:u,min:mn,max:mx}) as specs,\\n               collect(DISTINCT a)  as acc,\\n               collect(DISTINCT i)  as inc,\\n               collect(DISTINCT l)  as lim\\n        '\n",
            "WARNING:neo4j.notifications:Received notification from DBMS server: {severity: WARNING} {code: Neo.ClientNotification.Statement.UnknownLabelWarning} {category: UNRECOGNIZED} {title: The provided label is not in the database.} {description: One of the labels in your query is not available in the database, make sure you didn't misspell it or that the label is available when you run this statement in your application (the missing label name is: Accessory)} {position: line: 9, column: 51, offset: 477} for query: '\\n        MATCH (t:Tool)\\n        WHERE toLower(t.model_number) STARTS WITH toLower($product_id)\\n        OPTIONAL MATCH (t)-[:BELONGS_TO]->(c:Category)\\n        OPTIONAL MATCH (t)-[:HAS_SPECIFICATION]->(s:Specification)\\n                     OPTIONAL MATCH (s)-[:HAS_UNIT]->(u:Unit)\\n                     OPTIONAL MATCH (s)-[:HAS_MIN_LIMIT]->(mn:RangeLimit)\\n                     OPTIONAL MATCH (s)-[:HAS_MAX_LIMIT]->(mx:RangeLimit)\\n        OPTIONAL MATCH (t)-[:COMPATIBLE_WITH]->(a:Accessory)\\n        OPTIONAL MATCH (t)-[:INCLUDES]->(i:IncludedItem)\\n        OPTIONAL MATCH (t)-[:HAS_LIMITATION]->(l:Limitation)\\n        RETURN t,c,\\n               collect(DISTINCT {spec:s,unit:u,min:mn,max:mx}) as specs,\\n               collect(DISTINCT a)  as acc,\\n               collect(DISTINCT i)  as inc,\\n               collect(DISTINCT l)  as lim\\n        '\n",
            "WARNING:neo4j.notifications:Received notification from DBMS server: {severity: WARNING} {code: Neo.ClientNotification.Statement.UnknownRelationshipTypeWarning} {category: UNRECOGNIZED} {title: The provided relationship type is not in the database.} {description: One of the relationship types in your query is not available in the database, make sure you didn't misspell it or that the label is available when you run this statement in your application (the missing relationship type is: INCLUDES)} {position: line: 10, column: 30, offset: 517} for query: '\\n        MATCH (t:Tool)\\n        WHERE toLower(t.model_number) STARTS WITH toLower($product_id)\\n        OPTIONAL MATCH (t)-[:BELONGS_TO]->(c:Category)\\n        OPTIONAL MATCH (t)-[:HAS_SPECIFICATION]->(s:Specification)\\n                     OPTIONAL MATCH (s)-[:HAS_UNIT]->(u:Unit)\\n                     OPTIONAL MATCH (s)-[:HAS_MIN_LIMIT]->(mn:RangeLimit)\\n                     OPTIONAL MATCH (s)-[:HAS_MAX_LIMIT]->(mx:RangeLimit)\\n        OPTIONAL MATCH (t)-[:COMPATIBLE_WITH]->(a:Accessory)\\n        OPTIONAL MATCH (t)-[:INCLUDES]->(i:IncludedItem)\\n        OPTIONAL MATCH (t)-[:HAS_LIMITATION]->(l:Limitation)\\n        RETURN t,c,\\n               collect(DISTINCT {spec:s,unit:u,min:mn,max:mx}) as specs,\\n               collect(DISTINCT a)  as acc,\\n               collect(DISTINCT i)  as inc,\\n               collect(DISTINCT l)  as lim\\n        '\n",
            "WARNING:neo4j.notifications:Received notification from DBMS server: {severity: WARNING} {code: Neo.ClientNotification.Statement.UnknownLabelWarning} {category: UNRECOGNIZED} {title: The provided label is not in the database.} {description: One of the labels in your query is not available in the database, make sure you didn't misspell it or that the label is available when you run this statement in your application (the missing label name is: IncludedItem)} {position: line: 10, column: 44, offset: 531} for query: '\\n        MATCH (t:Tool)\\n        WHERE toLower(t.model_number) STARTS WITH toLower($product_id)\\n        OPTIONAL MATCH (t)-[:BELONGS_TO]->(c:Category)\\n        OPTIONAL MATCH (t)-[:HAS_SPECIFICATION]->(s:Specification)\\n                     OPTIONAL MATCH (s)-[:HAS_UNIT]->(u:Unit)\\n                     OPTIONAL MATCH (s)-[:HAS_MIN_LIMIT]->(mn:RangeLimit)\\n                     OPTIONAL MATCH (s)-[:HAS_MAX_LIMIT]->(mx:RangeLimit)\\n        OPTIONAL MATCH (t)-[:COMPATIBLE_WITH]->(a:Accessory)\\n        OPTIONAL MATCH (t)-[:INCLUDES]->(i:IncludedItem)\\n        OPTIONAL MATCH (t)-[:HAS_LIMITATION]->(l:Limitation)\\n        RETURN t,c,\\n               collect(DISTINCT {spec:s,unit:u,min:mn,max:mx}) as specs,\\n               collect(DISTINCT a)  as acc,\\n               collect(DISTINCT i)  as inc,\\n               collect(DISTINCT l)  as lim\\n        '\n",
            "WARNING:neo4j.notifications:Received notification from DBMS server: {severity: WARNING} {code: Neo.ClientNotification.Statement.AggregationSkippedNull} {category: UNRECOGNIZED} {title: The query contains an aggregation function that skips null values.} {description: null value eliminated in set function.} {position: None} for query: '\\n        MATCH (t:Tool)\\n        WHERE toLower(t.model_number) STARTS WITH toLower($product_id)\\n        OPTIONAL MATCH (t)-[:BELONGS_TO]->(c:Category)\\n        OPTIONAL MATCH (t)-[:HAS_SPECIFICATION]->(s:Specification)\\n                     OPTIONAL MATCH (s)-[:HAS_UNIT]->(u:Unit)\\n                     OPTIONAL MATCH (s)-[:HAS_MIN_LIMIT]->(mn:RangeLimit)\\n                     OPTIONAL MATCH (s)-[:HAS_MAX_LIMIT]->(mx:RangeLimit)\\n        OPTIONAL MATCH (t)-[:COMPATIBLE_WITH]->(a:Accessory)\\n        OPTIONAL MATCH (t)-[:INCLUDES]->(i:IncludedItem)\\n        OPTIONAL MATCH (t)-[:HAS_LIMITATION]->(l:Limitation)\\n        RETURN t,c,\\n               collect(DISTINCT {spec:s,unit:u,min:mn,max:mx}) as specs,\\n               collect(DISTINCT a)  as acc,\\n               collect(DISTINCT i)  as inc,\\n               collect(DISTINCT l)  as lim\\n        '\n",
            "WARNING:neo4j.notifications:Received notification from DBMS server: {severity: WARNING} {code: Neo.ClientNotification.Statement.UnknownRelationshipTypeWarning} {category: UNRECOGNIZED} {title: The provided relationship type is not in the database.} {description: One of the relationship types in your query is not available in the database, make sure you didn't misspell it or that the label is available when you run this statement in your application (the missing relationship type is: COMPATIBLE_WITH)} {position: line: 9, column: 30, offset: 456} for query: '\\n        MATCH (t:Tool)\\n        WHERE toLower(t.model_number) STARTS WITH toLower($product_id)\\n        OPTIONAL MATCH (t)-[:BELONGS_TO]->(c:Category)\\n        OPTIONAL MATCH (t)-[:HAS_SPECIFICATION]->(s:Specification)\\n                     OPTIONAL MATCH (s)-[:HAS_UNIT]->(u:Unit)\\n                     OPTIONAL MATCH (s)-[:HAS_MIN_LIMIT]->(mn:RangeLimit)\\n                     OPTIONAL MATCH (s)-[:HAS_MAX_LIMIT]->(mx:RangeLimit)\\n        OPTIONAL MATCH (t)-[:COMPATIBLE_WITH]->(a:Accessory)\\n        OPTIONAL MATCH (t)-[:INCLUDES]->(i:IncludedItem)\\n        OPTIONAL MATCH (t)-[:HAS_LIMITATION]->(l:Limitation)\\n        RETURN t,c,\\n               collect(DISTINCT {spec:s,unit:u,min:mn,max:mx}) as specs,\\n               collect(DISTINCT a)  as acc,\\n               collect(DISTINCT i)  as inc,\\n               collect(DISTINCT l)  as lim\\n        '\n",
            "WARNING:neo4j.notifications:Received notification from DBMS server: {severity: WARNING} {code: Neo.ClientNotification.Statement.UnknownLabelWarning} {category: UNRECOGNIZED} {title: The provided label is not in the database.} {description: One of the labels in your query is not available in the database, make sure you didn't misspell it or that the label is available when you run this statement in your application (the missing label name is: Accessory)} {position: line: 9, column: 51, offset: 477} for query: '\\n        MATCH (t:Tool)\\n        WHERE toLower(t.model_number) STARTS WITH toLower($product_id)\\n        OPTIONAL MATCH (t)-[:BELONGS_TO]->(c:Category)\\n        OPTIONAL MATCH (t)-[:HAS_SPECIFICATION]->(s:Specification)\\n                     OPTIONAL MATCH (s)-[:HAS_UNIT]->(u:Unit)\\n                     OPTIONAL MATCH (s)-[:HAS_MIN_LIMIT]->(mn:RangeLimit)\\n                     OPTIONAL MATCH (s)-[:HAS_MAX_LIMIT]->(mx:RangeLimit)\\n        OPTIONAL MATCH (t)-[:COMPATIBLE_WITH]->(a:Accessory)\\n        OPTIONAL MATCH (t)-[:INCLUDES]->(i:IncludedItem)\\n        OPTIONAL MATCH (t)-[:HAS_LIMITATION]->(l:Limitation)\\n        RETURN t,c,\\n               collect(DISTINCT {spec:s,unit:u,min:mn,max:mx}) as specs,\\n               collect(DISTINCT a)  as acc,\\n               collect(DISTINCT i)  as inc,\\n               collect(DISTINCT l)  as lim\\n        '\n",
            "WARNING:neo4j.notifications:Received notification from DBMS server: {severity: WARNING} {code: Neo.ClientNotification.Statement.UnknownRelationshipTypeWarning} {category: UNRECOGNIZED} {title: The provided relationship type is not in the database.} {description: One of the relationship types in your query is not available in the database, make sure you didn't misspell it or that the label is available when you run this statement in your application (the missing relationship type is: INCLUDES)} {position: line: 10, column: 30, offset: 517} for query: '\\n        MATCH (t:Tool)\\n        WHERE toLower(t.model_number) STARTS WITH toLower($product_id)\\n        OPTIONAL MATCH (t)-[:BELONGS_TO]->(c:Category)\\n        OPTIONAL MATCH (t)-[:HAS_SPECIFICATION]->(s:Specification)\\n                     OPTIONAL MATCH (s)-[:HAS_UNIT]->(u:Unit)\\n                     OPTIONAL MATCH (s)-[:HAS_MIN_LIMIT]->(mn:RangeLimit)\\n                     OPTIONAL MATCH (s)-[:HAS_MAX_LIMIT]->(mx:RangeLimit)\\n        OPTIONAL MATCH (t)-[:COMPATIBLE_WITH]->(a:Accessory)\\n        OPTIONAL MATCH (t)-[:INCLUDES]->(i:IncludedItem)\\n        OPTIONAL MATCH (t)-[:HAS_LIMITATION]->(l:Limitation)\\n        RETURN t,c,\\n               collect(DISTINCT {spec:s,unit:u,min:mn,max:mx}) as specs,\\n               collect(DISTINCT a)  as acc,\\n               collect(DISTINCT i)  as inc,\\n               collect(DISTINCT l)  as lim\\n        '\n",
            "WARNING:neo4j.notifications:Received notification from DBMS server: {severity: WARNING} {code: Neo.ClientNotification.Statement.UnknownLabelWarning} {category: UNRECOGNIZED} {title: The provided label is not in the database.} {description: One of the labels in your query is not available in the database, make sure you didn't misspell it or that the label is available when you run this statement in your application (the missing label name is: IncludedItem)} {position: line: 10, column: 44, offset: 531} for query: '\\n        MATCH (t:Tool)\\n        WHERE toLower(t.model_number) STARTS WITH toLower($product_id)\\n        OPTIONAL MATCH (t)-[:BELONGS_TO]->(c:Category)\\n        OPTIONAL MATCH (t)-[:HAS_SPECIFICATION]->(s:Specification)\\n                     OPTIONAL MATCH (s)-[:HAS_UNIT]->(u:Unit)\\n                     OPTIONAL MATCH (s)-[:HAS_MIN_LIMIT]->(mn:RangeLimit)\\n                     OPTIONAL MATCH (s)-[:HAS_MAX_LIMIT]->(mx:RangeLimit)\\n        OPTIONAL MATCH (t)-[:COMPATIBLE_WITH]->(a:Accessory)\\n        OPTIONAL MATCH (t)-[:INCLUDES]->(i:IncludedItem)\\n        OPTIONAL MATCH (t)-[:HAS_LIMITATION]->(l:Limitation)\\n        RETURN t,c,\\n               collect(DISTINCT {spec:s,unit:u,min:mn,max:mx}) as specs,\\n               collect(DISTINCT a)  as acc,\\n               collect(DISTINCT i)  as inc,\\n               collect(DISTINCT l)  as lim\\n        '\n",
            "WARNING:neo4j.notifications:Received notification from DBMS server: {severity: WARNING} {code: Neo.ClientNotification.Statement.AggregationSkippedNull} {category: UNRECOGNIZED} {title: The query contains an aggregation function that skips null values.} {description: null value eliminated in set function.} {position: None} for query: '\\n        MATCH (t:Tool)\\n        WHERE toLower(t.model_number) STARTS WITH toLower($product_id)\\n        OPTIONAL MATCH (t)-[:BELONGS_TO]->(c:Category)\\n        OPTIONAL MATCH (t)-[:HAS_SPECIFICATION]->(s:Specification)\\n                     OPTIONAL MATCH (s)-[:HAS_UNIT]->(u:Unit)\\n                     OPTIONAL MATCH (s)-[:HAS_MIN_LIMIT]->(mn:RangeLimit)\\n                     OPTIONAL MATCH (s)-[:HAS_MAX_LIMIT]->(mx:RangeLimit)\\n        OPTIONAL MATCH (t)-[:COMPATIBLE_WITH]->(a:Accessory)\\n        OPTIONAL MATCH (t)-[:INCLUDES]->(i:IncludedItem)\\n        OPTIONAL MATCH (t)-[:HAS_LIMITATION]->(l:Limitation)\\n        RETURN t,c,\\n               collect(DISTINCT {spec:s,unit:u,min:mn,max:mx}) as specs,\\n               collect(DISTINCT a)  as acc,\\n               collect(DISTINCT i)  as inc,\\n               collect(DISTINCT l)  as lim\\n        '\n",
            "WARNING:neo4j.notifications:Received notification from DBMS server: {severity: WARNING} {code: Neo.ClientNotification.Statement.UnknownRelationshipTypeWarning} {category: UNRECOGNIZED} {title: The provided relationship type is not in the database.} {description: One of the relationship types in your query is not available in the database, make sure you didn't misspell it or that the label is available when you run this statement in your application (the missing relationship type is: COMPATIBLE_WITH)} {position: line: 9, column: 30, offset: 456} for query: '\\n        MATCH (t:Tool)\\n        WHERE toLower(t.model_number) STARTS WITH toLower($product_id)\\n        OPTIONAL MATCH (t)-[:BELONGS_TO]->(c:Category)\\n        OPTIONAL MATCH (t)-[:HAS_SPECIFICATION]->(s:Specification)\\n                     OPTIONAL MATCH (s)-[:HAS_UNIT]->(u:Unit)\\n                     OPTIONAL MATCH (s)-[:HAS_MIN_LIMIT]->(mn:RangeLimit)\\n                     OPTIONAL MATCH (s)-[:HAS_MAX_LIMIT]->(mx:RangeLimit)\\n        OPTIONAL MATCH (t)-[:COMPATIBLE_WITH]->(a:Accessory)\\n        OPTIONAL MATCH (t)-[:INCLUDES]->(i:IncludedItem)\\n        OPTIONAL MATCH (t)-[:HAS_LIMITATION]->(l:Limitation)\\n        RETURN t,c,\\n               collect(DISTINCT {spec:s,unit:u,min:mn,max:mx}) as specs,\\n               collect(DISTINCT a)  as acc,\\n               collect(DISTINCT i)  as inc,\\n               collect(DISTINCT l)  as lim\\n        '\n",
            "WARNING:neo4j.notifications:Received notification from DBMS server: {severity: WARNING} {code: Neo.ClientNotification.Statement.UnknownLabelWarning} {category: UNRECOGNIZED} {title: The provided label is not in the database.} {description: One of the labels in your query is not available in the database, make sure you didn't misspell it or that the label is available when you run this statement in your application (the missing label name is: Accessory)} {position: line: 9, column: 51, offset: 477} for query: '\\n        MATCH (t:Tool)\\n        WHERE toLower(t.model_number) STARTS WITH toLower($product_id)\\n        OPTIONAL MATCH (t)-[:BELONGS_TO]->(c:Category)\\n        OPTIONAL MATCH (t)-[:HAS_SPECIFICATION]->(s:Specification)\\n                     OPTIONAL MATCH (s)-[:HAS_UNIT]->(u:Unit)\\n                     OPTIONAL MATCH (s)-[:HAS_MIN_LIMIT]->(mn:RangeLimit)\\n                     OPTIONAL MATCH (s)-[:HAS_MAX_LIMIT]->(mx:RangeLimit)\\n        OPTIONAL MATCH (t)-[:COMPATIBLE_WITH]->(a:Accessory)\\n        OPTIONAL MATCH (t)-[:INCLUDES]->(i:IncludedItem)\\n        OPTIONAL MATCH (t)-[:HAS_LIMITATION]->(l:Limitation)\\n        RETURN t,c,\\n               collect(DISTINCT {spec:s,unit:u,min:mn,max:mx}) as specs,\\n               collect(DISTINCT a)  as acc,\\n               collect(DISTINCT i)  as inc,\\n               collect(DISTINCT l)  as lim\\n        '\n",
            "WARNING:neo4j.notifications:Received notification from DBMS server: {severity: WARNING} {code: Neo.ClientNotification.Statement.UnknownRelationshipTypeWarning} {category: UNRECOGNIZED} {title: The provided relationship type is not in the database.} {description: One of the relationship types in your query is not available in the database, make sure you didn't misspell it or that the label is available when you run this statement in your application (the missing relationship type is: INCLUDES)} {position: line: 10, column: 30, offset: 517} for query: '\\n        MATCH (t:Tool)\\n        WHERE toLower(t.model_number) STARTS WITH toLower($product_id)\\n        OPTIONAL MATCH (t)-[:BELONGS_TO]->(c:Category)\\n        OPTIONAL MATCH (t)-[:HAS_SPECIFICATION]->(s:Specification)\\n                     OPTIONAL MATCH (s)-[:HAS_UNIT]->(u:Unit)\\n                     OPTIONAL MATCH (s)-[:HAS_MIN_LIMIT]->(mn:RangeLimit)\\n                     OPTIONAL MATCH (s)-[:HAS_MAX_LIMIT]->(mx:RangeLimit)\\n        OPTIONAL MATCH (t)-[:COMPATIBLE_WITH]->(a:Accessory)\\n        OPTIONAL MATCH (t)-[:INCLUDES]->(i:IncludedItem)\\n        OPTIONAL MATCH (t)-[:HAS_LIMITATION]->(l:Limitation)\\n        RETURN t,c,\\n               collect(DISTINCT {spec:s,unit:u,min:mn,max:mx}) as specs,\\n               collect(DISTINCT a)  as acc,\\n               collect(DISTINCT i)  as inc,\\n               collect(DISTINCT l)  as lim\\n        '\n",
            "WARNING:neo4j.notifications:Received notification from DBMS server: {severity: WARNING} {code: Neo.ClientNotification.Statement.UnknownLabelWarning} {category: UNRECOGNIZED} {title: The provided label is not in the database.} {description: One of the labels in your query is not available in the database, make sure you didn't misspell it or that the label is available when you run this statement in your application (the missing label name is: IncludedItem)} {position: line: 10, column: 44, offset: 531} for query: '\\n        MATCH (t:Tool)\\n        WHERE toLower(t.model_number) STARTS WITH toLower($product_id)\\n        OPTIONAL MATCH (t)-[:BELONGS_TO]->(c:Category)\\n        OPTIONAL MATCH (t)-[:HAS_SPECIFICATION]->(s:Specification)\\n                     OPTIONAL MATCH (s)-[:HAS_UNIT]->(u:Unit)\\n                     OPTIONAL MATCH (s)-[:HAS_MIN_LIMIT]->(mn:RangeLimit)\\n                     OPTIONAL MATCH (s)-[:HAS_MAX_LIMIT]->(mx:RangeLimit)\\n        OPTIONAL MATCH (t)-[:COMPATIBLE_WITH]->(a:Accessory)\\n        OPTIONAL MATCH (t)-[:INCLUDES]->(i:IncludedItem)\\n        OPTIONAL MATCH (t)-[:HAS_LIMITATION]->(l:Limitation)\\n        RETURN t,c,\\n               collect(DISTINCT {spec:s,unit:u,min:mn,max:mx}) as specs,\\n               collect(DISTINCT a)  as acc,\\n               collect(DISTINCT i)  as inc,\\n               collect(DISTINCT l)  as lim\\n        '\n",
            "WARNING:neo4j.notifications:Received notification from DBMS server: {severity: WARNING} {code: Neo.ClientNotification.Statement.AggregationSkippedNull} {category: UNRECOGNIZED} {title: The query contains an aggregation function that skips null values.} {description: null value eliminated in set function.} {position: None} for query: '\\n        MATCH (t:Tool)\\n        WHERE toLower(t.model_number) STARTS WITH toLower($product_id)\\n        OPTIONAL MATCH (t)-[:BELONGS_TO]->(c:Category)\\n        OPTIONAL MATCH (t)-[:HAS_SPECIFICATION]->(s:Specification)\\n                     OPTIONAL MATCH (s)-[:HAS_UNIT]->(u:Unit)\\n                     OPTIONAL MATCH (s)-[:HAS_MIN_LIMIT]->(mn:RangeLimit)\\n                     OPTIONAL MATCH (s)-[:HAS_MAX_LIMIT]->(mx:RangeLimit)\\n        OPTIONAL MATCH (t)-[:COMPATIBLE_WITH]->(a:Accessory)\\n        OPTIONAL MATCH (t)-[:INCLUDES]->(i:IncludedItem)\\n        OPTIONAL MATCH (t)-[:HAS_LIMITATION]->(l:Limitation)\\n        RETURN t,c,\\n               collect(DISTINCT {spec:s,unit:u,min:mn,max:mx}) as specs,\\n               collect(DISTINCT a)  as acc,\\n               collect(DISTINCT i)  as inc,\\n               collect(DISTINCT l)  as lim\\n        '\n",
            "WARNING:neo4j.notifications:Received notification from DBMS server: {severity: WARNING} {code: Neo.ClientNotification.Statement.UnknownRelationshipTypeWarning} {category: UNRECOGNIZED} {title: The provided relationship type is not in the database.} {description: One of the relationship types in your query is not available in the database, make sure you didn't misspell it or that the label is available when you run this statement in your application (the missing relationship type is: COMPATIBLE_WITH)} {position: line: 9, column: 30, offset: 456} for query: '\\n        MATCH (t:Tool)\\n        WHERE toLower(t.model_number) STARTS WITH toLower($product_id)\\n        OPTIONAL MATCH (t)-[:BELONGS_TO]->(c:Category)\\n        OPTIONAL MATCH (t)-[:HAS_SPECIFICATION]->(s:Specification)\\n                     OPTIONAL MATCH (s)-[:HAS_UNIT]->(u:Unit)\\n                     OPTIONAL MATCH (s)-[:HAS_MIN_LIMIT]->(mn:RangeLimit)\\n                     OPTIONAL MATCH (s)-[:HAS_MAX_LIMIT]->(mx:RangeLimit)\\n        OPTIONAL MATCH (t)-[:COMPATIBLE_WITH]->(a:Accessory)\\n        OPTIONAL MATCH (t)-[:INCLUDES]->(i:IncludedItem)\\n        OPTIONAL MATCH (t)-[:HAS_LIMITATION]->(l:Limitation)\\n        RETURN t,c,\\n               collect(DISTINCT {spec:s,unit:u,min:mn,max:mx}) as specs,\\n               collect(DISTINCT a)  as acc,\\n               collect(DISTINCT i)  as inc,\\n               collect(DISTINCT l)  as lim\\n        '\n",
            "WARNING:neo4j.notifications:Received notification from DBMS server: {severity: WARNING} {code: Neo.ClientNotification.Statement.UnknownLabelWarning} {category: UNRECOGNIZED} {title: The provided label is not in the database.} {description: One of the labels in your query is not available in the database, make sure you didn't misspell it or that the label is available when you run this statement in your application (the missing label name is: Accessory)} {position: line: 9, column: 51, offset: 477} for query: '\\n        MATCH (t:Tool)\\n        WHERE toLower(t.model_number) STARTS WITH toLower($product_id)\\n        OPTIONAL MATCH (t)-[:BELONGS_TO]->(c:Category)\\n        OPTIONAL MATCH (t)-[:HAS_SPECIFICATION]->(s:Specification)\\n                     OPTIONAL MATCH (s)-[:HAS_UNIT]->(u:Unit)\\n                     OPTIONAL MATCH (s)-[:HAS_MIN_LIMIT]->(mn:RangeLimit)\\n                     OPTIONAL MATCH (s)-[:HAS_MAX_LIMIT]->(mx:RangeLimit)\\n        OPTIONAL MATCH (t)-[:COMPATIBLE_WITH]->(a:Accessory)\\n        OPTIONAL MATCH (t)-[:INCLUDES]->(i:IncludedItem)\\n        OPTIONAL MATCH (t)-[:HAS_LIMITATION]->(l:Limitation)\\n        RETURN t,c,\\n               collect(DISTINCT {spec:s,unit:u,min:mn,max:mx}) as specs,\\n               collect(DISTINCT a)  as acc,\\n               collect(DISTINCT i)  as inc,\\n               collect(DISTINCT l)  as lim\\n        '\n",
            "WARNING:neo4j.notifications:Received notification from DBMS server: {severity: WARNING} {code: Neo.ClientNotification.Statement.UnknownRelationshipTypeWarning} {category: UNRECOGNIZED} {title: The provided relationship type is not in the database.} {description: One of the relationship types in your query is not available in the database, make sure you didn't misspell it or that the label is available when you run this statement in your application (the missing relationship type is: INCLUDES)} {position: line: 10, column: 30, offset: 517} for query: '\\n        MATCH (t:Tool)\\n        WHERE toLower(t.model_number) STARTS WITH toLower($product_id)\\n        OPTIONAL MATCH (t)-[:BELONGS_TO]->(c:Category)\\n        OPTIONAL MATCH (t)-[:HAS_SPECIFICATION]->(s:Specification)\\n                     OPTIONAL MATCH (s)-[:HAS_UNIT]->(u:Unit)\\n                     OPTIONAL MATCH (s)-[:HAS_MIN_LIMIT]->(mn:RangeLimit)\\n                     OPTIONAL MATCH (s)-[:HAS_MAX_LIMIT]->(mx:RangeLimit)\\n        OPTIONAL MATCH (t)-[:COMPATIBLE_WITH]->(a:Accessory)\\n        OPTIONAL MATCH (t)-[:INCLUDES]->(i:IncludedItem)\\n        OPTIONAL MATCH (t)-[:HAS_LIMITATION]->(l:Limitation)\\n        RETURN t,c,\\n               collect(DISTINCT {spec:s,unit:u,min:mn,max:mx}) as specs,\\n               collect(DISTINCT a)  as acc,\\n               collect(DISTINCT i)  as inc,\\n               collect(DISTINCT l)  as lim\\n        '\n",
            "WARNING:neo4j.notifications:Received notification from DBMS server: {severity: WARNING} {code: Neo.ClientNotification.Statement.UnknownLabelWarning} {category: UNRECOGNIZED} {title: The provided label is not in the database.} {description: One of the labels in your query is not available in the database, make sure you didn't misspell it or that the label is available when you run this statement in your application (the missing label name is: IncludedItem)} {position: line: 10, column: 44, offset: 531} for query: '\\n        MATCH (t:Tool)\\n        WHERE toLower(t.model_number) STARTS WITH toLower($product_id)\\n        OPTIONAL MATCH (t)-[:BELONGS_TO]->(c:Category)\\n        OPTIONAL MATCH (t)-[:HAS_SPECIFICATION]->(s:Specification)\\n                     OPTIONAL MATCH (s)-[:HAS_UNIT]->(u:Unit)\\n                     OPTIONAL MATCH (s)-[:HAS_MIN_LIMIT]->(mn:RangeLimit)\\n                     OPTIONAL MATCH (s)-[:HAS_MAX_LIMIT]->(mx:RangeLimit)\\n        OPTIONAL MATCH (t)-[:COMPATIBLE_WITH]->(a:Accessory)\\n        OPTIONAL MATCH (t)-[:INCLUDES]->(i:IncludedItem)\\n        OPTIONAL MATCH (t)-[:HAS_LIMITATION]->(l:Limitation)\\n        RETURN t,c,\\n               collect(DISTINCT {spec:s,unit:u,min:mn,max:mx}) as specs,\\n               collect(DISTINCT a)  as acc,\\n               collect(DISTINCT i)  as inc,\\n               collect(DISTINCT l)  as lim\\n        '\n",
            "WARNING:neo4j.notifications:Received notification from DBMS server: {severity: WARNING} {code: Neo.ClientNotification.Statement.AggregationSkippedNull} {category: UNRECOGNIZED} {title: The query contains an aggregation function that skips null values.} {description: null value eliminated in set function.} {position: None} for query: '\\n        MATCH (t:Tool)\\n        WHERE toLower(t.model_number) STARTS WITH toLower($product_id)\\n        OPTIONAL MATCH (t)-[:BELONGS_TO]->(c:Category)\\n        OPTIONAL MATCH (t)-[:HAS_SPECIFICATION]->(s:Specification)\\n                     OPTIONAL MATCH (s)-[:HAS_UNIT]->(u:Unit)\\n                     OPTIONAL MATCH (s)-[:HAS_MIN_LIMIT]->(mn:RangeLimit)\\n                     OPTIONAL MATCH (s)-[:HAS_MAX_LIMIT]->(mx:RangeLimit)\\n        OPTIONAL MATCH (t)-[:COMPATIBLE_WITH]->(a:Accessory)\\n        OPTIONAL MATCH (t)-[:INCLUDES]->(i:IncludedItem)\\n        OPTIONAL MATCH (t)-[:HAS_LIMITATION]->(l:Limitation)\\n        RETURN t,c,\\n               collect(DISTINCT {spec:s,unit:u,min:mn,max:mx}) as specs,\\n               collect(DISTINCT a)  as acc,\\n               collect(DISTINCT i)  as inc,\\n               collect(DISTINCT l)  as lim\\n        '\n",
            "WARNING:neo4j.notifications:Received notification from DBMS server: {severity: WARNING} {code: Neo.ClientNotification.Statement.UnknownRelationshipTypeWarning} {category: UNRECOGNIZED} {title: The provided relationship type is not in the database.} {description: One of the relationship types in your query is not available in the database, make sure you didn't misspell it or that the label is available when you run this statement in your application (the missing relationship type is: COMPATIBLE_WITH)} {position: line: 9, column: 30, offset: 456} for query: '\\n        MATCH (t:Tool)\\n        WHERE toLower(t.model_number) STARTS WITH toLower($product_id)\\n        OPTIONAL MATCH (t)-[:BELONGS_TO]->(c:Category)\\n        OPTIONAL MATCH (t)-[:HAS_SPECIFICATION]->(s:Specification)\\n                     OPTIONAL MATCH (s)-[:HAS_UNIT]->(u:Unit)\\n                     OPTIONAL MATCH (s)-[:HAS_MIN_LIMIT]->(mn:RangeLimit)\\n                     OPTIONAL MATCH (s)-[:HAS_MAX_LIMIT]->(mx:RangeLimit)\\n        OPTIONAL MATCH (t)-[:COMPATIBLE_WITH]->(a:Accessory)\\n        OPTIONAL MATCH (t)-[:INCLUDES]->(i:IncludedItem)\\n        OPTIONAL MATCH (t)-[:HAS_LIMITATION]->(l:Limitation)\\n        RETURN t,c,\\n               collect(DISTINCT {spec:s,unit:u,min:mn,max:mx}) as specs,\\n               collect(DISTINCT a)  as acc,\\n               collect(DISTINCT i)  as inc,\\n               collect(DISTINCT l)  as lim\\n        '\n",
            "WARNING:neo4j.notifications:Received notification from DBMS server: {severity: WARNING} {code: Neo.ClientNotification.Statement.UnknownLabelWarning} {category: UNRECOGNIZED} {title: The provided label is not in the database.} {description: One of the labels in your query is not available in the database, make sure you didn't misspell it or that the label is available when you run this statement in your application (the missing label name is: Accessory)} {position: line: 9, column: 51, offset: 477} for query: '\\n        MATCH (t:Tool)\\n        WHERE toLower(t.model_number) STARTS WITH toLower($product_id)\\n        OPTIONAL MATCH (t)-[:BELONGS_TO]->(c:Category)\\n        OPTIONAL MATCH (t)-[:HAS_SPECIFICATION]->(s:Specification)\\n                     OPTIONAL MATCH (s)-[:HAS_UNIT]->(u:Unit)\\n                     OPTIONAL MATCH (s)-[:HAS_MIN_LIMIT]->(mn:RangeLimit)\\n                     OPTIONAL MATCH (s)-[:HAS_MAX_LIMIT]->(mx:RangeLimit)\\n        OPTIONAL MATCH (t)-[:COMPATIBLE_WITH]->(a:Accessory)\\n        OPTIONAL MATCH (t)-[:INCLUDES]->(i:IncludedItem)\\n        OPTIONAL MATCH (t)-[:HAS_LIMITATION]->(l:Limitation)\\n        RETURN t,c,\\n               collect(DISTINCT {spec:s,unit:u,min:mn,max:mx}) as specs,\\n               collect(DISTINCT a)  as acc,\\n               collect(DISTINCT i)  as inc,\\n               collect(DISTINCT l)  as lim\\n        '\n",
            "WARNING:neo4j.notifications:Received notification from DBMS server: {severity: WARNING} {code: Neo.ClientNotification.Statement.UnknownRelationshipTypeWarning} {category: UNRECOGNIZED} {title: The provided relationship type is not in the database.} {description: One of the relationship types in your query is not available in the database, make sure you didn't misspell it or that the label is available when you run this statement in your application (the missing relationship type is: INCLUDES)} {position: line: 10, column: 30, offset: 517} for query: '\\n        MATCH (t:Tool)\\n        WHERE toLower(t.model_number) STARTS WITH toLower($product_id)\\n        OPTIONAL MATCH (t)-[:BELONGS_TO]->(c:Category)\\n        OPTIONAL MATCH (t)-[:HAS_SPECIFICATION]->(s:Specification)\\n                     OPTIONAL MATCH (s)-[:HAS_UNIT]->(u:Unit)\\n                     OPTIONAL MATCH (s)-[:HAS_MIN_LIMIT]->(mn:RangeLimit)\\n                     OPTIONAL MATCH (s)-[:HAS_MAX_LIMIT]->(mx:RangeLimit)\\n        OPTIONAL MATCH (t)-[:COMPATIBLE_WITH]->(a:Accessory)\\n        OPTIONAL MATCH (t)-[:INCLUDES]->(i:IncludedItem)\\n        OPTIONAL MATCH (t)-[:HAS_LIMITATION]->(l:Limitation)\\n        RETURN t,c,\\n               collect(DISTINCT {spec:s,unit:u,min:mn,max:mx}) as specs,\\n               collect(DISTINCT a)  as acc,\\n               collect(DISTINCT i)  as inc,\\n               collect(DISTINCT l)  as lim\\n        '\n",
            "WARNING:neo4j.notifications:Received notification from DBMS server: {severity: WARNING} {code: Neo.ClientNotification.Statement.UnknownLabelWarning} {category: UNRECOGNIZED} {title: The provided label is not in the database.} {description: One of the labels in your query is not available in the database, make sure you didn't misspell it or that the label is available when you run this statement in your application (the missing label name is: IncludedItem)} {position: line: 10, column: 44, offset: 531} for query: '\\n        MATCH (t:Tool)\\n        WHERE toLower(t.model_number) STARTS WITH toLower($product_id)\\n        OPTIONAL MATCH (t)-[:BELONGS_TO]->(c:Category)\\n        OPTIONAL MATCH (t)-[:HAS_SPECIFICATION]->(s:Specification)\\n                     OPTIONAL MATCH (s)-[:HAS_UNIT]->(u:Unit)\\n                     OPTIONAL MATCH (s)-[:HAS_MIN_LIMIT]->(mn:RangeLimit)\\n                     OPTIONAL MATCH (s)-[:HAS_MAX_LIMIT]->(mx:RangeLimit)\\n        OPTIONAL MATCH (t)-[:COMPATIBLE_WITH]->(a:Accessory)\\n        OPTIONAL MATCH (t)-[:INCLUDES]->(i:IncludedItem)\\n        OPTIONAL MATCH (t)-[:HAS_LIMITATION]->(l:Limitation)\\n        RETURN t,c,\\n               collect(DISTINCT {spec:s,unit:u,min:mn,max:mx}) as specs,\\n               collect(DISTINCT a)  as acc,\\n               collect(DISTINCT i)  as inc,\\n               collect(DISTINCT l)  as lim\\n        '\n",
            "WARNING:neo4j.notifications:Received notification from DBMS server: {severity: WARNING} {code: Neo.ClientNotification.Statement.AggregationSkippedNull} {category: UNRECOGNIZED} {title: The query contains an aggregation function that skips null values.} {description: null value eliminated in set function.} {position: None} for query: '\\n        MATCH (t:Tool)\\n        WHERE toLower(t.model_number) STARTS WITH toLower($product_id)\\n        OPTIONAL MATCH (t)-[:BELONGS_TO]->(c:Category)\\n        OPTIONAL MATCH (t)-[:HAS_SPECIFICATION]->(s:Specification)\\n                     OPTIONAL MATCH (s)-[:HAS_UNIT]->(u:Unit)\\n                     OPTIONAL MATCH (s)-[:HAS_MIN_LIMIT]->(mn:RangeLimit)\\n                     OPTIONAL MATCH (s)-[:HAS_MAX_LIMIT]->(mx:RangeLimit)\\n        OPTIONAL MATCH (t)-[:COMPATIBLE_WITH]->(a:Accessory)\\n        OPTIONAL MATCH (t)-[:INCLUDES]->(i:IncludedItem)\\n        OPTIONAL MATCH (t)-[:HAS_LIMITATION]->(l:Limitation)\\n        RETURN t,c,\\n               collect(DISTINCT {spec:s,unit:u,min:mn,max:mx}) as specs,\\n               collect(DISTINCT a)  as acc,\\n               collect(DISTINCT i)  as inc,\\n               collect(DISTINCT l)  as lim\\n        '\n",
            "WARNING:neo4j.notifications:Received notification from DBMS server: {severity: WARNING} {code: Neo.ClientNotification.Statement.UnknownRelationshipTypeWarning} {category: UNRECOGNIZED} {title: The provided relationship type is not in the database.} {description: One of the relationship types in your query is not available in the database, make sure you didn't misspell it or that the label is available when you run this statement in your application (the missing relationship type is: COMPATIBLE_WITH)} {position: line: 9, column: 30, offset: 456} for query: '\\n        MATCH (t:Tool)\\n        WHERE toLower(t.model_number) STARTS WITH toLower($product_id)\\n        OPTIONAL MATCH (t)-[:BELONGS_TO]->(c:Category)\\n        OPTIONAL MATCH (t)-[:HAS_SPECIFICATION]->(s:Specification)\\n                     OPTIONAL MATCH (s)-[:HAS_UNIT]->(u:Unit)\\n                     OPTIONAL MATCH (s)-[:HAS_MIN_LIMIT]->(mn:RangeLimit)\\n                     OPTIONAL MATCH (s)-[:HAS_MAX_LIMIT]->(mx:RangeLimit)\\n        OPTIONAL MATCH (t)-[:COMPATIBLE_WITH]->(a:Accessory)\\n        OPTIONAL MATCH (t)-[:INCLUDES]->(i:IncludedItem)\\n        OPTIONAL MATCH (t)-[:HAS_LIMITATION]->(l:Limitation)\\n        RETURN t,c,\\n               collect(DISTINCT {spec:s,unit:u,min:mn,max:mx}) as specs,\\n               collect(DISTINCT a)  as acc,\\n               collect(DISTINCT i)  as inc,\\n               collect(DISTINCT l)  as lim\\n        '\n",
            "WARNING:neo4j.notifications:Received notification from DBMS server: {severity: WARNING} {code: Neo.ClientNotification.Statement.UnknownLabelWarning} {category: UNRECOGNIZED} {title: The provided label is not in the database.} {description: One of the labels in your query is not available in the database, make sure you didn't misspell it or that the label is available when you run this statement in your application (the missing label name is: Accessory)} {position: line: 9, column: 51, offset: 477} for query: '\\n        MATCH (t:Tool)\\n        WHERE toLower(t.model_number) STARTS WITH toLower($product_id)\\n        OPTIONAL MATCH (t)-[:BELONGS_TO]->(c:Category)\\n        OPTIONAL MATCH (t)-[:HAS_SPECIFICATION]->(s:Specification)\\n                     OPTIONAL MATCH (s)-[:HAS_UNIT]->(u:Unit)\\n                     OPTIONAL MATCH (s)-[:HAS_MIN_LIMIT]->(mn:RangeLimit)\\n                     OPTIONAL MATCH (s)-[:HAS_MAX_LIMIT]->(mx:RangeLimit)\\n        OPTIONAL MATCH (t)-[:COMPATIBLE_WITH]->(a:Accessory)\\n        OPTIONAL MATCH (t)-[:INCLUDES]->(i:IncludedItem)\\n        OPTIONAL MATCH (t)-[:HAS_LIMITATION]->(l:Limitation)\\n        RETURN t,c,\\n               collect(DISTINCT {spec:s,unit:u,min:mn,max:mx}) as specs,\\n               collect(DISTINCT a)  as acc,\\n               collect(DISTINCT i)  as inc,\\n               collect(DISTINCT l)  as lim\\n        '\n",
            "WARNING:neo4j.notifications:Received notification from DBMS server: {severity: WARNING} {code: Neo.ClientNotification.Statement.UnknownRelationshipTypeWarning} {category: UNRECOGNIZED} {title: The provided relationship type is not in the database.} {description: One of the relationship types in your query is not available in the database, make sure you didn't misspell it or that the label is available when you run this statement in your application (the missing relationship type is: INCLUDES)} {position: line: 10, column: 30, offset: 517} for query: '\\n        MATCH (t:Tool)\\n        WHERE toLower(t.model_number) STARTS WITH toLower($product_id)\\n        OPTIONAL MATCH (t)-[:BELONGS_TO]->(c:Category)\\n        OPTIONAL MATCH (t)-[:HAS_SPECIFICATION]->(s:Specification)\\n                     OPTIONAL MATCH (s)-[:HAS_UNIT]->(u:Unit)\\n                     OPTIONAL MATCH (s)-[:HAS_MIN_LIMIT]->(mn:RangeLimit)\\n                     OPTIONAL MATCH (s)-[:HAS_MAX_LIMIT]->(mx:RangeLimit)\\n        OPTIONAL MATCH (t)-[:COMPATIBLE_WITH]->(a:Accessory)\\n        OPTIONAL MATCH (t)-[:INCLUDES]->(i:IncludedItem)\\n        OPTIONAL MATCH (t)-[:HAS_LIMITATION]->(l:Limitation)\\n        RETURN t,c,\\n               collect(DISTINCT {spec:s,unit:u,min:mn,max:mx}) as specs,\\n               collect(DISTINCT a)  as acc,\\n               collect(DISTINCT i)  as inc,\\n               collect(DISTINCT l)  as lim\\n        '\n",
            "WARNING:neo4j.notifications:Received notification from DBMS server: {severity: WARNING} {code: Neo.ClientNotification.Statement.UnknownLabelWarning} {category: UNRECOGNIZED} {title: The provided label is not in the database.} {description: One of the labels in your query is not available in the database, make sure you didn't misspell it or that the label is available when you run this statement in your application (the missing label name is: IncludedItem)} {position: line: 10, column: 44, offset: 531} for query: '\\n        MATCH (t:Tool)\\n        WHERE toLower(t.model_number) STARTS WITH toLower($product_id)\\n        OPTIONAL MATCH (t)-[:BELONGS_TO]->(c:Category)\\n        OPTIONAL MATCH (t)-[:HAS_SPECIFICATION]->(s:Specification)\\n                     OPTIONAL MATCH (s)-[:HAS_UNIT]->(u:Unit)\\n                     OPTIONAL MATCH (s)-[:HAS_MIN_LIMIT]->(mn:RangeLimit)\\n                     OPTIONAL MATCH (s)-[:HAS_MAX_LIMIT]->(mx:RangeLimit)\\n        OPTIONAL MATCH (t)-[:COMPATIBLE_WITH]->(a:Accessory)\\n        OPTIONAL MATCH (t)-[:INCLUDES]->(i:IncludedItem)\\n        OPTIONAL MATCH (t)-[:HAS_LIMITATION]->(l:Limitation)\\n        RETURN t,c,\\n               collect(DISTINCT {spec:s,unit:u,min:mn,max:mx}) as specs,\\n               collect(DISTINCT a)  as acc,\\n               collect(DISTINCT i)  as inc,\\n               collect(DISTINCT l)  as lim\\n        '\n",
            "WARNING:neo4j.notifications:Received notification from DBMS server: {severity: WARNING} {code: Neo.ClientNotification.Statement.AggregationSkippedNull} {category: UNRECOGNIZED} {title: The query contains an aggregation function that skips null values.} {description: null value eliminated in set function.} {position: None} for query: '\\n        MATCH (t:Tool)\\n        WHERE toLower(t.model_number) STARTS WITH toLower($product_id)\\n        OPTIONAL MATCH (t)-[:BELONGS_TO]->(c:Category)\\n        OPTIONAL MATCH (t)-[:HAS_SPECIFICATION]->(s:Specification)\\n                     OPTIONAL MATCH (s)-[:HAS_UNIT]->(u:Unit)\\n                     OPTIONAL MATCH (s)-[:HAS_MIN_LIMIT]->(mn:RangeLimit)\\n                     OPTIONAL MATCH (s)-[:HAS_MAX_LIMIT]->(mx:RangeLimit)\\n        OPTIONAL MATCH (t)-[:COMPATIBLE_WITH]->(a:Accessory)\\n        OPTIONAL MATCH (t)-[:INCLUDES]->(i:IncludedItem)\\n        OPTIONAL MATCH (t)-[:HAS_LIMITATION]->(l:Limitation)\\n        RETURN t,c,\\n               collect(DISTINCT {spec:s,unit:u,min:mn,max:mx}) as specs,\\n               collect(DISTINCT a)  as acc,\\n               collect(DISTINCT i)  as inc,\\n               collect(DISTINCT l)  as lim\\n        '\n",
            "WARNING:neo4j.notifications:Received notification from DBMS server: {severity: WARNING} {code: Neo.ClientNotification.Statement.UnknownRelationshipTypeWarning} {category: UNRECOGNIZED} {title: The provided relationship type is not in the database.} {description: One of the relationship types in your query is not available in the database, make sure you didn't misspell it or that the label is available when you run this statement in your application (the missing relationship type is: COMPATIBLE_WITH)} {position: line: 9, column: 30, offset: 456} for query: '\\n        MATCH (t:Tool)\\n        WHERE toLower(t.model_number) STARTS WITH toLower($product_id)\\n        OPTIONAL MATCH (t)-[:BELONGS_TO]->(c:Category)\\n        OPTIONAL MATCH (t)-[:HAS_SPECIFICATION]->(s:Specification)\\n                     OPTIONAL MATCH (s)-[:HAS_UNIT]->(u:Unit)\\n                     OPTIONAL MATCH (s)-[:HAS_MIN_LIMIT]->(mn:RangeLimit)\\n                     OPTIONAL MATCH (s)-[:HAS_MAX_LIMIT]->(mx:RangeLimit)\\n        OPTIONAL MATCH (t)-[:COMPATIBLE_WITH]->(a:Accessory)\\n        OPTIONAL MATCH (t)-[:INCLUDES]->(i:IncludedItem)\\n        OPTIONAL MATCH (t)-[:HAS_LIMITATION]->(l:Limitation)\\n        RETURN t,c,\\n               collect(DISTINCT {spec:s,unit:u,min:mn,max:mx}) as specs,\\n               collect(DISTINCT a)  as acc,\\n               collect(DISTINCT i)  as inc,\\n               collect(DISTINCT l)  as lim\\n        '\n",
            "WARNING:neo4j.notifications:Received notification from DBMS server: {severity: WARNING} {code: Neo.ClientNotification.Statement.UnknownLabelWarning} {category: UNRECOGNIZED} {title: The provided label is not in the database.} {description: One of the labels in your query is not available in the database, make sure you didn't misspell it or that the label is available when you run this statement in your application (the missing label name is: Accessory)} {position: line: 9, column: 51, offset: 477} for query: '\\n        MATCH (t:Tool)\\n        WHERE toLower(t.model_number) STARTS WITH toLower($product_id)\\n        OPTIONAL MATCH (t)-[:BELONGS_TO]->(c:Category)\\n        OPTIONAL MATCH (t)-[:HAS_SPECIFICATION]->(s:Specification)\\n                     OPTIONAL MATCH (s)-[:HAS_UNIT]->(u:Unit)\\n                     OPTIONAL MATCH (s)-[:HAS_MIN_LIMIT]->(mn:RangeLimit)\\n                     OPTIONAL MATCH (s)-[:HAS_MAX_LIMIT]->(mx:RangeLimit)\\n        OPTIONAL MATCH (t)-[:COMPATIBLE_WITH]->(a:Accessory)\\n        OPTIONAL MATCH (t)-[:INCLUDES]->(i:IncludedItem)\\n        OPTIONAL MATCH (t)-[:HAS_LIMITATION]->(l:Limitation)\\n        RETURN t,c,\\n               collect(DISTINCT {spec:s,unit:u,min:mn,max:mx}) as specs,\\n               collect(DISTINCT a)  as acc,\\n               collect(DISTINCT i)  as inc,\\n               collect(DISTINCT l)  as lim\\n        '\n",
            "WARNING:neo4j.notifications:Received notification from DBMS server: {severity: WARNING} {code: Neo.ClientNotification.Statement.UnknownRelationshipTypeWarning} {category: UNRECOGNIZED} {title: The provided relationship type is not in the database.} {description: One of the relationship types in your query is not available in the database, make sure you didn't misspell it or that the label is available when you run this statement in your application (the missing relationship type is: INCLUDES)} {position: line: 10, column: 30, offset: 517} for query: '\\n        MATCH (t:Tool)\\n        WHERE toLower(t.model_number) STARTS WITH toLower($product_id)\\n        OPTIONAL MATCH (t)-[:BELONGS_TO]->(c:Category)\\n        OPTIONAL MATCH (t)-[:HAS_SPECIFICATION]->(s:Specification)\\n                     OPTIONAL MATCH (s)-[:HAS_UNIT]->(u:Unit)\\n                     OPTIONAL MATCH (s)-[:HAS_MIN_LIMIT]->(mn:RangeLimit)\\n                     OPTIONAL MATCH (s)-[:HAS_MAX_LIMIT]->(mx:RangeLimit)\\n        OPTIONAL MATCH (t)-[:COMPATIBLE_WITH]->(a:Accessory)\\n        OPTIONAL MATCH (t)-[:INCLUDES]->(i:IncludedItem)\\n        OPTIONAL MATCH (t)-[:HAS_LIMITATION]->(l:Limitation)\\n        RETURN t,c,\\n               collect(DISTINCT {spec:s,unit:u,min:mn,max:mx}) as specs,\\n               collect(DISTINCT a)  as acc,\\n               collect(DISTINCT i)  as inc,\\n               collect(DISTINCT l)  as lim\\n        '\n",
            "WARNING:neo4j.notifications:Received notification from DBMS server: {severity: WARNING} {code: Neo.ClientNotification.Statement.UnknownLabelWarning} {category: UNRECOGNIZED} {title: The provided label is not in the database.} {description: One of the labels in your query is not available in the database, make sure you didn't misspell it or that the label is available when you run this statement in your application (the missing label name is: IncludedItem)} {position: line: 10, column: 44, offset: 531} for query: '\\n        MATCH (t:Tool)\\n        WHERE toLower(t.model_number) STARTS WITH toLower($product_id)\\n        OPTIONAL MATCH (t)-[:BELONGS_TO]->(c:Category)\\n        OPTIONAL MATCH (t)-[:HAS_SPECIFICATION]->(s:Specification)\\n                     OPTIONAL MATCH (s)-[:HAS_UNIT]->(u:Unit)\\n                     OPTIONAL MATCH (s)-[:HAS_MIN_LIMIT]->(mn:RangeLimit)\\n                     OPTIONAL MATCH (s)-[:HAS_MAX_LIMIT]->(mx:RangeLimit)\\n        OPTIONAL MATCH (t)-[:COMPATIBLE_WITH]->(a:Accessory)\\n        OPTIONAL MATCH (t)-[:INCLUDES]->(i:IncludedItem)\\n        OPTIONAL MATCH (t)-[:HAS_LIMITATION]->(l:Limitation)\\n        RETURN t,c,\\n               collect(DISTINCT {spec:s,unit:u,min:mn,max:mx}) as specs,\\n               collect(DISTINCT a)  as acc,\\n               collect(DISTINCT i)  as inc,\\n               collect(DISTINCT l)  as lim\\n        '\n",
            "WARNING:neo4j.notifications:Received notification from DBMS server: {severity: WARNING} {code: Neo.ClientNotification.Statement.AggregationSkippedNull} {category: UNRECOGNIZED} {title: The query contains an aggregation function that skips null values.} {description: null value eliminated in set function.} {position: None} for query: '\\n        MATCH (t:Tool)\\n        WHERE toLower(t.model_number) STARTS WITH toLower($product_id)\\n        OPTIONAL MATCH (t)-[:BELONGS_TO]->(c:Category)\\n        OPTIONAL MATCH (t)-[:HAS_SPECIFICATION]->(s:Specification)\\n                     OPTIONAL MATCH (s)-[:HAS_UNIT]->(u:Unit)\\n                     OPTIONAL MATCH (s)-[:HAS_MIN_LIMIT]->(mn:RangeLimit)\\n                     OPTIONAL MATCH (s)-[:HAS_MAX_LIMIT]->(mx:RangeLimit)\\n        OPTIONAL MATCH (t)-[:COMPATIBLE_WITH]->(a:Accessory)\\n        OPTIONAL MATCH (t)-[:INCLUDES]->(i:IncludedItem)\\n        OPTIONAL MATCH (t)-[:HAS_LIMITATION]->(l:Limitation)\\n        RETURN t,c,\\n               collect(DISTINCT {spec:s,unit:u,min:mn,max:mx}) as specs,\\n               collect(DISTINCT a)  as acc,\\n               collect(DISTINCT i)  as inc,\\n               collect(DISTINCT l)  as lim\\n        '\n",
            "WARNING:neo4j.notifications:Received notification from DBMS server: {severity: WARNING} {code: Neo.ClientNotification.Statement.UnknownRelationshipTypeWarning} {category: UNRECOGNIZED} {title: The provided relationship type is not in the database.} {description: One of the relationship types in your query is not available in the database, make sure you didn't misspell it or that the label is available when you run this statement in your application (the missing relationship type is: COMPATIBLE_WITH)} {position: line: 9, column: 30, offset: 456} for query: '\\n        MATCH (t:Tool)\\n        WHERE toLower(t.model_number) STARTS WITH toLower($product_id)\\n        OPTIONAL MATCH (t)-[:BELONGS_TO]->(c:Category)\\n        OPTIONAL MATCH (t)-[:HAS_SPECIFICATION]->(s:Specification)\\n                     OPTIONAL MATCH (s)-[:HAS_UNIT]->(u:Unit)\\n                     OPTIONAL MATCH (s)-[:HAS_MIN_LIMIT]->(mn:RangeLimit)\\n                     OPTIONAL MATCH (s)-[:HAS_MAX_LIMIT]->(mx:RangeLimit)\\n        OPTIONAL MATCH (t)-[:COMPATIBLE_WITH]->(a:Accessory)\\n        OPTIONAL MATCH (t)-[:INCLUDES]->(i:IncludedItem)\\n        OPTIONAL MATCH (t)-[:HAS_LIMITATION]->(l:Limitation)\\n        RETURN t,c,\\n               collect(DISTINCT {spec:s,unit:u,min:mn,max:mx}) as specs,\\n               collect(DISTINCT a)  as acc,\\n               collect(DISTINCT i)  as inc,\\n               collect(DISTINCT l)  as lim\\n        '\n",
            "WARNING:neo4j.notifications:Received notification from DBMS server: {severity: WARNING} {code: Neo.ClientNotification.Statement.UnknownLabelWarning} {category: UNRECOGNIZED} {title: The provided label is not in the database.} {description: One of the labels in your query is not available in the database, make sure you didn't misspell it or that the label is available when you run this statement in your application (the missing label name is: Accessory)} {position: line: 9, column: 51, offset: 477} for query: '\\n        MATCH (t:Tool)\\n        WHERE toLower(t.model_number) STARTS WITH toLower($product_id)\\n        OPTIONAL MATCH (t)-[:BELONGS_TO]->(c:Category)\\n        OPTIONAL MATCH (t)-[:HAS_SPECIFICATION]->(s:Specification)\\n                     OPTIONAL MATCH (s)-[:HAS_UNIT]->(u:Unit)\\n                     OPTIONAL MATCH (s)-[:HAS_MIN_LIMIT]->(mn:RangeLimit)\\n                     OPTIONAL MATCH (s)-[:HAS_MAX_LIMIT]->(mx:RangeLimit)\\n        OPTIONAL MATCH (t)-[:COMPATIBLE_WITH]->(a:Accessory)\\n        OPTIONAL MATCH (t)-[:INCLUDES]->(i:IncludedItem)\\n        OPTIONAL MATCH (t)-[:HAS_LIMITATION]->(l:Limitation)\\n        RETURN t,c,\\n               collect(DISTINCT {spec:s,unit:u,min:mn,max:mx}) as specs,\\n               collect(DISTINCT a)  as acc,\\n               collect(DISTINCT i)  as inc,\\n               collect(DISTINCT l)  as lim\\n        '\n",
            "WARNING:neo4j.notifications:Received notification from DBMS server: {severity: WARNING} {code: Neo.ClientNotification.Statement.UnknownRelationshipTypeWarning} {category: UNRECOGNIZED} {title: The provided relationship type is not in the database.} {description: One of the relationship types in your query is not available in the database, make sure you didn't misspell it or that the label is available when you run this statement in your application (the missing relationship type is: INCLUDES)} {position: line: 10, column: 30, offset: 517} for query: '\\n        MATCH (t:Tool)\\n        WHERE toLower(t.model_number) STARTS WITH toLower($product_id)\\n        OPTIONAL MATCH (t)-[:BELONGS_TO]->(c:Category)\\n        OPTIONAL MATCH (t)-[:HAS_SPECIFICATION]->(s:Specification)\\n                     OPTIONAL MATCH (s)-[:HAS_UNIT]->(u:Unit)\\n                     OPTIONAL MATCH (s)-[:HAS_MIN_LIMIT]->(mn:RangeLimit)\\n                     OPTIONAL MATCH (s)-[:HAS_MAX_LIMIT]->(mx:RangeLimit)\\n        OPTIONAL MATCH (t)-[:COMPATIBLE_WITH]->(a:Accessory)\\n        OPTIONAL MATCH (t)-[:INCLUDES]->(i:IncludedItem)\\n        OPTIONAL MATCH (t)-[:HAS_LIMITATION]->(l:Limitation)\\n        RETURN t,c,\\n               collect(DISTINCT {spec:s,unit:u,min:mn,max:mx}) as specs,\\n               collect(DISTINCT a)  as acc,\\n               collect(DISTINCT i)  as inc,\\n               collect(DISTINCT l)  as lim\\n        '\n",
            "WARNING:neo4j.notifications:Received notification from DBMS server: {severity: WARNING} {code: Neo.ClientNotification.Statement.UnknownLabelWarning} {category: UNRECOGNIZED} {title: The provided label is not in the database.} {description: One of the labels in your query is not available in the database, make sure you didn't misspell it or that the label is available when you run this statement in your application (the missing label name is: IncludedItem)} {position: line: 10, column: 44, offset: 531} for query: '\\n        MATCH (t:Tool)\\n        WHERE toLower(t.model_number) STARTS WITH toLower($product_id)\\n        OPTIONAL MATCH (t)-[:BELONGS_TO]->(c:Category)\\n        OPTIONAL MATCH (t)-[:HAS_SPECIFICATION]->(s:Specification)\\n                     OPTIONAL MATCH (s)-[:HAS_UNIT]->(u:Unit)\\n                     OPTIONAL MATCH (s)-[:HAS_MIN_LIMIT]->(mn:RangeLimit)\\n                     OPTIONAL MATCH (s)-[:HAS_MAX_LIMIT]->(mx:RangeLimit)\\n        OPTIONAL MATCH (t)-[:COMPATIBLE_WITH]->(a:Accessory)\\n        OPTIONAL MATCH (t)-[:INCLUDES]->(i:IncludedItem)\\n        OPTIONAL MATCH (t)-[:HAS_LIMITATION]->(l:Limitation)\\n        RETURN t,c,\\n               collect(DISTINCT {spec:s,unit:u,min:mn,max:mx}) as specs,\\n               collect(DISTINCT a)  as acc,\\n               collect(DISTINCT i)  as inc,\\n               collect(DISTINCT l)  as lim\\n        '\n",
            "WARNING:neo4j.notifications:Received notification from DBMS server: {severity: WARNING} {code: Neo.ClientNotification.Statement.AggregationSkippedNull} {category: UNRECOGNIZED} {title: The query contains an aggregation function that skips null values.} {description: null value eliminated in set function.} {position: None} for query: '\\n        MATCH (t:Tool)\\n        WHERE toLower(t.model_number) STARTS WITH toLower($product_id)\\n        OPTIONAL MATCH (t)-[:BELONGS_TO]->(c:Category)\\n        OPTIONAL MATCH (t)-[:HAS_SPECIFICATION]->(s:Specification)\\n                     OPTIONAL MATCH (s)-[:HAS_UNIT]->(u:Unit)\\n                     OPTIONAL MATCH (s)-[:HAS_MIN_LIMIT]->(mn:RangeLimit)\\n                     OPTIONAL MATCH (s)-[:HAS_MAX_LIMIT]->(mx:RangeLimit)\\n        OPTIONAL MATCH (t)-[:COMPATIBLE_WITH]->(a:Accessory)\\n        OPTIONAL MATCH (t)-[:INCLUDES]->(i:IncludedItem)\\n        OPTIONAL MATCH (t)-[:HAS_LIMITATION]->(l:Limitation)\\n        RETURN t,c,\\n               collect(DISTINCT {spec:s,unit:u,min:mn,max:mx}) as specs,\\n               collect(DISTINCT a)  as acc,\\n               collect(DISTINCT i)  as inc,\\n               collect(DISTINCT l)  as lim\\n        '\n",
            "WARNING:neo4j.notifications:Received notification from DBMS server: {severity: WARNING} {code: Neo.ClientNotification.Statement.UnknownRelationshipTypeWarning} {category: UNRECOGNIZED} {title: The provided relationship type is not in the database.} {description: One of the relationship types in your query is not available in the database, make sure you didn't misspell it or that the label is available when you run this statement in your application (the missing relationship type is: COMPATIBLE_WITH)} {position: line: 9, column: 30, offset: 456} for query: '\\n        MATCH (t:Tool)\\n        WHERE toLower(t.model_number) STARTS WITH toLower($product_id)\\n        OPTIONAL MATCH (t)-[:BELONGS_TO]->(c:Category)\\n        OPTIONAL MATCH (t)-[:HAS_SPECIFICATION]->(s:Specification)\\n                     OPTIONAL MATCH (s)-[:HAS_UNIT]->(u:Unit)\\n                     OPTIONAL MATCH (s)-[:HAS_MIN_LIMIT]->(mn:RangeLimit)\\n                     OPTIONAL MATCH (s)-[:HAS_MAX_LIMIT]->(mx:RangeLimit)\\n        OPTIONAL MATCH (t)-[:COMPATIBLE_WITH]->(a:Accessory)\\n        OPTIONAL MATCH (t)-[:INCLUDES]->(i:IncludedItem)\\n        OPTIONAL MATCH (t)-[:HAS_LIMITATION]->(l:Limitation)\\n        RETURN t,c,\\n               collect(DISTINCT {spec:s,unit:u,min:mn,max:mx}) as specs,\\n               collect(DISTINCT a)  as acc,\\n               collect(DISTINCT i)  as inc,\\n               collect(DISTINCT l)  as lim\\n        '\n",
            "WARNING:neo4j.notifications:Received notification from DBMS server: {severity: WARNING} {code: Neo.ClientNotification.Statement.UnknownLabelWarning} {category: UNRECOGNIZED} {title: The provided label is not in the database.} {description: One of the labels in your query is not available in the database, make sure you didn't misspell it or that the label is available when you run this statement in your application (the missing label name is: Accessory)} {position: line: 9, column: 51, offset: 477} for query: '\\n        MATCH (t:Tool)\\n        WHERE toLower(t.model_number) STARTS WITH toLower($product_id)\\n        OPTIONAL MATCH (t)-[:BELONGS_TO]->(c:Category)\\n        OPTIONAL MATCH (t)-[:HAS_SPECIFICATION]->(s:Specification)\\n                     OPTIONAL MATCH (s)-[:HAS_UNIT]->(u:Unit)\\n                     OPTIONAL MATCH (s)-[:HAS_MIN_LIMIT]->(mn:RangeLimit)\\n                     OPTIONAL MATCH (s)-[:HAS_MAX_LIMIT]->(mx:RangeLimit)\\n        OPTIONAL MATCH (t)-[:COMPATIBLE_WITH]->(a:Accessory)\\n        OPTIONAL MATCH (t)-[:INCLUDES]->(i:IncludedItem)\\n        OPTIONAL MATCH (t)-[:HAS_LIMITATION]->(l:Limitation)\\n        RETURN t,c,\\n               collect(DISTINCT {spec:s,unit:u,min:mn,max:mx}) as specs,\\n               collect(DISTINCT a)  as acc,\\n               collect(DISTINCT i)  as inc,\\n               collect(DISTINCT l)  as lim\\n        '\n",
            "WARNING:neo4j.notifications:Received notification from DBMS server: {severity: WARNING} {code: Neo.ClientNotification.Statement.UnknownRelationshipTypeWarning} {category: UNRECOGNIZED} {title: The provided relationship type is not in the database.} {description: One of the relationship types in your query is not available in the database, make sure you didn't misspell it or that the label is available when you run this statement in your application (the missing relationship type is: INCLUDES)} {position: line: 10, column: 30, offset: 517} for query: '\\n        MATCH (t:Tool)\\n        WHERE toLower(t.model_number) STARTS WITH toLower($product_id)\\n        OPTIONAL MATCH (t)-[:BELONGS_TO]->(c:Category)\\n        OPTIONAL MATCH (t)-[:HAS_SPECIFICATION]->(s:Specification)\\n                     OPTIONAL MATCH (s)-[:HAS_UNIT]->(u:Unit)\\n                     OPTIONAL MATCH (s)-[:HAS_MIN_LIMIT]->(mn:RangeLimit)\\n                     OPTIONAL MATCH (s)-[:HAS_MAX_LIMIT]->(mx:RangeLimit)\\n        OPTIONAL MATCH (t)-[:COMPATIBLE_WITH]->(a:Accessory)\\n        OPTIONAL MATCH (t)-[:INCLUDES]->(i:IncludedItem)\\n        OPTIONAL MATCH (t)-[:HAS_LIMITATION]->(l:Limitation)\\n        RETURN t,c,\\n               collect(DISTINCT {spec:s,unit:u,min:mn,max:mx}) as specs,\\n               collect(DISTINCT a)  as acc,\\n               collect(DISTINCT i)  as inc,\\n               collect(DISTINCT l)  as lim\\n        '\n",
            "WARNING:neo4j.notifications:Received notification from DBMS server: {severity: WARNING} {code: Neo.ClientNotification.Statement.UnknownLabelWarning} {category: UNRECOGNIZED} {title: The provided label is not in the database.} {description: One of the labels in your query is not available in the database, make sure you didn't misspell it or that the label is available when you run this statement in your application (the missing label name is: IncludedItem)} {position: line: 10, column: 44, offset: 531} for query: '\\n        MATCH (t:Tool)\\n        WHERE toLower(t.model_number) STARTS WITH toLower($product_id)\\n        OPTIONAL MATCH (t)-[:BELONGS_TO]->(c:Category)\\n        OPTIONAL MATCH (t)-[:HAS_SPECIFICATION]->(s:Specification)\\n                     OPTIONAL MATCH (s)-[:HAS_UNIT]->(u:Unit)\\n                     OPTIONAL MATCH (s)-[:HAS_MIN_LIMIT]->(mn:RangeLimit)\\n                     OPTIONAL MATCH (s)-[:HAS_MAX_LIMIT]->(mx:RangeLimit)\\n        OPTIONAL MATCH (t)-[:COMPATIBLE_WITH]->(a:Accessory)\\n        OPTIONAL MATCH (t)-[:INCLUDES]->(i:IncludedItem)\\n        OPTIONAL MATCH (t)-[:HAS_LIMITATION]->(l:Limitation)\\n        RETURN t,c,\\n               collect(DISTINCT {spec:s,unit:u,min:mn,max:mx}) as specs,\\n               collect(DISTINCT a)  as acc,\\n               collect(DISTINCT i)  as inc,\\n               collect(DISTINCT l)  as lim\\n        '\n",
            "WARNING:neo4j.notifications:Received notification from DBMS server: {severity: WARNING} {code: Neo.ClientNotification.Statement.AggregationSkippedNull} {category: UNRECOGNIZED} {title: The query contains an aggregation function that skips null values.} {description: null value eliminated in set function.} {position: None} for query: '\\n        MATCH (t:Tool)\\n        WHERE toLower(t.model_number) STARTS WITH toLower($product_id)\\n        OPTIONAL MATCH (t)-[:BELONGS_TO]->(c:Category)\\n        OPTIONAL MATCH (t)-[:HAS_SPECIFICATION]->(s:Specification)\\n                     OPTIONAL MATCH (s)-[:HAS_UNIT]->(u:Unit)\\n                     OPTIONAL MATCH (s)-[:HAS_MIN_LIMIT]->(mn:RangeLimit)\\n                     OPTIONAL MATCH (s)-[:HAS_MAX_LIMIT]->(mx:RangeLimit)\\n        OPTIONAL MATCH (t)-[:COMPATIBLE_WITH]->(a:Accessory)\\n        OPTIONAL MATCH (t)-[:INCLUDES]->(i:IncludedItem)\\n        OPTIONAL MATCH (t)-[:HAS_LIMITATION]->(l:Limitation)\\n        RETURN t,c,\\n               collect(DISTINCT {spec:s,unit:u,min:mn,max:mx}) as specs,\\n               collect(DISTINCT a)  as acc,\\n               collect(DISTINCT i)  as inc,\\n               collect(DISTINCT l)  as lim\\n        '\n",
            "WARNING:neo4j.notifications:Received notification from DBMS server: {severity: WARNING} {code: Neo.ClientNotification.Statement.UnknownRelationshipTypeWarning} {category: UNRECOGNIZED} {title: The provided relationship type is not in the database.} {description: One of the relationship types in your query is not available in the database, make sure you didn't misspell it or that the label is available when you run this statement in your application (the missing relationship type is: COMPATIBLE_WITH)} {position: line: 9, column: 30, offset: 456} for query: '\\n        MATCH (t:Tool)\\n        WHERE toLower(t.model_number) STARTS WITH toLower($product_id)\\n        OPTIONAL MATCH (t)-[:BELONGS_TO]->(c:Category)\\n        OPTIONAL MATCH (t)-[:HAS_SPECIFICATION]->(s:Specification)\\n                     OPTIONAL MATCH (s)-[:HAS_UNIT]->(u:Unit)\\n                     OPTIONAL MATCH (s)-[:HAS_MIN_LIMIT]->(mn:RangeLimit)\\n                     OPTIONAL MATCH (s)-[:HAS_MAX_LIMIT]->(mx:RangeLimit)\\n        OPTIONAL MATCH (t)-[:COMPATIBLE_WITH]->(a:Accessory)\\n        OPTIONAL MATCH (t)-[:INCLUDES]->(i:IncludedItem)\\n        OPTIONAL MATCH (t)-[:HAS_LIMITATION]->(l:Limitation)\\n        RETURN t,c,\\n               collect(DISTINCT {spec:s,unit:u,min:mn,max:mx}) as specs,\\n               collect(DISTINCT a)  as acc,\\n               collect(DISTINCT i)  as inc,\\n               collect(DISTINCT l)  as lim\\n        '\n",
            "WARNING:neo4j.notifications:Received notification from DBMS server: {severity: WARNING} {code: Neo.ClientNotification.Statement.UnknownLabelWarning} {category: UNRECOGNIZED} {title: The provided label is not in the database.} {description: One of the labels in your query is not available in the database, make sure you didn't misspell it or that the label is available when you run this statement in your application (the missing label name is: Accessory)} {position: line: 9, column: 51, offset: 477} for query: '\\n        MATCH (t:Tool)\\n        WHERE toLower(t.model_number) STARTS WITH toLower($product_id)\\n        OPTIONAL MATCH (t)-[:BELONGS_TO]->(c:Category)\\n        OPTIONAL MATCH (t)-[:HAS_SPECIFICATION]->(s:Specification)\\n                     OPTIONAL MATCH (s)-[:HAS_UNIT]->(u:Unit)\\n                     OPTIONAL MATCH (s)-[:HAS_MIN_LIMIT]->(mn:RangeLimit)\\n                     OPTIONAL MATCH (s)-[:HAS_MAX_LIMIT]->(mx:RangeLimit)\\n        OPTIONAL MATCH (t)-[:COMPATIBLE_WITH]->(a:Accessory)\\n        OPTIONAL MATCH (t)-[:INCLUDES]->(i:IncludedItem)\\n        OPTIONAL MATCH (t)-[:HAS_LIMITATION]->(l:Limitation)\\n        RETURN t,c,\\n               collect(DISTINCT {spec:s,unit:u,min:mn,max:mx}) as specs,\\n               collect(DISTINCT a)  as acc,\\n               collect(DISTINCT i)  as inc,\\n               collect(DISTINCT l)  as lim\\n        '\n",
            "WARNING:neo4j.notifications:Received notification from DBMS server: {severity: WARNING} {code: Neo.ClientNotification.Statement.UnknownRelationshipTypeWarning} {category: UNRECOGNIZED} {title: The provided relationship type is not in the database.} {description: One of the relationship types in your query is not available in the database, make sure you didn't misspell it or that the label is available when you run this statement in your application (the missing relationship type is: INCLUDES)} {position: line: 10, column: 30, offset: 517} for query: '\\n        MATCH (t:Tool)\\n        WHERE toLower(t.model_number) STARTS WITH toLower($product_id)\\n        OPTIONAL MATCH (t)-[:BELONGS_TO]->(c:Category)\\n        OPTIONAL MATCH (t)-[:HAS_SPECIFICATION]->(s:Specification)\\n                     OPTIONAL MATCH (s)-[:HAS_UNIT]->(u:Unit)\\n                     OPTIONAL MATCH (s)-[:HAS_MIN_LIMIT]->(mn:RangeLimit)\\n                     OPTIONAL MATCH (s)-[:HAS_MAX_LIMIT]->(mx:RangeLimit)\\n        OPTIONAL MATCH (t)-[:COMPATIBLE_WITH]->(a:Accessory)\\n        OPTIONAL MATCH (t)-[:INCLUDES]->(i:IncludedItem)\\n        OPTIONAL MATCH (t)-[:HAS_LIMITATION]->(l:Limitation)\\n        RETURN t,c,\\n               collect(DISTINCT {spec:s,unit:u,min:mn,max:mx}) as specs,\\n               collect(DISTINCT a)  as acc,\\n               collect(DISTINCT i)  as inc,\\n               collect(DISTINCT l)  as lim\\n        '\n",
            "WARNING:neo4j.notifications:Received notification from DBMS server: {severity: WARNING} {code: Neo.ClientNotification.Statement.UnknownLabelWarning} {category: UNRECOGNIZED} {title: The provided label is not in the database.} {description: One of the labels in your query is not available in the database, make sure you didn't misspell it or that the label is available when you run this statement in your application (the missing label name is: IncludedItem)} {position: line: 10, column: 44, offset: 531} for query: '\\n        MATCH (t:Tool)\\n        WHERE toLower(t.model_number) STARTS WITH toLower($product_id)\\n        OPTIONAL MATCH (t)-[:BELONGS_TO]->(c:Category)\\n        OPTIONAL MATCH (t)-[:HAS_SPECIFICATION]->(s:Specification)\\n                     OPTIONAL MATCH (s)-[:HAS_UNIT]->(u:Unit)\\n                     OPTIONAL MATCH (s)-[:HAS_MIN_LIMIT]->(mn:RangeLimit)\\n                     OPTIONAL MATCH (s)-[:HAS_MAX_LIMIT]->(mx:RangeLimit)\\n        OPTIONAL MATCH (t)-[:COMPATIBLE_WITH]->(a:Accessory)\\n        OPTIONAL MATCH (t)-[:INCLUDES]->(i:IncludedItem)\\n        OPTIONAL MATCH (t)-[:HAS_LIMITATION]->(l:Limitation)\\n        RETURN t,c,\\n               collect(DISTINCT {spec:s,unit:u,min:mn,max:mx}) as specs,\\n               collect(DISTINCT a)  as acc,\\n               collect(DISTINCT i)  as inc,\\n               collect(DISTINCT l)  as lim\\n        '\n",
            "WARNING:neo4j.notifications:Received notification from DBMS server: {severity: WARNING} {code: Neo.ClientNotification.Statement.AggregationSkippedNull} {category: UNRECOGNIZED} {title: The query contains an aggregation function that skips null values.} {description: null value eliminated in set function.} {position: None} for query: '\\n        MATCH (t:Tool)\\n        WHERE toLower(t.model_number) STARTS WITH toLower($product_id)\\n        OPTIONAL MATCH (t)-[:BELONGS_TO]->(c:Category)\\n        OPTIONAL MATCH (t)-[:HAS_SPECIFICATION]->(s:Specification)\\n                     OPTIONAL MATCH (s)-[:HAS_UNIT]->(u:Unit)\\n                     OPTIONAL MATCH (s)-[:HAS_MIN_LIMIT]->(mn:RangeLimit)\\n                     OPTIONAL MATCH (s)-[:HAS_MAX_LIMIT]->(mx:RangeLimit)\\n        OPTIONAL MATCH (t)-[:COMPATIBLE_WITH]->(a:Accessory)\\n        OPTIONAL MATCH (t)-[:INCLUDES]->(i:IncludedItem)\\n        OPTIONAL MATCH (t)-[:HAS_LIMITATION]->(l:Limitation)\\n        RETURN t,c,\\n               collect(DISTINCT {spec:s,unit:u,min:mn,max:mx}) as specs,\\n               collect(DISTINCT a)  as acc,\\n               collect(DISTINCT i)  as inc,\\n               collect(DISTINCT l)  as lim\\n        '\n",
            "WARNING:neo4j.notifications:Received notification from DBMS server: {severity: WARNING} {code: Neo.ClientNotification.Statement.UnknownRelationshipTypeWarning} {category: UNRECOGNIZED} {title: The provided relationship type is not in the database.} {description: One of the relationship types in your query is not available in the database, make sure you didn't misspell it or that the label is available when you run this statement in your application (the missing relationship type is: COMPATIBLE_WITH)} {position: line: 9, column: 30, offset: 456} for query: '\\n        MATCH (t:Tool)\\n        WHERE toLower(t.model_number) STARTS WITH toLower($product_id)\\n        OPTIONAL MATCH (t)-[:BELONGS_TO]->(c:Category)\\n        OPTIONAL MATCH (t)-[:HAS_SPECIFICATION]->(s:Specification)\\n                     OPTIONAL MATCH (s)-[:HAS_UNIT]->(u:Unit)\\n                     OPTIONAL MATCH (s)-[:HAS_MIN_LIMIT]->(mn:RangeLimit)\\n                     OPTIONAL MATCH (s)-[:HAS_MAX_LIMIT]->(mx:RangeLimit)\\n        OPTIONAL MATCH (t)-[:COMPATIBLE_WITH]->(a:Accessory)\\n        OPTIONAL MATCH (t)-[:INCLUDES]->(i:IncludedItem)\\n        OPTIONAL MATCH (t)-[:HAS_LIMITATION]->(l:Limitation)\\n        RETURN t,c,\\n               collect(DISTINCT {spec:s,unit:u,min:mn,max:mx}) as specs,\\n               collect(DISTINCT a)  as acc,\\n               collect(DISTINCT i)  as inc,\\n               collect(DISTINCT l)  as lim\\n        '\n",
            "WARNING:neo4j.notifications:Received notification from DBMS server: {severity: WARNING} {code: Neo.ClientNotification.Statement.UnknownLabelWarning} {category: UNRECOGNIZED} {title: The provided label is not in the database.} {description: One of the labels in your query is not available in the database, make sure you didn't misspell it or that the label is available when you run this statement in your application (the missing label name is: Accessory)} {position: line: 9, column: 51, offset: 477} for query: '\\n        MATCH (t:Tool)\\n        WHERE toLower(t.model_number) STARTS WITH toLower($product_id)\\n        OPTIONAL MATCH (t)-[:BELONGS_TO]->(c:Category)\\n        OPTIONAL MATCH (t)-[:HAS_SPECIFICATION]->(s:Specification)\\n                     OPTIONAL MATCH (s)-[:HAS_UNIT]->(u:Unit)\\n                     OPTIONAL MATCH (s)-[:HAS_MIN_LIMIT]->(mn:RangeLimit)\\n                     OPTIONAL MATCH (s)-[:HAS_MAX_LIMIT]->(mx:RangeLimit)\\n        OPTIONAL MATCH (t)-[:COMPATIBLE_WITH]->(a:Accessory)\\n        OPTIONAL MATCH (t)-[:INCLUDES]->(i:IncludedItem)\\n        OPTIONAL MATCH (t)-[:HAS_LIMITATION]->(l:Limitation)\\n        RETURN t,c,\\n               collect(DISTINCT {spec:s,unit:u,min:mn,max:mx}) as specs,\\n               collect(DISTINCT a)  as acc,\\n               collect(DISTINCT i)  as inc,\\n               collect(DISTINCT l)  as lim\\n        '\n",
            "WARNING:neo4j.notifications:Received notification from DBMS server: {severity: WARNING} {code: Neo.ClientNotification.Statement.UnknownRelationshipTypeWarning} {category: UNRECOGNIZED} {title: The provided relationship type is not in the database.} {description: One of the relationship types in your query is not available in the database, make sure you didn't misspell it or that the label is available when you run this statement in your application (the missing relationship type is: INCLUDES)} {position: line: 10, column: 30, offset: 517} for query: '\\n        MATCH (t:Tool)\\n        WHERE toLower(t.model_number) STARTS WITH toLower($product_id)\\n        OPTIONAL MATCH (t)-[:BELONGS_TO]->(c:Category)\\n        OPTIONAL MATCH (t)-[:HAS_SPECIFICATION]->(s:Specification)\\n                     OPTIONAL MATCH (s)-[:HAS_UNIT]->(u:Unit)\\n                     OPTIONAL MATCH (s)-[:HAS_MIN_LIMIT]->(mn:RangeLimit)\\n                     OPTIONAL MATCH (s)-[:HAS_MAX_LIMIT]->(mx:RangeLimit)\\n        OPTIONAL MATCH (t)-[:COMPATIBLE_WITH]->(a:Accessory)\\n        OPTIONAL MATCH (t)-[:INCLUDES]->(i:IncludedItem)\\n        OPTIONAL MATCH (t)-[:HAS_LIMITATION]->(l:Limitation)\\n        RETURN t,c,\\n               collect(DISTINCT {spec:s,unit:u,min:mn,max:mx}) as specs,\\n               collect(DISTINCT a)  as acc,\\n               collect(DISTINCT i)  as inc,\\n               collect(DISTINCT l)  as lim\\n        '\n",
            "WARNING:neo4j.notifications:Received notification from DBMS server: {severity: WARNING} {code: Neo.ClientNotification.Statement.UnknownLabelWarning} {category: UNRECOGNIZED} {title: The provided label is not in the database.} {description: One of the labels in your query is not available in the database, make sure you didn't misspell it or that the label is available when you run this statement in your application (the missing label name is: IncludedItem)} {position: line: 10, column: 44, offset: 531} for query: '\\n        MATCH (t:Tool)\\n        WHERE toLower(t.model_number) STARTS WITH toLower($product_id)\\n        OPTIONAL MATCH (t)-[:BELONGS_TO]->(c:Category)\\n        OPTIONAL MATCH (t)-[:HAS_SPECIFICATION]->(s:Specification)\\n                     OPTIONAL MATCH (s)-[:HAS_UNIT]->(u:Unit)\\n                     OPTIONAL MATCH (s)-[:HAS_MIN_LIMIT]->(mn:RangeLimit)\\n                     OPTIONAL MATCH (s)-[:HAS_MAX_LIMIT]->(mx:RangeLimit)\\n        OPTIONAL MATCH (t)-[:COMPATIBLE_WITH]->(a:Accessory)\\n        OPTIONAL MATCH (t)-[:INCLUDES]->(i:IncludedItem)\\n        OPTIONAL MATCH (t)-[:HAS_LIMITATION]->(l:Limitation)\\n        RETURN t,c,\\n               collect(DISTINCT {spec:s,unit:u,min:mn,max:mx}) as specs,\\n               collect(DISTINCT a)  as acc,\\n               collect(DISTINCT i)  as inc,\\n               collect(DISTINCT l)  as lim\\n        '\n",
            "WARNING:neo4j.notifications:Received notification from DBMS server: {severity: WARNING} {code: Neo.ClientNotification.Statement.AggregationSkippedNull} {category: UNRECOGNIZED} {title: The query contains an aggregation function that skips null values.} {description: null value eliminated in set function.} {position: None} for query: '\\n        MATCH (t:Tool)\\n        WHERE toLower(t.model_number) STARTS WITH toLower($product_id)\\n        OPTIONAL MATCH (t)-[:BELONGS_TO]->(c:Category)\\n        OPTIONAL MATCH (t)-[:HAS_SPECIFICATION]->(s:Specification)\\n                     OPTIONAL MATCH (s)-[:HAS_UNIT]->(u:Unit)\\n                     OPTIONAL MATCH (s)-[:HAS_MIN_LIMIT]->(mn:RangeLimit)\\n                     OPTIONAL MATCH (s)-[:HAS_MAX_LIMIT]->(mx:RangeLimit)\\n        OPTIONAL MATCH (t)-[:COMPATIBLE_WITH]->(a:Accessory)\\n        OPTIONAL MATCH (t)-[:INCLUDES]->(i:IncludedItem)\\n        OPTIONAL MATCH (t)-[:HAS_LIMITATION]->(l:Limitation)\\n        RETURN t,c,\\n               collect(DISTINCT {spec:s,unit:u,min:mn,max:mx}) as specs,\\n               collect(DISTINCT a)  as acc,\\n               collect(DISTINCT i)  as inc,\\n               collect(DISTINCT l)  as lim\\n        '\n",
            "WARNING:neo4j.notifications:Received notification from DBMS server: {severity: WARNING} {code: Neo.ClientNotification.Statement.UnknownRelationshipTypeWarning} {category: UNRECOGNIZED} {title: The provided relationship type is not in the database.} {description: One of the relationship types in your query is not available in the database, make sure you didn't misspell it or that the label is available when you run this statement in your application (the missing relationship type is: COMPATIBLE_WITH)} {position: line: 9, column: 30, offset: 456} for query: '\\n        MATCH (t:Tool)\\n        WHERE toLower(t.model_number) STARTS WITH toLower($product_id)\\n        OPTIONAL MATCH (t)-[:BELONGS_TO]->(c:Category)\\n        OPTIONAL MATCH (t)-[:HAS_SPECIFICATION]->(s:Specification)\\n                     OPTIONAL MATCH (s)-[:HAS_UNIT]->(u:Unit)\\n                     OPTIONAL MATCH (s)-[:HAS_MIN_LIMIT]->(mn:RangeLimit)\\n                     OPTIONAL MATCH (s)-[:HAS_MAX_LIMIT]->(mx:RangeLimit)\\n        OPTIONAL MATCH (t)-[:COMPATIBLE_WITH]->(a:Accessory)\\n        OPTIONAL MATCH (t)-[:INCLUDES]->(i:IncludedItem)\\n        OPTIONAL MATCH (t)-[:HAS_LIMITATION]->(l:Limitation)\\n        RETURN t,c,\\n               collect(DISTINCT {spec:s,unit:u,min:mn,max:mx}) as specs,\\n               collect(DISTINCT a)  as acc,\\n               collect(DISTINCT i)  as inc,\\n               collect(DISTINCT l)  as lim\\n        '\n",
            "WARNING:neo4j.notifications:Received notification from DBMS server: {severity: WARNING} {code: Neo.ClientNotification.Statement.UnknownLabelWarning} {category: UNRECOGNIZED} {title: The provided label is not in the database.} {description: One of the labels in your query is not available in the database, make sure you didn't misspell it or that the label is available when you run this statement in your application (the missing label name is: Accessory)} {position: line: 9, column: 51, offset: 477} for query: '\\n        MATCH (t:Tool)\\n        WHERE toLower(t.model_number) STARTS WITH toLower($product_id)\\n        OPTIONAL MATCH (t)-[:BELONGS_TO]->(c:Category)\\n        OPTIONAL MATCH (t)-[:HAS_SPECIFICATION]->(s:Specification)\\n                     OPTIONAL MATCH (s)-[:HAS_UNIT]->(u:Unit)\\n                     OPTIONAL MATCH (s)-[:HAS_MIN_LIMIT]->(mn:RangeLimit)\\n                     OPTIONAL MATCH (s)-[:HAS_MAX_LIMIT]->(mx:RangeLimit)\\n        OPTIONAL MATCH (t)-[:COMPATIBLE_WITH]->(a:Accessory)\\n        OPTIONAL MATCH (t)-[:INCLUDES]->(i:IncludedItem)\\n        OPTIONAL MATCH (t)-[:HAS_LIMITATION]->(l:Limitation)\\n        RETURN t,c,\\n               collect(DISTINCT {spec:s,unit:u,min:mn,max:mx}) as specs,\\n               collect(DISTINCT a)  as acc,\\n               collect(DISTINCT i)  as inc,\\n               collect(DISTINCT l)  as lim\\n        '\n",
            "WARNING:neo4j.notifications:Received notification from DBMS server: {severity: WARNING} {code: Neo.ClientNotification.Statement.UnknownRelationshipTypeWarning} {category: UNRECOGNIZED} {title: The provided relationship type is not in the database.} {description: One of the relationship types in your query is not available in the database, make sure you didn't misspell it or that the label is available when you run this statement in your application (the missing relationship type is: INCLUDES)} {position: line: 10, column: 30, offset: 517} for query: '\\n        MATCH (t:Tool)\\n        WHERE toLower(t.model_number) STARTS WITH toLower($product_id)\\n        OPTIONAL MATCH (t)-[:BELONGS_TO]->(c:Category)\\n        OPTIONAL MATCH (t)-[:HAS_SPECIFICATION]->(s:Specification)\\n                     OPTIONAL MATCH (s)-[:HAS_UNIT]->(u:Unit)\\n                     OPTIONAL MATCH (s)-[:HAS_MIN_LIMIT]->(mn:RangeLimit)\\n                     OPTIONAL MATCH (s)-[:HAS_MAX_LIMIT]->(mx:RangeLimit)\\n        OPTIONAL MATCH (t)-[:COMPATIBLE_WITH]->(a:Accessory)\\n        OPTIONAL MATCH (t)-[:INCLUDES]->(i:IncludedItem)\\n        OPTIONAL MATCH (t)-[:HAS_LIMITATION]->(l:Limitation)\\n        RETURN t,c,\\n               collect(DISTINCT {spec:s,unit:u,min:mn,max:mx}) as specs,\\n               collect(DISTINCT a)  as acc,\\n               collect(DISTINCT i)  as inc,\\n               collect(DISTINCT l)  as lim\\n        '\n",
            "WARNING:neo4j.notifications:Received notification from DBMS server: {severity: WARNING} {code: Neo.ClientNotification.Statement.UnknownLabelWarning} {category: UNRECOGNIZED} {title: The provided label is not in the database.} {description: One of the labels in your query is not available in the database, make sure you didn't misspell it or that the label is available when you run this statement in your application (the missing label name is: IncludedItem)} {position: line: 10, column: 44, offset: 531} for query: '\\n        MATCH (t:Tool)\\n        WHERE toLower(t.model_number) STARTS WITH toLower($product_id)\\n        OPTIONAL MATCH (t)-[:BELONGS_TO]->(c:Category)\\n        OPTIONAL MATCH (t)-[:HAS_SPECIFICATION]->(s:Specification)\\n                     OPTIONAL MATCH (s)-[:HAS_UNIT]->(u:Unit)\\n                     OPTIONAL MATCH (s)-[:HAS_MIN_LIMIT]->(mn:RangeLimit)\\n                     OPTIONAL MATCH (s)-[:HAS_MAX_LIMIT]->(mx:RangeLimit)\\n        OPTIONAL MATCH (t)-[:COMPATIBLE_WITH]->(a:Accessory)\\n        OPTIONAL MATCH (t)-[:INCLUDES]->(i:IncludedItem)\\n        OPTIONAL MATCH (t)-[:HAS_LIMITATION]->(l:Limitation)\\n        RETURN t,c,\\n               collect(DISTINCT {spec:s,unit:u,min:mn,max:mx}) as specs,\\n               collect(DISTINCT a)  as acc,\\n               collect(DISTINCT i)  as inc,\\n               collect(DISTINCT l)  as lim\\n        '\n",
            "WARNING:neo4j.notifications:Received notification from DBMS server: {severity: WARNING} {code: Neo.ClientNotification.Statement.AggregationSkippedNull} {category: UNRECOGNIZED} {title: The query contains an aggregation function that skips null values.} {description: null value eliminated in set function.} {position: None} for query: '\\n        MATCH (t:Tool)\\n        WHERE toLower(t.model_number) STARTS WITH toLower($product_id)\\n        OPTIONAL MATCH (t)-[:BELONGS_TO]->(c:Category)\\n        OPTIONAL MATCH (t)-[:HAS_SPECIFICATION]->(s:Specification)\\n                     OPTIONAL MATCH (s)-[:HAS_UNIT]->(u:Unit)\\n                     OPTIONAL MATCH (s)-[:HAS_MIN_LIMIT]->(mn:RangeLimit)\\n                     OPTIONAL MATCH (s)-[:HAS_MAX_LIMIT]->(mx:RangeLimit)\\n        OPTIONAL MATCH (t)-[:COMPATIBLE_WITH]->(a:Accessory)\\n        OPTIONAL MATCH (t)-[:INCLUDES]->(i:IncludedItem)\\n        OPTIONAL MATCH (t)-[:HAS_LIMITATION]->(l:Limitation)\\n        RETURN t,c,\\n               collect(DISTINCT {spec:s,unit:u,min:mn,max:mx}) as specs,\\n               collect(DISTINCT a)  as acc,\\n               collect(DISTINCT i)  as inc,\\n               collect(DISTINCT l)  as lim\\n        '\n",
            "WARNING:neo4j.notifications:Received notification from DBMS server: {severity: WARNING} {code: Neo.ClientNotification.Statement.UnknownRelationshipTypeWarning} {category: UNRECOGNIZED} {title: The provided relationship type is not in the database.} {description: One of the relationship types in your query is not available in the database, make sure you didn't misspell it or that the label is available when you run this statement in your application (the missing relationship type is: COMPATIBLE_WITH)} {position: line: 9, column: 30, offset: 456} for query: '\\n        MATCH (t:Tool)\\n        WHERE toLower(t.model_number) STARTS WITH toLower($product_id)\\n        OPTIONAL MATCH (t)-[:BELONGS_TO]->(c:Category)\\n        OPTIONAL MATCH (t)-[:HAS_SPECIFICATION]->(s:Specification)\\n                     OPTIONAL MATCH (s)-[:HAS_UNIT]->(u:Unit)\\n                     OPTIONAL MATCH (s)-[:HAS_MIN_LIMIT]->(mn:RangeLimit)\\n                     OPTIONAL MATCH (s)-[:HAS_MAX_LIMIT]->(mx:RangeLimit)\\n        OPTIONAL MATCH (t)-[:COMPATIBLE_WITH]->(a:Accessory)\\n        OPTIONAL MATCH (t)-[:INCLUDES]->(i:IncludedItem)\\n        OPTIONAL MATCH (t)-[:HAS_LIMITATION]->(l:Limitation)\\n        RETURN t,c,\\n               collect(DISTINCT {spec:s,unit:u,min:mn,max:mx}) as specs,\\n               collect(DISTINCT a)  as acc,\\n               collect(DISTINCT i)  as inc,\\n               collect(DISTINCT l)  as lim\\n        '\n",
            "WARNING:neo4j.notifications:Received notification from DBMS server: {severity: WARNING} {code: Neo.ClientNotification.Statement.UnknownLabelWarning} {category: UNRECOGNIZED} {title: The provided label is not in the database.} {description: One of the labels in your query is not available in the database, make sure you didn't misspell it or that the label is available when you run this statement in your application (the missing label name is: Accessory)} {position: line: 9, column: 51, offset: 477} for query: '\\n        MATCH (t:Tool)\\n        WHERE toLower(t.model_number) STARTS WITH toLower($product_id)\\n        OPTIONAL MATCH (t)-[:BELONGS_TO]->(c:Category)\\n        OPTIONAL MATCH (t)-[:HAS_SPECIFICATION]->(s:Specification)\\n                     OPTIONAL MATCH (s)-[:HAS_UNIT]->(u:Unit)\\n                     OPTIONAL MATCH (s)-[:HAS_MIN_LIMIT]->(mn:RangeLimit)\\n                     OPTIONAL MATCH (s)-[:HAS_MAX_LIMIT]->(mx:RangeLimit)\\n        OPTIONAL MATCH (t)-[:COMPATIBLE_WITH]->(a:Accessory)\\n        OPTIONAL MATCH (t)-[:INCLUDES]->(i:IncludedItem)\\n        OPTIONAL MATCH (t)-[:HAS_LIMITATION]->(l:Limitation)\\n        RETURN t,c,\\n               collect(DISTINCT {spec:s,unit:u,min:mn,max:mx}) as specs,\\n               collect(DISTINCT a)  as acc,\\n               collect(DISTINCT i)  as inc,\\n               collect(DISTINCT l)  as lim\\n        '\n",
            "WARNING:neo4j.notifications:Received notification from DBMS server: {severity: WARNING} {code: Neo.ClientNotification.Statement.UnknownRelationshipTypeWarning} {category: UNRECOGNIZED} {title: The provided relationship type is not in the database.} {description: One of the relationship types in your query is not available in the database, make sure you didn't misspell it or that the label is available when you run this statement in your application (the missing relationship type is: INCLUDES)} {position: line: 10, column: 30, offset: 517} for query: '\\n        MATCH (t:Tool)\\n        WHERE toLower(t.model_number) STARTS WITH toLower($product_id)\\n        OPTIONAL MATCH (t)-[:BELONGS_TO]->(c:Category)\\n        OPTIONAL MATCH (t)-[:HAS_SPECIFICATION]->(s:Specification)\\n                     OPTIONAL MATCH (s)-[:HAS_UNIT]->(u:Unit)\\n                     OPTIONAL MATCH (s)-[:HAS_MIN_LIMIT]->(mn:RangeLimit)\\n                     OPTIONAL MATCH (s)-[:HAS_MAX_LIMIT]->(mx:RangeLimit)\\n        OPTIONAL MATCH (t)-[:COMPATIBLE_WITH]->(a:Accessory)\\n        OPTIONAL MATCH (t)-[:INCLUDES]->(i:IncludedItem)\\n        OPTIONAL MATCH (t)-[:HAS_LIMITATION]->(l:Limitation)\\n        RETURN t,c,\\n               collect(DISTINCT {spec:s,unit:u,min:mn,max:mx}) as specs,\\n               collect(DISTINCT a)  as acc,\\n               collect(DISTINCT i)  as inc,\\n               collect(DISTINCT l)  as lim\\n        '\n",
            "WARNING:neo4j.notifications:Received notification from DBMS server: {severity: WARNING} {code: Neo.ClientNotification.Statement.UnknownLabelWarning} {category: UNRECOGNIZED} {title: The provided label is not in the database.} {description: One of the labels in your query is not available in the database, make sure you didn't misspell it or that the label is available when you run this statement in your application (the missing label name is: IncludedItem)} {position: line: 10, column: 44, offset: 531} for query: '\\n        MATCH (t:Tool)\\n        WHERE toLower(t.model_number) STARTS WITH toLower($product_id)\\n        OPTIONAL MATCH (t)-[:BELONGS_TO]->(c:Category)\\n        OPTIONAL MATCH (t)-[:HAS_SPECIFICATION]->(s:Specification)\\n                     OPTIONAL MATCH (s)-[:HAS_UNIT]->(u:Unit)\\n                     OPTIONAL MATCH (s)-[:HAS_MIN_LIMIT]->(mn:RangeLimit)\\n                     OPTIONAL MATCH (s)-[:HAS_MAX_LIMIT]->(mx:RangeLimit)\\n        OPTIONAL MATCH (t)-[:COMPATIBLE_WITH]->(a:Accessory)\\n        OPTIONAL MATCH (t)-[:INCLUDES]->(i:IncludedItem)\\n        OPTIONAL MATCH (t)-[:HAS_LIMITATION]->(l:Limitation)\\n        RETURN t,c,\\n               collect(DISTINCT {spec:s,unit:u,min:mn,max:mx}) as specs,\\n               collect(DISTINCT a)  as acc,\\n               collect(DISTINCT i)  as inc,\\n               collect(DISTINCT l)  as lim\\n        '\n",
            "WARNING:neo4j.notifications:Received notification from DBMS server: {severity: WARNING} {code: Neo.ClientNotification.Statement.AggregationSkippedNull} {category: UNRECOGNIZED} {title: The query contains an aggregation function that skips null values.} {description: null value eliminated in set function.} {position: None} for query: '\\n        MATCH (t:Tool)\\n        WHERE toLower(t.model_number) STARTS WITH toLower($product_id)\\n        OPTIONAL MATCH (t)-[:BELONGS_TO]->(c:Category)\\n        OPTIONAL MATCH (t)-[:HAS_SPECIFICATION]->(s:Specification)\\n                     OPTIONAL MATCH (s)-[:HAS_UNIT]->(u:Unit)\\n                     OPTIONAL MATCH (s)-[:HAS_MIN_LIMIT]->(mn:RangeLimit)\\n                     OPTIONAL MATCH (s)-[:HAS_MAX_LIMIT]->(mx:RangeLimit)\\n        OPTIONAL MATCH (t)-[:COMPATIBLE_WITH]->(a:Accessory)\\n        OPTIONAL MATCH (t)-[:INCLUDES]->(i:IncludedItem)\\n        OPTIONAL MATCH (t)-[:HAS_LIMITATION]->(l:Limitation)\\n        RETURN t,c,\\n               collect(DISTINCT {spec:s,unit:u,min:mn,max:mx}) as specs,\\n               collect(DISTINCT a)  as acc,\\n               collect(DISTINCT i)  as inc,\\n               collect(DISTINCT l)  as lim\\n        '\n",
            "WARNING:neo4j.notifications:Received notification from DBMS server: {severity: WARNING} {code: Neo.ClientNotification.Statement.UnknownRelationshipTypeWarning} {category: UNRECOGNIZED} {title: The provided relationship type is not in the database.} {description: One of the relationship types in your query is not available in the database, make sure you didn't misspell it or that the label is available when you run this statement in your application (the missing relationship type is: COMPATIBLE_WITH)} {position: line: 9, column: 30, offset: 456} for query: '\\n        MATCH (t:Tool)\\n        WHERE toLower(t.model_number) STARTS WITH toLower($product_id)\\n        OPTIONAL MATCH (t)-[:BELONGS_TO]->(c:Category)\\n        OPTIONAL MATCH (t)-[:HAS_SPECIFICATION]->(s:Specification)\\n                     OPTIONAL MATCH (s)-[:HAS_UNIT]->(u:Unit)\\n                     OPTIONAL MATCH (s)-[:HAS_MIN_LIMIT]->(mn:RangeLimit)\\n                     OPTIONAL MATCH (s)-[:HAS_MAX_LIMIT]->(mx:RangeLimit)\\n        OPTIONAL MATCH (t)-[:COMPATIBLE_WITH]->(a:Accessory)\\n        OPTIONAL MATCH (t)-[:INCLUDES]->(i:IncludedItem)\\n        OPTIONAL MATCH (t)-[:HAS_LIMITATION]->(l:Limitation)\\n        RETURN t,c,\\n               collect(DISTINCT {spec:s,unit:u,min:mn,max:mx}) as specs,\\n               collect(DISTINCT a)  as acc,\\n               collect(DISTINCT i)  as inc,\\n               collect(DISTINCT l)  as lim\\n        '\n",
            "WARNING:neo4j.notifications:Received notification from DBMS server: {severity: WARNING} {code: Neo.ClientNotification.Statement.UnknownLabelWarning} {category: UNRECOGNIZED} {title: The provided label is not in the database.} {description: One of the labels in your query is not available in the database, make sure you didn't misspell it or that the label is available when you run this statement in your application (the missing label name is: Accessory)} {position: line: 9, column: 51, offset: 477} for query: '\\n        MATCH (t:Tool)\\n        WHERE toLower(t.model_number) STARTS WITH toLower($product_id)\\n        OPTIONAL MATCH (t)-[:BELONGS_TO]->(c:Category)\\n        OPTIONAL MATCH (t)-[:HAS_SPECIFICATION]->(s:Specification)\\n                     OPTIONAL MATCH (s)-[:HAS_UNIT]->(u:Unit)\\n                     OPTIONAL MATCH (s)-[:HAS_MIN_LIMIT]->(mn:RangeLimit)\\n                     OPTIONAL MATCH (s)-[:HAS_MAX_LIMIT]->(mx:RangeLimit)\\n        OPTIONAL MATCH (t)-[:COMPATIBLE_WITH]->(a:Accessory)\\n        OPTIONAL MATCH (t)-[:INCLUDES]->(i:IncludedItem)\\n        OPTIONAL MATCH (t)-[:HAS_LIMITATION]->(l:Limitation)\\n        RETURN t,c,\\n               collect(DISTINCT {spec:s,unit:u,min:mn,max:mx}) as specs,\\n               collect(DISTINCT a)  as acc,\\n               collect(DISTINCT i)  as inc,\\n               collect(DISTINCT l)  as lim\\n        '\n",
            "WARNING:neo4j.notifications:Received notification from DBMS server: {severity: WARNING} {code: Neo.ClientNotification.Statement.UnknownRelationshipTypeWarning} {category: UNRECOGNIZED} {title: The provided relationship type is not in the database.} {description: One of the relationship types in your query is not available in the database, make sure you didn't misspell it or that the label is available when you run this statement in your application (the missing relationship type is: INCLUDES)} {position: line: 10, column: 30, offset: 517} for query: '\\n        MATCH (t:Tool)\\n        WHERE toLower(t.model_number) STARTS WITH toLower($product_id)\\n        OPTIONAL MATCH (t)-[:BELONGS_TO]->(c:Category)\\n        OPTIONAL MATCH (t)-[:HAS_SPECIFICATION]->(s:Specification)\\n                     OPTIONAL MATCH (s)-[:HAS_UNIT]->(u:Unit)\\n                     OPTIONAL MATCH (s)-[:HAS_MIN_LIMIT]->(mn:RangeLimit)\\n                     OPTIONAL MATCH (s)-[:HAS_MAX_LIMIT]->(mx:RangeLimit)\\n        OPTIONAL MATCH (t)-[:COMPATIBLE_WITH]->(a:Accessory)\\n        OPTIONAL MATCH (t)-[:INCLUDES]->(i:IncludedItem)\\n        OPTIONAL MATCH (t)-[:HAS_LIMITATION]->(l:Limitation)\\n        RETURN t,c,\\n               collect(DISTINCT {spec:s,unit:u,min:mn,max:mx}) as specs,\\n               collect(DISTINCT a)  as acc,\\n               collect(DISTINCT i)  as inc,\\n               collect(DISTINCT l)  as lim\\n        '\n",
            "WARNING:neo4j.notifications:Received notification from DBMS server: {severity: WARNING} {code: Neo.ClientNotification.Statement.UnknownLabelWarning} {category: UNRECOGNIZED} {title: The provided label is not in the database.} {description: One of the labels in your query is not available in the database, make sure you didn't misspell it or that the label is available when you run this statement in your application (the missing label name is: IncludedItem)} {position: line: 10, column: 44, offset: 531} for query: '\\n        MATCH (t:Tool)\\n        WHERE toLower(t.model_number) STARTS WITH toLower($product_id)\\n        OPTIONAL MATCH (t)-[:BELONGS_TO]->(c:Category)\\n        OPTIONAL MATCH (t)-[:HAS_SPECIFICATION]->(s:Specification)\\n                     OPTIONAL MATCH (s)-[:HAS_UNIT]->(u:Unit)\\n                     OPTIONAL MATCH (s)-[:HAS_MIN_LIMIT]->(mn:RangeLimit)\\n                     OPTIONAL MATCH (s)-[:HAS_MAX_LIMIT]->(mx:RangeLimit)\\n        OPTIONAL MATCH (t)-[:COMPATIBLE_WITH]->(a:Accessory)\\n        OPTIONAL MATCH (t)-[:INCLUDES]->(i:IncludedItem)\\n        OPTIONAL MATCH (t)-[:HAS_LIMITATION]->(l:Limitation)\\n        RETURN t,c,\\n               collect(DISTINCT {spec:s,unit:u,min:mn,max:mx}) as specs,\\n               collect(DISTINCT a)  as acc,\\n               collect(DISTINCT i)  as inc,\\n               collect(DISTINCT l)  as lim\\n        '\n",
            "WARNING:neo4j.notifications:Received notification from DBMS server: {severity: WARNING} {code: Neo.ClientNotification.Statement.AggregationSkippedNull} {category: UNRECOGNIZED} {title: The query contains an aggregation function that skips null values.} {description: null value eliminated in set function.} {position: None} for query: '\\n        MATCH (t:Tool)\\n        WHERE toLower(t.model_number) STARTS WITH toLower($product_id)\\n        OPTIONAL MATCH (t)-[:BELONGS_TO]->(c:Category)\\n        OPTIONAL MATCH (t)-[:HAS_SPECIFICATION]->(s:Specification)\\n                     OPTIONAL MATCH (s)-[:HAS_UNIT]->(u:Unit)\\n                     OPTIONAL MATCH (s)-[:HAS_MIN_LIMIT]->(mn:RangeLimit)\\n                     OPTIONAL MATCH (s)-[:HAS_MAX_LIMIT]->(mx:RangeLimit)\\n        OPTIONAL MATCH (t)-[:COMPATIBLE_WITH]->(a:Accessory)\\n        OPTIONAL MATCH (t)-[:INCLUDES]->(i:IncludedItem)\\n        OPTIONAL MATCH (t)-[:HAS_LIMITATION]->(l:Limitation)\\n        RETURN t,c,\\n               collect(DISTINCT {spec:s,unit:u,min:mn,max:mx}) as specs,\\n               collect(DISTINCT a)  as acc,\\n               collect(DISTINCT i)  as inc,\\n               collect(DISTINCT l)  as lim\\n        '\n",
            "WARNING:neo4j.notifications:Received notification from DBMS server: {severity: WARNING} {code: Neo.ClientNotification.Statement.UnknownRelationshipTypeWarning} {category: UNRECOGNIZED} {title: The provided relationship type is not in the database.} {description: One of the relationship types in your query is not available in the database, make sure you didn't misspell it or that the label is available when you run this statement in your application (the missing relationship type is: COMPATIBLE_WITH)} {position: line: 9, column: 30, offset: 456} for query: '\\n        MATCH (t:Tool)\\n        WHERE toLower(t.model_number) STARTS WITH toLower($product_id)\\n        OPTIONAL MATCH (t)-[:BELONGS_TO]->(c:Category)\\n        OPTIONAL MATCH (t)-[:HAS_SPECIFICATION]->(s:Specification)\\n                     OPTIONAL MATCH (s)-[:HAS_UNIT]->(u:Unit)\\n                     OPTIONAL MATCH (s)-[:HAS_MIN_LIMIT]->(mn:RangeLimit)\\n                     OPTIONAL MATCH (s)-[:HAS_MAX_LIMIT]->(mx:RangeLimit)\\n        OPTIONAL MATCH (t)-[:COMPATIBLE_WITH]->(a:Accessory)\\n        OPTIONAL MATCH (t)-[:INCLUDES]->(i:IncludedItem)\\n        OPTIONAL MATCH (t)-[:HAS_LIMITATION]->(l:Limitation)\\n        RETURN t,c,\\n               collect(DISTINCT {spec:s,unit:u,min:mn,max:mx}) as specs,\\n               collect(DISTINCT a)  as acc,\\n               collect(DISTINCT i)  as inc,\\n               collect(DISTINCT l)  as lim\\n        '\n",
            "WARNING:neo4j.notifications:Received notification from DBMS server: {severity: WARNING} {code: Neo.ClientNotification.Statement.UnknownLabelWarning} {category: UNRECOGNIZED} {title: The provided label is not in the database.} {description: One of the labels in your query is not available in the database, make sure you didn't misspell it or that the label is available when you run this statement in your application (the missing label name is: Accessory)} {position: line: 9, column: 51, offset: 477} for query: '\\n        MATCH (t:Tool)\\n        WHERE toLower(t.model_number) STARTS WITH toLower($product_id)\\n        OPTIONAL MATCH (t)-[:BELONGS_TO]->(c:Category)\\n        OPTIONAL MATCH (t)-[:HAS_SPECIFICATION]->(s:Specification)\\n                     OPTIONAL MATCH (s)-[:HAS_UNIT]->(u:Unit)\\n                     OPTIONAL MATCH (s)-[:HAS_MIN_LIMIT]->(mn:RangeLimit)\\n                     OPTIONAL MATCH (s)-[:HAS_MAX_LIMIT]->(mx:RangeLimit)\\n        OPTIONAL MATCH (t)-[:COMPATIBLE_WITH]->(a:Accessory)\\n        OPTIONAL MATCH (t)-[:INCLUDES]->(i:IncludedItem)\\n        OPTIONAL MATCH (t)-[:HAS_LIMITATION]->(l:Limitation)\\n        RETURN t,c,\\n               collect(DISTINCT {spec:s,unit:u,min:mn,max:mx}) as specs,\\n               collect(DISTINCT a)  as acc,\\n               collect(DISTINCT i)  as inc,\\n               collect(DISTINCT l)  as lim\\n        '\n",
            "WARNING:neo4j.notifications:Received notification from DBMS server: {severity: WARNING} {code: Neo.ClientNotification.Statement.UnknownRelationshipTypeWarning} {category: UNRECOGNIZED} {title: The provided relationship type is not in the database.} {description: One of the relationship types in your query is not available in the database, make sure you didn't misspell it or that the label is available when you run this statement in your application (the missing relationship type is: INCLUDES)} {position: line: 10, column: 30, offset: 517} for query: '\\n        MATCH (t:Tool)\\n        WHERE toLower(t.model_number) STARTS WITH toLower($product_id)\\n        OPTIONAL MATCH (t)-[:BELONGS_TO]->(c:Category)\\n        OPTIONAL MATCH (t)-[:HAS_SPECIFICATION]->(s:Specification)\\n                     OPTIONAL MATCH (s)-[:HAS_UNIT]->(u:Unit)\\n                     OPTIONAL MATCH (s)-[:HAS_MIN_LIMIT]->(mn:RangeLimit)\\n                     OPTIONAL MATCH (s)-[:HAS_MAX_LIMIT]->(mx:RangeLimit)\\n        OPTIONAL MATCH (t)-[:COMPATIBLE_WITH]->(a:Accessory)\\n        OPTIONAL MATCH (t)-[:INCLUDES]->(i:IncludedItem)\\n        OPTIONAL MATCH (t)-[:HAS_LIMITATION]->(l:Limitation)\\n        RETURN t,c,\\n               collect(DISTINCT {spec:s,unit:u,min:mn,max:mx}) as specs,\\n               collect(DISTINCT a)  as acc,\\n               collect(DISTINCT i)  as inc,\\n               collect(DISTINCT l)  as lim\\n        '\n",
            "WARNING:neo4j.notifications:Received notification from DBMS server: {severity: WARNING} {code: Neo.ClientNotification.Statement.UnknownLabelWarning} {category: UNRECOGNIZED} {title: The provided label is not in the database.} {description: One of the labels in your query is not available in the database, make sure you didn't misspell it or that the label is available when you run this statement in your application (the missing label name is: IncludedItem)} {position: line: 10, column: 44, offset: 531} for query: '\\n        MATCH (t:Tool)\\n        WHERE toLower(t.model_number) STARTS WITH toLower($product_id)\\n        OPTIONAL MATCH (t)-[:BELONGS_TO]->(c:Category)\\n        OPTIONAL MATCH (t)-[:HAS_SPECIFICATION]->(s:Specification)\\n                     OPTIONAL MATCH (s)-[:HAS_UNIT]->(u:Unit)\\n                     OPTIONAL MATCH (s)-[:HAS_MIN_LIMIT]->(mn:RangeLimit)\\n                     OPTIONAL MATCH (s)-[:HAS_MAX_LIMIT]->(mx:RangeLimit)\\n        OPTIONAL MATCH (t)-[:COMPATIBLE_WITH]->(a:Accessory)\\n        OPTIONAL MATCH (t)-[:INCLUDES]->(i:IncludedItem)\\n        OPTIONAL MATCH (t)-[:HAS_LIMITATION]->(l:Limitation)\\n        RETURN t,c,\\n               collect(DISTINCT {spec:s,unit:u,min:mn,max:mx}) as specs,\\n               collect(DISTINCT a)  as acc,\\n               collect(DISTINCT i)  as inc,\\n               collect(DISTINCT l)  as lim\\n        '\n",
            "WARNING:neo4j.notifications:Received notification from DBMS server: {severity: WARNING} {code: Neo.ClientNotification.Statement.AggregationSkippedNull} {category: UNRECOGNIZED} {title: The query contains an aggregation function that skips null values.} {description: null value eliminated in set function.} {position: None} for query: '\\n        MATCH (t:Tool)\\n        WHERE toLower(t.model_number) STARTS WITH toLower($product_id)\\n        OPTIONAL MATCH (t)-[:BELONGS_TO]->(c:Category)\\n        OPTIONAL MATCH (t)-[:HAS_SPECIFICATION]->(s:Specification)\\n                     OPTIONAL MATCH (s)-[:HAS_UNIT]->(u:Unit)\\n                     OPTIONAL MATCH (s)-[:HAS_MIN_LIMIT]->(mn:RangeLimit)\\n                     OPTIONAL MATCH (s)-[:HAS_MAX_LIMIT]->(mx:RangeLimit)\\n        OPTIONAL MATCH (t)-[:COMPATIBLE_WITH]->(a:Accessory)\\n        OPTIONAL MATCH (t)-[:INCLUDES]->(i:IncludedItem)\\n        OPTIONAL MATCH (t)-[:HAS_LIMITATION]->(l:Limitation)\\n        RETURN t,c,\\n               collect(DISTINCT {spec:s,unit:u,min:mn,max:mx}) as specs,\\n               collect(DISTINCT a)  as acc,\\n               collect(DISTINCT i)  as inc,\\n               collect(DISTINCT l)  as lim\\n        '\n",
            "WARNING:neo4j.notifications:Received notification from DBMS server: {severity: WARNING} {code: Neo.ClientNotification.Statement.UnknownRelationshipTypeWarning} {category: UNRECOGNIZED} {title: The provided relationship type is not in the database.} {description: One of the relationship types in your query is not available in the database, make sure you didn't misspell it or that the label is available when you run this statement in your application (the missing relationship type is: COMPATIBLE_WITH)} {position: line: 9, column: 30, offset: 456} for query: '\\n        MATCH (t:Tool)\\n        WHERE toLower(t.model_number) STARTS WITH toLower($product_id)\\n        OPTIONAL MATCH (t)-[:BELONGS_TO]->(c:Category)\\n        OPTIONAL MATCH (t)-[:HAS_SPECIFICATION]->(s:Specification)\\n                     OPTIONAL MATCH (s)-[:HAS_UNIT]->(u:Unit)\\n                     OPTIONAL MATCH (s)-[:HAS_MIN_LIMIT]->(mn:RangeLimit)\\n                     OPTIONAL MATCH (s)-[:HAS_MAX_LIMIT]->(mx:RangeLimit)\\n        OPTIONAL MATCH (t)-[:COMPATIBLE_WITH]->(a:Accessory)\\n        OPTIONAL MATCH (t)-[:INCLUDES]->(i:IncludedItem)\\n        OPTIONAL MATCH (t)-[:HAS_LIMITATION]->(l:Limitation)\\n        RETURN t,c,\\n               collect(DISTINCT {spec:s,unit:u,min:mn,max:mx}) as specs,\\n               collect(DISTINCT a)  as acc,\\n               collect(DISTINCT i)  as inc,\\n               collect(DISTINCT l)  as lim\\n        '\n",
            "WARNING:neo4j.notifications:Received notification from DBMS server: {severity: WARNING} {code: Neo.ClientNotification.Statement.UnknownLabelWarning} {category: UNRECOGNIZED} {title: The provided label is not in the database.} {description: One of the labels in your query is not available in the database, make sure you didn't misspell it or that the label is available when you run this statement in your application (the missing label name is: Accessory)} {position: line: 9, column: 51, offset: 477} for query: '\\n        MATCH (t:Tool)\\n        WHERE toLower(t.model_number) STARTS WITH toLower($product_id)\\n        OPTIONAL MATCH (t)-[:BELONGS_TO]->(c:Category)\\n        OPTIONAL MATCH (t)-[:HAS_SPECIFICATION]->(s:Specification)\\n                     OPTIONAL MATCH (s)-[:HAS_UNIT]->(u:Unit)\\n                     OPTIONAL MATCH (s)-[:HAS_MIN_LIMIT]->(mn:RangeLimit)\\n                     OPTIONAL MATCH (s)-[:HAS_MAX_LIMIT]->(mx:RangeLimit)\\n        OPTIONAL MATCH (t)-[:COMPATIBLE_WITH]->(a:Accessory)\\n        OPTIONAL MATCH (t)-[:INCLUDES]->(i:IncludedItem)\\n        OPTIONAL MATCH (t)-[:HAS_LIMITATION]->(l:Limitation)\\n        RETURN t,c,\\n               collect(DISTINCT {spec:s,unit:u,min:mn,max:mx}) as specs,\\n               collect(DISTINCT a)  as acc,\\n               collect(DISTINCT i)  as inc,\\n               collect(DISTINCT l)  as lim\\n        '\n",
            "WARNING:neo4j.notifications:Received notification from DBMS server: {severity: WARNING} {code: Neo.ClientNotification.Statement.UnknownRelationshipTypeWarning} {category: UNRECOGNIZED} {title: The provided relationship type is not in the database.} {description: One of the relationship types in your query is not available in the database, make sure you didn't misspell it or that the label is available when you run this statement in your application (the missing relationship type is: INCLUDES)} {position: line: 10, column: 30, offset: 517} for query: '\\n        MATCH (t:Tool)\\n        WHERE toLower(t.model_number) STARTS WITH toLower($product_id)\\n        OPTIONAL MATCH (t)-[:BELONGS_TO]->(c:Category)\\n        OPTIONAL MATCH (t)-[:HAS_SPECIFICATION]->(s:Specification)\\n                     OPTIONAL MATCH (s)-[:HAS_UNIT]->(u:Unit)\\n                     OPTIONAL MATCH (s)-[:HAS_MIN_LIMIT]->(mn:RangeLimit)\\n                     OPTIONAL MATCH (s)-[:HAS_MAX_LIMIT]->(mx:RangeLimit)\\n        OPTIONAL MATCH (t)-[:COMPATIBLE_WITH]->(a:Accessory)\\n        OPTIONAL MATCH (t)-[:INCLUDES]->(i:IncludedItem)\\n        OPTIONAL MATCH (t)-[:HAS_LIMITATION]->(l:Limitation)\\n        RETURN t,c,\\n               collect(DISTINCT {spec:s,unit:u,min:mn,max:mx}) as specs,\\n               collect(DISTINCT a)  as acc,\\n               collect(DISTINCT i)  as inc,\\n               collect(DISTINCT l)  as lim\\n        '\n",
            "WARNING:neo4j.notifications:Received notification from DBMS server: {severity: WARNING} {code: Neo.ClientNotification.Statement.UnknownLabelWarning} {category: UNRECOGNIZED} {title: The provided label is not in the database.} {description: One of the labels in your query is not available in the database, make sure you didn't misspell it or that the label is available when you run this statement in your application (the missing label name is: IncludedItem)} {position: line: 10, column: 44, offset: 531} for query: '\\n        MATCH (t:Tool)\\n        WHERE toLower(t.model_number) STARTS WITH toLower($product_id)\\n        OPTIONAL MATCH (t)-[:BELONGS_TO]->(c:Category)\\n        OPTIONAL MATCH (t)-[:HAS_SPECIFICATION]->(s:Specification)\\n                     OPTIONAL MATCH (s)-[:HAS_UNIT]->(u:Unit)\\n                     OPTIONAL MATCH (s)-[:HAS_MIN_LIMIT]->(mn:RangeLimit)\\n                     OPTIONAL MATCH (s)-[:HAS_MAX_LIMIT]->(mx:RangeLimit)\\n        OPTIONAL MATCH (t)-[:COMPATIBLE_WITH]->(a:Accessory)\\n        OPTIONAL MATCH (t)-[:INCLUDES]->(i:IncludedItem)\\n        OPTIONAL MATCH (t)-[:HAS_LIMITATION]->(l:Limitation)\\n        RETURN t,c,\\n               collect(DISTINCT {spec:s,unit:u,min:mn,max:mx}) as specs,\\n               collect(DISTINCT a)  as acc,\\n               collect(DISTINCT i)  as inc,\\n               collect(DISTINCT l)  as lim\\n        '\n",
            "WARNING:neo4j.notifications:Received notification from DBMS server: {severity: WARNING} {code: Neo.ClientNotification.Statement.AggregationSkippedNull} {category: UNRECOGNIZED} {title: The query contains an aggregation function that skips null values.} {description: null value eliminated in set function.} {position: None} for query: '\\n        MATCH (t:Tool)\\n        WHERE toLower(t.model_number) STARTS WITH toLower($product_id)\\n        OPTIONAL MATCH (t)-[:BELONGS_TO]->(c:Category)\\n        OPTIONAL MATCH (t)-[:HAS_SPECIFICATION]->(s:Specification)\\n                     OPTIONAL MATCH (s)-[:HAS_UNIT]->(u:Unit)\\n                     OPTIONAL MATCH (s)-[:HAS_MIN_LIMIT]->(mn:RangeLimit)\\n                     OPTIONAL MATCH (s)-[:HAS_MAX_LIMIT]->(mx:RangeLimit)\\n        OPTIONAL MATCH (t)-[:COMPATIBLE_WITH]->(a:Accessory)\\n        OPTIONAL MATCH (t)-[:INCLUDES]->(i:IncludedItem)\\n        OPTIONAL MATCH (t)-[:HAS_LIMITATION]->(l:Limitation)\\n        RETURN t,c,\\n               collect(DISTINCT {spec:s,unit:u,min:mn,max:mx}) as specs,\\n               collect(DISTINCT a)  as acc,\\n               collect(DISTINCT i)  as inc,\\n               collect(DISTINCT l)  as lim\\n        '\n",
            "WARNING:neo4j.notifications:Received notification from DBMS server: {severity: WARNING} {code: Neo.ClientNotification.Statement.UnknownRelationshipTypeWarning} {category: UNRECOGNIZED} {title: The provided relationship type is not in the database.} {description: One of the relationship types in your query is not available in the database, make sure you didn't misspell it or that the label is available when you run this statement in your application (the missing relationship type is: COMPATIBLE_WITH)} {position: line: 9, column: 30, offset: 456} for query: '\\n        MATCH (t:Tool)\\n        WHERE toLower(t.model_number) STARTS WITH toLower($product_id)\\n        OPTIONAL MATCH (t)-[:BELONGS_TO]->(c:Category)\\n        OPTIONAL MATCH (t)-[:HAS_SPECIFICATION]->(s:Specification)\\n                     OPTIONAL MATCH (s)-[:HAS_UNIT]->(u:Unit)\\n                     OPTIONAL MATCH (s)-[:HAS_MIN_LIMIT]->(mn:RangeLimit)\\n                     OPTIONAL MATCH (s)-[:HAS_MAX_LIMIT]->(mx:RangeLimit)\\n        OPTIONAL MATCH (t)-[:COMPATIBLE_WITH]->(a:Accessory)\\n        OPTIONAL MATCH (t)-[:INCLUDES]->(i:IncludedItem)\\n        OPTIONAL MATCH (t)-[:HAS_LIMITATION]->(l:Limitation)\\n        RETURN t,c,\\n               collect(DISTINCT {spec:s,unit:u,min:mn,max:mx}) as specs,\\n               collect(DISTINCT a)  as acc,\\n               collect(DISTINCT i)  as inc,\\n               collect(DISTINCT l)  as lim\\n        '\n",
            "WARNING:neo4j.notifications:Received notification from DBMS server: {severity: WARNING} {code: Neo.ClientNotification.Statement.UnknownLabelWarning} {category: UNRECOGNIZED} {title: The provided label is not in the database.} {description: One of the labels in your query is not available in the database, make sure you didn't misspell it or that the label is available when you run this statement in your application (the missing label name is: Accessory)} {position: line: 9, column: 51, offset: 477} for query: '\\n        MATCH (t:Tool)\\n        WHERE toLower(t.model_number) STARTS WITH toLower($product_id)\\n        OPTIONAL MATCH (t)-[:BELONGS_TO]->(c:Category)\\n        OPTIONAL MATCH (t)-[:HAS_SPECIFICATION]->(s:Specification)\\n                     OPTIONAL MATCH (s)-[:HAS_UNIT]->(u:Unit)\\n                     OPTIONAL MATCH (s)-[:HAS_MIN_LIMIT]->(mn:RangeLimit)\\n                     OPTIONAL MATCH (s)-[:HAS_MAX_LIMIT]->(mx:RangeLimit)\\n        OPTIONAL MATCH (t)-[:COMPATIBLE_WITH]->(a:Accessory)\\n        OPTIONAL MATCH (t)-[:INCLUDES]->(i:IncludedItem)\\n        OPTIONAL MATCH (t)-[:HAS_LIMITATION]->(l:Limitation)\\n        RETURN t,c,\\n               collect(DISTINCT {spec:s,unit:u,min:mn,max:mx}) as specs,\\n               collect(DISTINCT a)  as acc,\\n               collect(DISTINCT i)  as inc,\\n               collect(DISTINCT l)  as lim\\n        '\n",
            "WARNING:neo4j.notifications:Received notification from DBMS server: {severity: WARNING} {code: Neo.ClientNotification.Statement.UnknownRelationshipTypeWarning} {category: UNRECOGNIZED} {title: The provided relationship type is not in the database.} {description: One of the relationship types in your query is not available in the database, make sure you didn't misspell it or that the label is available when you run this statement in your application (the missing relationship type is: INCLUDES)} {position: line: 10, column: 30, offset: 517} for query: '\\n        MATCH (t:Tool)\\n        WHERE toLower(t.model_number) STARTS WITH toLower($product_id)\\n        OPTIONAL MATCH (t)-[:BELONGS_TO]->(c:Category)\\n        OPTIONAL MATCH (t)-[:HAS_SPECIFICATION]->(s:Specification)\\n                     OPTIONAL MATCH (s)-[:HAS_UNIT]->(u:Unit)\\n                     OPTIONAL MATCH (s)-[:HAS_MIN_LIMIT]->(mn:RangeLimit)\\n                     OPTIONAL MATCH (s)-[:HAS_MAX_LIMIT]->(mx:RangeLimit)\\n        OPTIONAL MATCH (t)-[:COMPATIBLE_WITH]->(a:Accessory)\\n        OPTIONAL MATCH (t)-[:INCLUDES]->(i:IncludedItem)\\n        OPTIONAL MATCH (t)-[:HAS_LIMITATION]->(l:Limitation)\\n        RETURN t,c,\\n               collect(DISTINCT {spec:s,unit:u,min:mn,max:mx}) as specs,\\n               collect(DISTINCT a)  as acc,\\n               collect(DISTINCT i)  as inc,\\n               collect(DISTINCT l)  as lim\\n        '\n",
            "WARNING:neo4j.notifications:Received notification from DBMS server: {severity: WARNING} {code: Neo.ClientNotification.Statement.UnknownLabelWarning} {category: UNRECOGNIZED} {title: The provided label is not in the database.} {description: One of the labels in your query is not available in the database, make sure you didn't misspell it or that the label is available when you run this statement in your application (the missing label name is: IncludedItem)} {position: line: 10, column: 44, offset: 531} for query: '\\n        MATCH (t:Tool)\\n        WHERE toLower(t.model_number) STARTS WITH toLower($product_id)\\n        OPTIONAL MATCH (t)-[:BELONGS_TO]->(c:Category)\\n        OPTIONAL MATCH (t)-[:HAS_SPECIFICATION]->(s:Specification)\\n                     OPTIONAL MATCH (s)-[:HAS_UNIT]->(u:Unit)\\n                     OPTIONAL MATCH (s)-[:HAS_MIN_LIMIT]->(mn:RangeLimit)\\n                     OPTIONAL MATCH (s)-[:HAS_MAX_LIMIT]->(mx:RangeLimit)\\n        OPTIONAL MATCH (t)-[:COMPATIBLE_WITH]->(a:Accessory)\\n        OPTIONAL MATCH (t)-[:INCLUDES]->(i:IncludedItem)\\n        OPTIONAL MATCH (t)-[:HAS_LIMITATION]->(l:Limitation)\\n        RETURN t,c,\\n               collect(DISTINCT {spec:s,unit:u,min:mn,max:mx}) as specs,\\n               collect(DISTINCT a)  as acc,\\n               collect(DISTINCT i)  as inc,\\n               collect(DISTINCT l)  as lim\\n        '\n",
            "WARNING:neo4j.notifications:Received notification from DBMS server: {severity: WARNING} {code: Neo.ClientNotification.Statement.AggregationSkippedNull} {category: UNRECOGNIZED} {title: The query contains an aggregation function that skips null values.} {description: null value eliminated in set function.} {position: None} for query: '\\n        MATCH (t:Tool)\\n        WHERE toLower(t.model_number) STARTS WITH toLower($product_id)\\n        OPTIONAL MATCH (t)-[:BELONGS_TO]->(c:Category)\\n        OPTIONAL MATCH (t)-[:HAS_SPECIFICATION]->(s:Specification)\\n                     OPTIONAL MATCH (s)-[:HAS_UNIT]->(u:Unit)\\n                     OPTIONAL MATCH (s)-[:HAS_MIN_LIMIT]->(mn:RangeLimit)\\n                     OPTIONAL MATCH (s)-[:HAS_MAX_LIMIT]->(mx:RangeLimit)\\n        OPTIONAL MATCH (t)-[:COMPATIBLE_WITH]->(a:Accessory)\\n        OPTIONAL MATCH (t)-[:INCLUDES]->(i:IncludedItem)\\n        OPTIONAL MATCH (t)-[:HAS_LIMITATION]->(l:Limitation)\\n        RETURN t,c,\\n               collect(DISTINCT {spec:s,unit:u,min:mn,max:mx}) as specs,\\n               collect(DISTINCT a)  as acc,\\n               collect(DISTINCT i)  as inc,\\n               collect(DISTINCT l)  as lim\\n        '\n"
          ]
        },
        {
          "output_type": "stream",
          "name": "stdout",
          "text": [
            "🔖  Saved results ➜ /content/Synthetic_Dataset_small_analyzed.xlsx\n",
            "No ground-truth rows\n"
          ]
        }
      ]
    },
    {
      "cell_type": "markdown",
      "source": [
        "# Classification Report"
      ],
      "metadata": {
        "id": "al5IUyLWVt85"
      }
    },
    {
      "cell_type": "code",
      "source": [
        "import pandas as pd\n",
        "\n",
        "df = pd.read_excel('/content/Synthetic_Dataset_small_analyzed.xlsx')\n",
        "print(df.head())\n"
      ],
      "metadata": {
        "id": "0Kbnk183Vsx6",
        "colab": {
          "base_uri": "https://localhost:8080/"
        },
        "outputId": "ba632274-75e1-491e-ee40-81f960ca1572"
      },
      "execution_count": null,
      "outputs": [
        {
          "output_type": "stream",
          "name": "stdout",
          "text": [
            "     Product_ID                Product_Name      Category  \\\n",
            "0      GSH18V-5      GSH18V-5L PROFESSIONAL        Hammer   \n",
            "1      GSH18V-5      GSH18V-5L PROFESSIONAL        Hammer   \n",
            "2      GSH18V-5      GSH18V-5L PROFESSIONAL        Hammer   \n",
            "3      GSH18V-5      GSH18V-5L PROFESSIONAL        Hammer   \n",
            "4  GSR18V-1330C  GSR18V-1330CN PROFESSIONAL  Drill/Driver   \n",
            "\n",
            "                                              Review Review_Date  \\\n",
            "0  This Bosch SDS-max hammer delivers incredible ...  2025-03-12   \n",
            "1  Compact design and powerful impact energy. The...  2025-02-10   \n",
            "2  Great tool for demolition inside tight spaces....  2025-04-02   \n",
            "3  I bought this to drill deep anchor holes into ...  2025-01-15   \n",
            "4  This drill is fantastic for cabinetry and ligh...  2025-03-20   \n",
            "\n",
            "              Error_Type Predicted_Error  \\\n",
            "0                  Clean      Contextual   \n",
            "1                  Clean        Semantic   \n",
            "2                  Clean           Clean   \n",
            "3  Semantic Misalignment      Contextual   \n",
            "4                  Clean           Clean   \n",
            "\n",
            "                                         Explanation  Actual_Error  \n",
            "0  The review mentions \"SDS-max,\" but the product...           NaN  \n",
            "1  The review incorrectly mentions an \"SDS-max ch...           NaN  \n",
            "2  The review aligns with the product's intended ...           NaN  \n",
            "3  The review mentions \"drill\" and \"precise drill...           NaN  \n",
            "4  The review contains no semantic or contextual ...           NaN  \n"
          ]
        }
      ]
    },
    {
      "cell_type": "code",
      "source": [
        "df = df.drop(columns=['Actual_Error'], errors='ignore')\n",
        "df = df.rename(columns={\"Error_Type\": \"Actual_Error\"})\n",
        "print(df.columns.tolist())\n"
      ],
      "metadata": {
        "colab": {
          "base_uri": "https://localhost:8080/"
        },
        "id": "TWXQ0rYJ357S",
        "outputId": "61613e03-700c-4a9a-b3a0-f2bab7d17aa3"
      },
      "execution_count": null,
      "outputs": [
        {
          "output_type": "stream",
          "name": "stdout",
          "text": [
            "['Product_ID', 'Product_Name', 'Category', 'Review', 'Review_Date', 'Actual_Error', 'Predicted_Error', 'Explanation']\n"
          ]
        }
      ]
    },
    {
      "cell_type": "code",
      "source": [
        "mapping = {\n",
        "    'Contextual': 'Specialized Error',\n",
        "    'Semantic': 'Semantic Misalignment'\n",
        "}\n",
        "df['Predicted_Error'] = df['Predicted_Error'].map(mapping).fillna(df['Predicted_Error'])"
      ],
      "metadata": {
        "id": "Tma2RqpZ4jpO"
      },
      "execution_count": null,
      "outputs": []
    },
    {
      "cell_type": "code",
      "source": [
        "import pandas as pd\n",
        "from sklearn.metrics import confusion_matrix, classification_report, accuracy_score\n",
        "import seaborn as sns\n",
        "import matplotlib.pyplot as plt\n",
        "\n",
        "y_true = df[\"Actual_Error\"]\n",
        "y_pred = df[\"Predicted_Error\"]\n",
        "\n",
        "# 2. Define the order of classes so matrix axes align:\n",
        "labels = [\"Clean\", \"Semantic Misalignment\", \"Specialized Error\"]\n",
        "\n",
        "# 3. Compute confusion matrix (raw counts):\n",
        "cm = confusion_matrix(y_true, y_pred, labels=labels)\n",
        "\n",
        "# 4. Display it as a heatmap for readability:\n",
        "plt.figure(figsize=(6,4))\n",
        "sns.heatmap(cm, annot=True, fmt=\"d\", cmap=\"Blues\",\n",
        "            xticklabels=labels, yticklabels=labels)\n",
        "plt.ylabel(\"Actual\")\n",
        "plt.xlabel(\"Predicted\")\n",
        "plt.title(\"Confusion Matrix\")\n",
        "plt.show()\n",
        "\n",
        "# 5. Compute overall accuracy:\n",
        "acc = accuracy_score(y_true, y_pred)\n",
        "print(f\"Accuracy: {acc:.3f}\\n\")\n",
        "\n",
        "# 6. Generate detailed per-class metrics:\n",
        "report = classification_report(y_true, y_pred, labels=labels, zero_division=0)\n",
        "print(\"Classification Report:\\n\", report)"
      ],
      "metadata": {
        "colab": {
          "base_uri": "https://localhost:8080/",
          "height": 804
        },
        "id": "hLDibPxX7sBt",
        "outputId": "97d72814-28b6-40a4-8157-79b7913f9f97"
      },
      "execution_count": null,
      "outputs": [
        {
          "output_type": "display_data",
          "data": {
            "text/plain": [
              "<Figure size 600x400 with 2 Axes>"
            ],
            "image/png": "[encoded data removed]"
          },
          "metadata": {}
        },
        {
          "output_type": "stream",
          "name": "stdout",
          "text": [
            "Accuracy: 0.714\n",
            "\n",
            "Classification Report:\n",
            "                        precision    recall  f1-score   support\n",
            "\n",
            "                Clean       1.00      0.60      0.75        10\n",
            "Semantic Misalignment       0.67      0.50      0.57         4\n",
            "    Specialized Error       0.58      1.00      0.74         7\n",
            "\n",
            "             accuracy                           0.71        21\n",
            "            macro avg       0.75      0.70      0.69        21\n",
            "         weighted avg       0.80      0.71      0.71        21\n",
            "\n"
          ]
        }
      ]
    },
    {
      "cell_type": "code",
      "source": [
        "import pandas as pd\n",
        "from sklearn.metrics import accuracy_score\n",
        "\n",
        "labels = [\"Clean\", \"Semantic Misalignment\", \"Specialized Error\"]\n",
        "\n",
        "for label in labels:\n",
        "    # select only the rows where the actual label is `label`\n",
        "    mask = df[\"Actual_Error\"] == label\n",
        "\n",
        "    # compute accuracy on that subset\n",
        "    acc = accuracy_score(\n",
        "        df.loc[mask, \"Actual_Error\"],\n",
        "        df.loc[mask, \"Predicted_Error\"]\n",
        "    )\n",
        "    print(f\"{label:22s} accuracy: {acc:.3f}  (n={mask.sum()})\")"
      ],
      "metadata": {
        "colab": {
          "base_uri": "https://localhost:8080/"
        },
        "id": "_M8eZldJ_PPQ",
        "outputId": "2f31e338-8b10-432c-9df3-c8a9ce523b25"
      },
      "execution_count": null,
      "outputs": [
        {
          "output_type": "stream",
          "name": "stdout",
          "text": [
            "Clean                  accuracy: 0.600  (n=10)\n",
            "Semantic Misalignment  accuracy: 0.500  (n=4)\n",
            "Specialized Error      accuracy: 1.000  (n=7)\n"
          ]
        }
      ]
    },
    {
      "cell_type": "code",
      "source": [],
      "metadata": {
        "id": "GpJEwpi-ua32"
      },
      "execution_count": null,
      "outputs": []
    }
  ]
}